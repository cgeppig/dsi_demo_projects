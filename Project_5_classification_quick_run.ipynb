{
 "cells": [
  {
   "cell_type": "code",
   "execution_count": 436,
   "metadata": {
    "collapsed": false
   },
   "outputs": [],
   "source": [
    "import pandas as pd\n",
    "import numpy as np\n",
    "import matplotlib.pyplot as plt\n",
    "%matplotlib inline\n",
    "from sklearn.cross_validation import train_test_split\n",
    "from sklearn.linear_model import LogisticRegression\n",
    "from sklearn.ensemble import GradientBoostingClassifier\n",
    "from sklearn.ensemble import AdaBoostClassifier\n",
    "from sklearn.ensemble import RandomForestClassifier\n",
    "from sklearn.ensemble import ExtraTreesClassifier\n",
    "from sklearn.metrics import confusion_matrix, classification_report\n",
    "from sklearn.ensemble import BaggingClassifier\n"
   ]
  },
  {
   "cell_type": "code",
   "execution_count": 437,
   "metadata": {
    "collapsed": true
   },
   "outputs": [],
   "source": [
    "school = pd.read_csv('Datasets/project_5_data/classification/school_data_training.csv')"
   ]
  },
  {
   "cell_type": "code",
   "execution_count": 438,
   "metadata": {
    "collapsed": false
   },
   "outputs": [
    {
     "data": {
      "text/plain": [
       "count       414\n",
       "unique      127\n",
       "top       95.5%\n",
       "freq         23\n",
       "Name: Average Student Attendance, dtype: object"
      ]
     },
     "execution_count": 438,
     "metadata": {},
     "output_type": "execute_result"
    }
   ],
   "source": [
    "school['Average Student Attendance'].describe()"
   ]
  },
  {
   "cell_type": "code",
   "execution_count": 442,
   "metadata": {
    "collapsed": true
   },
   "outputs": [],
   "source": [
    "pd.set_option('max_seq_items', 200)\n",
    "pd.set_option(\"display.max_columns\", 100)"
   ]
  },
  {
   "cell_type": "code",
   "execution_count": 447,
   "metadata": {
    "collapsed": false
   },
   "outputs": [
    {
     "data": {
      "text/plain": [
       "Name of School                                        0\n",
       "Elementary, Middle, or High School                    0\n",
       "Street Address                                        0\n",
       "ZIP Code                                              0\n",
       "Link                                                  0\n",
       "Healthy Schools Certified?                            0\n",
       "Safety Icon                                           0\n",
       "Safety Score                                         34\n",
       "Family Involvement Icon                               0\n",
       "Family Involvement Score                              0\n",
       "Environment Icon                                      0\n",
       "Environment Score                                    34\n",
       "Instruction Icon                                      0\n",
       "Instruction Score                                    34\n",
       "Leaders Icon                                          0\n",
       "Leaders Score                                         0\n",
       "Teachers Icon                                         0\n",
       "Teachers Score                                        0\n",
       "Parent Engagement Icon                                0\n",
       "Parent Engagement Score                               0\n",
       "Parent Environment Icon                               0\n",
       "Parent Environment Score                              0\n",
       "Average Student Attendance                            0\n",
       "Rate of Misconducts (per 100 students)                0\n",
       "Average Teacher Attendance                            0\n",
       "Individualized Education Program Compliance Rate      0\n",
       "Pk-2 Literacy %                                       0\n",
       "Pk-2 Math %                                           0\n",
       "Gr3-5 Grade Level Math %                              0\n",
       "Gr3-5 Grade Level Read %                              0\n",
       "                                                     ..\n",
       "Gr6-8 Keep Pace Read %                                0\n",
       "Gr-8 Explore Math %                                   0\n",
       "Gr-8 Explore Read %                                   0\n",
       "ISAT Exceeding Math %                                60\n",
       "ISAT Exceeding Reading %                             60\n",
       "ISAT Value Add Math                                  66\n",
       "ISAT Value Add Read                                  66\n",
       "ISAT Value Add Color Math                             0\n",
       "ISAT Value Add Color Read                             0\n",
       "Students Taking  Algebra %                            0\n",
       "Students Passing  Algebra %                           0\n",
       "9th Grade EXPLORE (2009)                              0\n",
       "9th Grade EXPLORE (2010)                              0\n",
       "10th Grade PLAN (2009)                                0\n",
       "10th Grade PLAN (2010)                                0\n",
       "Net Change EXPLORE and PLAN                           0\n",
       "11th Grade Average ACT (2011)                         0\n",
       "Net Change PLAN and ACT                               0\n",
       "College Eligibility %                                 0\n",
       "Graduation Rate %                                     0\n",
       "College Enrollment Rate %                             0\n",
       "College Enrollment (number of students)               0\n",
       "General Services Route                                0\n",
       "Freshman on Track Rate %                              0\n",
       "Community Area Number                                 0\n",
       "Community Area Name                                   0\n",
       "Ward                                                  0\n",
       "Police District                                       0\n",
       "probation                                             0\n",
       "Id                                                    0\n",
       "dtype: int64"
      ]
     },
     "execution_count": 447,
     "metadata": {},
     "output_type": "execute_result"
    }
   ],
   "source": [
    "school.isnull().sum()"
   ]
  },
  {
   "cell_type": "code",
   "execution_count": 439,
   "metadata": {
    "collapsed": false,
    "scrolled": false
   },
   "outputs": [
    {
     "data": {
      "text/html": [
       "<div>\n",
       "<table border=\"1\" class=\"dataframe\">\n",
       "  <thead>\n",
       "    <tr style=\"text-align: right;\">\n",
       "      <th></th>\n",
       "      <th>Name of School</th>\n",
       "      <th>Elementary, Middle, or High School</th>\n",
       "      <th>Street Address</th>\n",
       "      <th>ZIP Code</th>\n",
       "      <th>Link</th>\n",
       "      <th>Healthy Schools Certified?</th>\n",
       "      <th>Safety Icon</th>\n",
       "      <th>Safety Score</th>\n",
       "      <th>Family Involvement Icon</th>\n",
       "      <th>Family Involvement Score</th>\n",
       "      <th>Environment Icon</th>\n",
       "      <th>Environment Score</th>\n",
       "      <th>Instruction Icon</th>\n",
       "      <th>Instruction Score</th>\n",
       "      <th>Leaders Icon</th>\n",
       "      <th>Leaders Score</th>\n",
       "      <th>Teachers Icon</th>\n",
       "      <th>Teachers Score</th>\n",
       "      <th>Parent Engagement Icon</th>\n",
       "      <th>Parent Engagement Score</th>\n",
       "      <th>Parent Environment Icon</th>\n",
       "      <th>Parent Environment Score</th>\n",
       "      <th>Average Student Attendance</th>\n",
       "      <th>Rate of Misconducts (per 100 students)</th>\n",
       "      <th>Average Teacher Attendance</th>\n",
       "      <th>Individualized Education Program Compliance Rate</th>\n",
       "      <th>Pk-2 Literacy %</th>\n",
       "      <th>Pk-2 Math %</th>\n",
       "      <th>Gr3-5 Grade Level Math %</th>\n",
       "      <th>Gr3-5 Grade Level Read %</th>\n",
       "      <th>Gr3-5 Keep Pace Read %</th>\n",
       "      <th>Gr3-5 Keep Pace Math %</th>\n",
       "      <th>Gr6-8 Grade Level Math %</th>\n",
       "      <th>Gr6-8 Grade Level Read %</th>\n",
       "      <th>Gr6-8 Keep Pace Math%</th>\n",
       "      <th>Gr6-8 Keep Pace Read %</th>\n",
       "      <th>Gr-8 Explore Math %</th>\n",
       "      <th>Gr-8 Explore Read %</th>\n",
       "      <th>ISAT Exceeding Math %</th>\n",
       "      <th>ISAT Exceeding Reading %</th>\n",
       "      <th>ISAT Value Add Math</th>\n",
       "      <th>ISAT Value Add Read</th>\n",
       "      <th>ISAT Value Add Color Math</th>\n",
       "      <th>ISAT Value Add Color Read</th>\n",
       "      <th>Students Taking  Algebra %</th>\n",
       "      <th>Students Passing  Algebra %</th>\n",
       "      <th>9th Grade EXPLORE (2009)</th>\n",
       "      <th>9th Grade EXPLORE (2010)</th>\n",
       "      <th>10th Grade PLAN (2009)</th>\n",
       "      <th>10th Grade PLAN (2010)</th>\n",
       "      <th>Net Change EXPLORE and PLAN</th>\n",
       "      <th>11th Grade Average ACT (2011)</th>\n",
       "      <th>Net Change PLAN and ACT</th>\n",
       "      <th>College Eligibility %</th>\n",
       "      <th>Graduation Rate %</th>\n",
       "      <th>College Enrollment Rate %</th>\n",
       "      <th>College Enrollment (number of students)</th>\n",
       "      <th>General Services Route</th>\n",
       "      <th>Freshman on Track Rate %</th>\n",
       "      <th>Community Area Number</th>\n",
       "      <th>Community Area Name</th>\n",
       "      <th>Ward</th>\n",
       "      <th>Police District</th>\n",
       "      <th>probation</th>\n",
       "      <th>Id</th>\n",
       "    </tr>\n",
       "  </thead>\n",
       "  <tbody>\n",
       "    <tr>\n",
       "      <th>0</th>\n",
       "      <td>John Spry Elementary Community School</td>\n",
       "      <td>ES</td>\n",
       "      <td>2400 S Marshall Blvd</td>\n",
       "      <td>60623</td>\n",
       "      <td>http://schoolreports.cps.edu/SchoolProgressRep...</td>\n",
       "      <td>No</td>\n",
       "      <td>Strong</td>\n",
       "      <td>66.0</td>\n",
       "      <td>Average</td>\n",
       "      <td>59</td>\n",
       "      <td>Strong</td>\n",
       "      <td>70.0</td>\n",
       "      <td>Strong</td>\n",
       "      <td>67.0</td>\n",
       "      <td>Average</td>\n",
       "      <td>52</td>\n",
       "      <td>Average</td>\n",
       "      <td>43</td>\n",
       "      <td>Weak</td>\n",
       "      <td>46</td>\n",
       "      <td>Average</td>\n",
       "      <td>48</td>\n",
       "      <td>96.2%</td>\n",
       "      <td>5.9</td>\n",
       "      <td>97.4%</td>\n",
       "      <td>99.0%</td>\n",
       "      <td>44.4</td>\n",
       "      <td>12.8</td>\n",
       "      <td>NDA</td>\n",
       "      <td>NDA</td>\n",
       "      <td>NDA</td>\n",
       "      <td>NDA</td>\n",
       "      <td>NDA</td>\n",
       "      <td>NDA</td>\n",
       "      <td>NDA</td>\n",
       "      <td>NDA</td>\n",
       "      <td>18.7</td>\n",
       "      <td>13.3</td>\n",
       "      <td>17.9</td>\n",
       "      <td>7.3</td>\n",
       "      <td>1.7</td>\n",
       "      <td>1.1</td>\n",
       "      <td>Green</td>\n",
       "      <td>Green</td>\n",
       "      <td>NDA</td>\n",
       "      <td>NDA</td>\n",
       "      <td>NDA</td>\n",
       "      <td>NDA</td>\n",
       "      <td>NDA</td>\n",
       "      <td>NDA</td>\n",
       "      <td>NDA</td>\n",
       "      <td>NDA</td>\n",
       "      <td>NDA</td>\n",
       "      <td>NDA</td>\n",
       "      <td>NDA</td>\n",
       "      <td>NDA</td>\n",
       "      <td>809</td>\n",
       "      <td>39</td>\n",
       "      <td>NDA</td>\n",
       "      <td>30</td>\n",
       "      <td>SOUTH LAWNDALE</td>\n",
       "      <td>12</td>\n",
       "      <td>10</td>\n",
       "      <td>0</td>\n",
       "      <td>610184</td>\n",
       "    </tr>\n",
       "    <tr>\n",
       "      <th>1</th>\n",
       "      <td>Thomas A Edison Regional Gifted Center Element...</td>\n",
       "      <td>ES</td>\n",
       "      <td>4929 N Sawyer Ave</td>\n",
       "      <td>60625</td>\n",
       "      <td>http://schoolreports.cps.edu/SchoolProgressRep...</td>\n",
       "      <td>No</td>\n",
       "      <td>Very Strong</td>\n",
       "      <td>91.0</td>\n",
       "      <td>NDA</td>\n",
       "      <td>NDA</td>\n",
       "      <td>Strong</td>\n",
       "      <td>64.0</td>\n",
       "      <td>Average</td>\n",
       "      <td>56.0</td>\n",
       "      <td>NDA</td>\n",
       "      <td>NDA</td>\n",
       "      <td>NDA</td>\n",
       "      <td>NDA</td>\n",
       "      <td>Strong</td>\n",
       "      <td>55</td>\n",
       "      <td>Strong</td>\n",
       "      <td>57</td>\n",
       "      <td>96.6%</td>\n",
       "      <td>1.9</td>\n",
       "      <td>96.3%</td>\n",
       "      <td>100.0%</td>\n",
       "      <td>NDA</td>\n",
       "      <td>NDA</td>\n",
       "      <td>92</td>\n",
       "      <td>97.8</td>\n",
       "      <td>52.8</td>\n",
       "      <td>57.6</td>\n",
       "      <td>93.1</td>\n",
       "      <td>98.9</td>\n",
       "      <td>55.2</td>\n",
       "      <td>60.4</td>\n",
       "      <td>80</td>\n",
       "      <td>96.7</td>\n",
       "      <td>79.0</td>\n",
       "      <td>88.4</td>\n",
       "      <td>1.8</td>\n",
       "      <td>1.6</td>\n",
       "      <td>Green</td>\n",
       "      <td>Green</td>\n",
       "      <td>31.8</td>\n",
       "      <td>78.6</td>\n",
       "      <td>NDA</td>\n",
       "      <td>NDA</td>\n",
       "      <td>NDA</td>\n",
       "      <td>NDA</td>\n",
       "      <td>NDA</td>\n",
       "      <td>NDA</td>\n",
       "      <td>NDA</td>\n",
       "      <td>NDA</td>\n",
       "      <td>NDA</td>\n",
       "      <td>NDA</td>\n",
       "      <td>269</td>\n",
       "      <td>31</td>\n",
       "      <td>NDA</td>\n",
       "      <td>14</td>\n",
       "      <td>ALBANY PARK</td>\n",
       "      <td>39</td>\n",
       "      <td>17</td>\n",
       "      <td>0</td>\n",
       "      <td>609794</td>\n",
       "    </tr>\n",
       "    <tr>\n",
       "      <th>2</th>\n",
       "      <td>Milton Brunson Math &amp; Science Specialty Elemen...</td>\n",
       "      <td>ES</td>\n",
       "      <td>932 N Central Ave</td>\n",
       "      <td>60651</td>\n",
       "      <td>http://schoolreports.cps.edu/SchoolProgressRep...</td>\n",
       "      <td>No</td>\n",
       "      <td>Weak</td>\n",
       "      <td>30.0</td>\n",
       "      <td>NDA</td>\n",
       "      <td>NDA</td>\n",
       "      <td>Weak</td>\n",
       "      <td>30.0</td>\n",
       "      <td>Average</td>\n",
       "      <td>45.0</td>\n",
       "      <td>NDA</td>\n",
       "      <td>NDA</td>\n",
       "      <td>NDA</td>\n",
       "      <td>NDA</td>\n",
       "      <td>Average</td>\n",
       "      <td>47</td>\n",
       "      <td>Strong</td>\n",
       "      <td>55</td>\n",
       "      <td>91.3%</td>\n",
       "      <td>16.6</td>\n",
       "      <td>95.0%</td>\n",
       "      <td>100.0%</td>\n",
       "      <td>64.4</td>\n",
       "      <td>43.9</td>\n",
       "      <td>21.1</td>\n",
       "      <td>18.7</td>\n",
       "      <td>44.4</td>\n",
       "      <td>36.4</td>\n",
       "      <td>22.6</td>\n",
       "      <td>19</td>\n",
       "      <td>33.6</td>\n",
       "      <td>45.2</td>\n",
       "      <td>3.4</td>\n",
       "      <td>8.6</td>\n",
       "      <td>8.8</td>\n",
       "      <td>5.4</td>\n",
       "      <td>-0.3</td>\n",
       "      <td>-0.6</td>\n",
       "      <td>Yellow</td>\n",
       "      <td>Yellow</td>\n",
       "      <td>NDA</td>\n",
       "      <td>NDA</td>\n",
       "      <td>NDA</td>\n",
       "      <td>NDA</td>\n",
       "      <td>NDA</td>\n",
       "      <td>NDA</td>\n",
       "      <td>NDA</td>\n",
       "      <td>NDA</td>\n",
       "      <td>NDA</td>\n",
       "      <td>NDA</td>\n",
       "      <td>NDA</td>\n",
       "      <td>NDA</td>\n",
       "      <td>658</td>\n",
       "      <td>36</td>\n",
       "      <td>NDA</td>\n",
       "      <td>25</td>\n",
       "      <td>AUSTIN</td>\n",
       "      <td>29</td>\n",
       "      <td>15</td>\n",
       "      <td>1</td>\n",
       "      <td>609830</td>\n",
       "    </tr>\n",
       "    <tr>\n",
       "      <th>3</th>\n",
       "      <td>Emil G Hirsch Metropolitan High School</td>\n",
       "      <td>HS</td>\n",
       "      <td>7740 S Ingleside Ave</td>\n",
       "      <td>60619</td>\n",
       "      <td>http://schoolreports.cps.edu/SchoolProgressRep...</td>\n",
       "      <td>No</td>\n",
       "      <td>Very Weak</td>\n",
       "      <td>13.0</td>\n",
       "      <td>Average</td>\n",
       "      <td>46</td>\n",
       "      <td>Weak</td>\n",
       "      <td>28.0</td>\n",
       "      <td>Weak</td>\n",
       "      <td>28.0</td>\n",
       "      <td>Average</td>\n",
       "      <td>52</td>\n",
       "      <td>Average</td>\n",
       "      <td>50</td>\n",
       "      <td>NDA</td>\n",
       "      <td>NDA</td>\n",
       "      <td>NDA</td>\n",
       "      <td>NDA</td>\n",
       "      <td>84.8%</td>\n",
       "      <td>47.1</td>\n",
       "      <td>95.4%</td>\n",
       "      <td>88.0%</td>\n",
       "      <td>NDA</td>\n",
       "      <td>NDA</td>\n",
       "      <td>NDA</td>\n",
       "      <td>NDA</td>\n",
       "      <td>NDA</td>\n",
       "      <td>NDA</td>\n",
       "      <td>NDA</td>\n",
       "      <td>NDA</td>\n",
       "      <td>NDA</td>\n",
       "      <td>NDA</td>\n",
       "      <td>NDA</td>\n",
       "      <td>NDA</td>\n",
       "      <td>NaN</td>\n",
       "      <td>NaN</td>\n",
       "      <td>NaN</td>\n",
       "      <td>NaN</td>\n",
       "      <td>NDA</td>\n",
       "      <td>NDA</td>\n",
       "      <td>NDA</td>\n",
       "      <td>NDA</td>\n",
       "      <td>11.5</td>\n",
       "      <td>11.2</td>\n",
       "      <td>12.9</td>\n",
       "      <td>12.4</td>\n",
       "      <td>0.9</td>\n",
       "      <td>14.1</td>\n",
       "      <td>1.2</td>\n",
       "      <td>10.8</td>\n",
       "      <td>36.2</td>\n",
       "      <td>45.1</td>\n",
       "      <td>458</td>\n",
       "      <td>46</td>\n",
       "      <td>69.5</td>\n",
       "      <td>69</td>\n",
       "      <td>GREATER GRAND CROSSING</td>\n",
       "      <td>8</td>\n",
       "      <td>6</td>\n",
       "      <td>1</td>\n",
       "      <td>609712</td>\n",
       "    </tr>\n",
       "    <tr>\n",
       "      <th>4</th>\n",
       "      <td>Lawndale Elementary Community Academy</td>\n",
       "      <td>ES</td>\n",
       "      <td>3500 W Douglas Blvd</td>\n",
       "      <td>60623</td>\n",
       "      <td>http://schoolreports.cps.edu/SchoolProgressRep...</td>\n",
       "      <td>No</td>\n",
       "      <td>NDA</td>\n",
       "      <td>NaN</td>\n",
       "      <td>NDA</td>\n",
       "      <td>NDA</td>\n",
       "      <td>NDA</td>\n",
       "      <td>NaN</td>\n",
       "      <td>NDA</td>\n",
       "      <td>NaN</td>\n",
       "      <td>NDA</td>\n",
       "      <td>NDA</td>\n",
       "      <td>NDA</td>\n",
       "      <td>NDA</td>\n",
       "      <td>NDA</td>\n",
       "      <td>NDA</td>\n",
       "      <td>NDA</td>\n",
       "      <td>NDA</td>\n",
       "      <td>91.0%</td>\n",
       "      <td>18.8</td>\n",
       "      <td>94.8%</td>\n",
       "      <td>98.0%</td>\n",
       "      <td>43.4</td>\n",
       "      <td>NDA</td>\n",
       "      <td>17.2</td>\n",
       "      <td>10</td>\n",
       "      <td>34</td>\n",
       "      <td>44</td>\n",
       "      <td>21.1</td>\n",
       "      <td>15.9</td>\n",
       "      <td>45.2</td>\n",
       "      <td>47</td>\n",
       "      <td>0</td>\n",
       "      <td>2</td>\n",
       "      <td>3.3</td>\n",
       "      <td>4.0</td>\n",
       "      <td>-2.1</td>\n",
       "      <td>-2.2</td>\n",
       "      <td>Red</td>\n",
       "      <td>Red</td>\n",
       "      <td>NDA</td>\n",
       "      <td>NDA</td>\n",
       "      <td>NDA</td>\n",
       "      <td>NDA</td>\n",
       "      <td>NDA</td>\n",
       "      <td>NDA</td>\n",
       "      <td>NDA</td>\n",
       "      <td>NDA</td>\n",
       "      <td>NDA</td>\n",
       "      <td>NDA</td>\n",
       "      <td>NDA</td>\n",
       "      <td>NDA</td>\n",
       "      <td>508</td>\n",
       "      <td>37</td>\n",
       "      <td>NDA</td>\n",
       "      <td>29</td>\n",
       "      <td>NORTH LAWNDALE</td>\n",
       "      <td>24</td>\n",
       "      <td>10</td>\n",
       "      <td>1</td>\n",
       "      <td>610034</td>\n",
       "    </tr>\n",
       "  </tbody>\n",
       "</table>\n",
       "</div>"
      ],
      "text/plain": [
       "                                      Name of School  \\\n",
       "0              John Spry Elementary Community School   \n",
       "1  Thomas A Edison Regional Gifted Center Element...   \n",
       "2  Milton Brunson Math & Science Specialty Elemen...   \n",
       "3             Emil G Hirsch Metropolitan High School   \n",
       "4              Lawndale Elementary Community Academy   \n",
       "\n",
       "  Elementary, Middle, or High School         Street Address  ZIP Code  \\\n",
       "0                                 ES  2400 S Marshall Blvd      60623   \n",
       "1                                 ES     4929 N Sawyer Ave      60625   \n",
       "2                                 ES     932 N Central Ave      60651   \n",
       "3                                 HS  7740 S Ingleside Ave      60619   \n",
       "4                                 ES   3500 W Douglas Blvd      60623   \n",
       "\n",
       "                                               Link   \\\n",
       "0  http://schoolreports.cps.edu/SchoolProgressRep...   \n",
       "1  http://schoolreports.cps.edu/SchoolProgressRep...   \n",
       "2  http://schoolreports.cps.edu/SchoolProgressRep...   \n",
       "3  http://schoolreports.cps.edu/SchoolProgressRep...   \n",
       "4  http://schoolreports.cps.edu/SchoolProgressRep...   \n",
       "\n",
       "  Healthy Schools Certified? Safety Icon   Safety Score  \\\n",
       "0                         No       Strong          66.0   \n",
       "1                         No  Very Strong          91.0   \n",
       "2                         No         Weak          30.0   \n",
       "3                         No    Very Weak          13.0   \n",
       "4                         No          NDA           NaN   \n",
       "\n",
       "  Family Involvement Icon Family Involvement Score Environment Icon   \\\n",
       "0                 Average                       59            Strong   \n",
       "1                     NDA                      NDA            Strong   \n",
       "2                     NDA                      NDA              Weak   \n",
       "3                 Average                       46              Weak   \n",
       "4                     NDA                      NDA               NDA   \n",
       "\n",
       "   Environment Score Instruction Icon   Instruction Score Leaders Icon   \\\n",
       "0               70.0            Strong               67.0       Average   \n",
       "1               64.0           Average               56.0           NDA   \n",
       "2               30.0           Average               45.0           NDA   \n",
       "3               28.0              Weak               28.0       Average   \n",
       "4                NaN               NDA                NaN           NDA   \n",
       "\n",
       "  Leaders Score  Teachers Icon  Teachers Score Parent Engagement Icon   \\\n",
       "0             52        Average             43                    Weak   \n",
       "1            NDA            NDA            NDA                  Strong   \n",
       "2            NDA            NDA            NDA                 Average   \n",
       "3             52        Average             50                     NDA   \n",
       "4            NDA            NDA            NDA                     NDA   \n",
       "\n",
       "  Parent Engagement Score Parent Environment Icon Parent Environment Score  \\\n",
       "0                      46                 Average                       48   \n",
       "1                      55                  Strong                       57   \n",
       "2                      47                  Strong                       55   \n",
       "3                     NDA                     NDA                      NDA   \n",
       "4                     NDA                     NDA                      NDA   \n",
       "\n",
       "  Average Student Attendance  Rate of Misconducts (per 100 students)   \\\n",
       "0                      96.2%                                      5.9   \n",
       "1                      96.6%                                      1.9   \n",
       "2                      91.3%                                     16.6   \n",
       "3                      84.8%                                     47.1   \n",
       "4                      91.0%                                     18.8   \n",
       "\n",
       "  Average Teacher Attendance  \\\n",
       "0                      97.4%   \n",
       "1                      96.3%   \n",
       "2                      95.0%   \n",
       "3                      95.4%   \n",
       "4                      94.8%   \n",
       "\n",
       "  Individualized Education Program Compliance Rate  Pk-2 Literacy %  \\\n",
       "0                                             99.0%            44.4   \n",
       "1                                            100.0%             NDA   \n",
       "2                                            100.0%            64.4   \n",
       "3                                             88.0%             NDA   \n",
       "4                                             98.0%            43.4   \n",
       "\n",
       "  Pk-2 Math % Gr3-5 Grade Level Math % Gr3-5 Grade Level Read %   \\\n",
       "0        12.8                      NDA                       NDA   \n",
       "1         NDA                       92                      97.8   \n",
       "2        43.9                     21.1                      18.7   \n",
       "3         NDA                      NDA                       NDA   \n",
       "4         NDA                     17.2                        10   \n",
       "\n",
       "  Gr3-5 Keep Pace Read % Gr3-5 Keep Pace Math % Gr6-8 Grade Level Math %  \\\n",
       "0                    NDA                    NDA                      NDA   \n",
       "1                   52.8                   57.6                     93.1   \n",
       "2                   44.4                   36.4                     22.6   \n",
       "3                    NDA                    NDA                      NDA   \n",
       "4                     34                     44                     21.1   \n",
       "\n",
       "  Gr6-8 Grade Level Read % Gr6-8 Keep Pace Math% Gr6-8 Keep Pace Read %  \\\n",
       "0                      NDA                   NDA                    NDA   \n",
       "1                     98.9                  55.2                   60.4   \n",
       "2                       19                  33.6                   45.2   \n",
       "3                      NDA                   NDA                    NDA   \n",
       "4                     15.9                  45.2                     47   \n",
       "\n",
       "  Gr-8 Explore Math % Gr-8 Explore Read %  ISAT Exceeding Math %  \\\n",
       "0                18.7                13.3                   17.9   \n",
       "1                  80                96.7                   79.0   \n",
       "2                 3.4                 8.6                    8.8   \n",
       "3                 NDA                 NDA                    NaN   \n",
       "4                   0                   2                    3.3   \n",
       "\n",
       "   ISAT Exceeding Reading %   ISAT Value Add Math  ISAT Value Add Read  \\\n",
       "0                        7.3                  1.7                  1.1   \n",
       "1                       88.4                  1.8                  1.6   \n",
       "2                        5.4                 -0.3                 -0.6   \n",
       "3                        NaN                  NaN                  NaN   \n",
       "4                        4.0                 -2.1                 -2.2   \n",
       "\n",
       "  ISAT Value Add Color Math ISAT Value Add Color Read  \\\n",
       "0                     Green                     Green   \n",
       "1                     Green                     Green   \n",
       "2                    Yellow                    Yellow   \n",
       "3                       NDA                       NDA   \n",
       "4                       Red                       Red   \n",
       "\n",
       "  Students Taking  Algebra % Students Passing  Algebra %  \\\n",
       "0                        NDA                         NDA   \n",
       "1                       31.8                        78.6   \n",
       "2                        NDA                         NDA   \n",
       "3                        NDA                         NDA   \n",
       "4                        NDA                         NDA   \n",
       "\n",
       "  9th Grade EXPLORE (2009)  9th Grade EXPLORE (2010)  10th Grade PLAN (2009)   \\\n",
       "0                       NDA                       NDA                     NDA   \n",
       "1                       NDA                       NDA                     NDA   \n",
       "2                       NDA                       NDA                     NDA   \n",
       "3                      11.5                      11.2                    12.9   \n",
       "4                       NDA                       NDA                     NDA   \n",
       "\n",
       "  10th Grade PLAN (2010)  Net Change EXPLORE and PLAN  \\\n",
       "0                     NDA                         NDA   \n",
       "1                     NDA                         NDA   \n",
       "2                     NDA                         NDA   \n",
       "3                    12.4                         0.9   \n",
       "4                     NDA                         NDA   \n",
       "\n",
       "  11th Grade Average ACT (2011)  Net Change PLAN and ACT  \\\n",
       "0                            NDA                     NDA   \n",
       "1                            NDA                     NDA   \n",
       "2                            NDA                     NDA   \n",
       "3                           14.1                     1.2   \n",
       "4                            NDA                     NDA   \n",
       "\n",
       "  College Eligibility % Graduation Rate % College Enrollment Rate %  \\\n",
       "0                   NDA               NDA                       NDA   \n",
       "1                   NDA               NDA                       NDA   \n",
       "2                   NDA               NDA                       NDA   \n",
       "3                  10.8              36.2                      45.1   \n",
       "4                   NDA               NDA                       NDA   \n",
       "\n",
       "   College Enrollment (number of students)   General Services Route   \\\n",
       "0                                       809                       39   \n",
       "1                                       269                       31   \n",
       "2                                       658                       36   \n",
       "3                                       458                       46   \n",
       "4                                       508                       37   \n",
       "\n",
       "  Freshman on Track Rate %  Community Area Number     Community Area Name  \\\n",
       "0                      NDA                     30          SOUTH LAWNDALE   \n",
       "1                      NDA                     14             ALBANY PARK   \n",
       "2                      NDA                     25                  AUSTIN   \n",
       "3                     69.5                     69  GREATER GRAND CROSSING   \n",
       "4                      NDA                     29          NORTH LAWNDALE   \n",
       "\n",
       "   Ward  Police District  probation      Id  \n",
       "0    12               10          0  610184  \n",
       "1    39               17          0  609794  \n",
       "2    29               15          1  609830  \n",
       "3     8                6          1  609712  \n",
       "4    24               10          1  610034  "
      ]
     },
     "execution_count": 439,
     "metadata": {},
     "output_type": "execute_result"
    }
   ],
   "source": [
    "school.head()"
   ]
  },
  {
   "cell_type": "code",
   "execution_count": 440,
   "metadata": {
    "collapsed": false
   },
   "outputs": [
    {
     "data": {
      "text/plain": [
       "(414, 65)"
      ]
     },
     "execution_count": 440,
     "metadata": {},
     "output_type": "execute_result"
    }
   ],
   "source": [
    "school.shape"
   ]
  },
  {
   "cell_type": "code",
   "execution_count": 443,
   "metadata": {
    "collapsed": false,
    "scrolled": false
   },
   "outputs": [
    {
     "data": {
      "text/plain": [
       "Name of School                                        object\n",
       "Elementary, Middle, or High School                    object\n",
       "Street Address                                        object\n",
       "ZIP Code                                               int64\n",
       "Link                                                  object\n",
       "Healthy Schools Certified?                            object\n",
       "Safety Icon                                           object\n",
       "Safety Score                                         float64\n",
       "Family Involvement Icon                               object\n",
       "Family Involvement Score                              object\n",
       "Environment Icon                                      object\n",
       "Environment Score                                    float64\n",
       "Instruction Icon                                      object\n",
       "Instruction Score                                    float64\n",
       "Leaders Icon                                          object\n",
       "Leaders Score                                         object\n",
       "Teachers Icon                                         object\n",
       "Teachers Score                                        object\n",
       "Parent Engagement Icon                                object\n",
       "Parent Engagement Score                               object\n",
       "Parent Environment Icon                               object\n",
       "Parent Environment Score                              object\n",
       "Average Student Attendance                            object\n",
       "Rate of Misconducts (per 100 students)               float64\n",
       "Average Teacher Attendance                            object\n",
       "Individualized Education Program Compliance Rate      object\n",
       "Pk-2 Literacy %                                       object\n",
       "Pk-2 Math %                                           object\n",
       "Gr3-5 Grade Level Math %                              object\n",
       "Gr3-5 Grade Level Read %                              object\n",
       "                                                      ...   \n",
       "Gr6-8 Keep Pace Read %                                object\n",
       "Gr-8 Explore Math %                                   object\n",
       "Gr-8 Explore Read %                                   object\n",
       "ISAT Exceeding Math %                                float64\n",
       "ISAT Exceeding Reading %                             float64\n",
       "ISAT Value Add Math                                  float64\n",
       "ISAT Value Add Read                                  float64\n",
       "ISAT Value Add Color Math                             object\n",
       "ISAT Value Add Color Read                             object\n",
       "Students Taking  Algebra %                            object\n",
       "Students Passing  Algebra %                           object\n",
       "9th Grade EXPLORE (2009)                              object\n",
       "9th Grade EXPLORE (2010)                              object\n",
       "10th Grade PLAN (2009)                                object\n",
       "10th Grade PLAN (2010)                                object\n",
       "Net Change EXPLORE and PLAN                           object\n",
       "11th Grade Average ACT (2011)                         object\n",
       "Net Change PLAN and ACT                               object\n",
       "College Eligibility %                                 object\n",
       "Graduation Rate %                                     object\n",
       "College Enrollment Rate %                             object\n",
       "College Enrollment (number of students)                int64\n",
       "General Services Route                                 int64\n",
       "Freshman on Track Rate %                              object\n",
       "Community Area Number                                  int64\n",
       "Community Area Name                                   object\n",
       "Ward                                                   int64\n",
       "Police District                                        int64\n",
       "probation                                              int64\n",
       "Id                                                     int64\n",
       "dtype: object"
      ]
     },
     "execution_count": 443,
     "metadata": {},
     "output_type": "execute_result"
    }
   ],
   "source": [
    "school.dtypes"
   ]
  },
  {
   "cell_type": "markdown",
   "metadata": {},
   "source": [
    "# EDA"
   ]
  },
  {
   "cell_type": "markdown",
   "metadata": {},
   "source": [
    "### 'Elementary, Middle, or High School'\n",
    "\n",
    "dummy out ES and HS"
   ]
  },
  {
   "cell_type": "code",
   "execution_count": 444,
   "metadata": {
    "collapsed": false
   },
   "outputs": [
    {
     "data": {
      "text/plain": [
       "dtype('O')"
      ]
     },
     "execution_count": 444,
     "metadata": {},
     "output_type": "execute_result"
    }
   ],
   "source": [
    "school['Elementary, Middle, or High School'].dtype"
   ]
  },
  {
   "cell_type": "code",
   "execution_count": 445,
   "metadata": {
    "collapsed": false
   },
   "outputs": [
    {
     "data": {
      "text/plain": [
       "0"
      ]
     },
     "execution_count": 445,
     "metadata": {},
     "output_type": "execute_result"
    }
   ],
   "source": [
    "school['Elementary, Middle, or High School'].isnull().sum()"
   ]
  },
  {
   "cell_type": "code",
   "execution_count": 446,
   "metadata": {
    "collapsed": false
   },
   "outputs": [
    {
     "data": {
      "text/plain": [
       "ES    339\n",
       "HS     68\n",
       "MS      7\n",
       "Name: Elementary, Middle, or High School, dtype: int64"
      ]
     },
     "execution_count": 446,
     "metadata": {},
     "output_type": "execute_result"
    }
   ],
   "source": [
    "school['Elementary, Middle, or High School'].value_counts()"
   ]
  },
  {
   "cell_type": "markdown",
   "metadata": {},
   "source": [
    "### Street Address"
   ]
  },
  {
   "cell_type": "code",
   "execution_count": null,
   "metadata": {
    "collapsed": false,
    "scrolled": true
   },
   "outputs": [],
   "source": [
    "school['Street Address'].head()"
   ]
  },
  {
   "cell_type": "code",
   "execution_count": null,
   "metadata": {
    "collapsed": false,
    "scrolled": false
   },
   "outputs": [],
   "source": [
    "school['Street Address'].nunique()"
   ]
  },
  {
   "cell_type": "markdown",
   "metadata": {},
   "source": [
    "### ZIP Code\n",
    "\n",
    "too many of these for me to dummy them all"
   ]
  },
  {
   "cell_type": "code",
   "execution_count": null,
   "metadata": {
    "collapsed": false,
    "scrolled": true
   },
   "outputs": [],
   "source": [
    "school['ZIP Code'].nunique()"
   ]
  },
  {
   "cell_type": "code",
   "execution_count": null,
   "metadata": {
    "collapsed": false
   },
   "outputs": [],
   "source": [
    "## could use the the top few\n",
    "\n",
    "school['ZIP Code'].value_counts()"
   ]
  },
  {
   "cell_type": "markdown",
   "metadata": {},
   "source": [
    "### Healthy Schools Certified?\n",
    "\n",
    "dummy \"no\""
   ]
  },
  {
   "cell_type": "code",
   "execution_count": null,
   "metadata": {
    "collapsed": false,
    "scrolled": true
   },
   "outputs": [],
   "source": [
    "school['Healthy Schools Certified?'].value_counts()"
   ]
  },
  {
   "cell_type": "markdown",
   "metadata": {},
   "source": [
    "### Safety Icon\n",
    "\n",
    "could combine weak/very weak and strong/very strong"
   ]
  },
  {
   "cell_type": "code",
   "execution_count": null,
   "metadata": {
    "collapsed": false
   },
   "outputs": [],
   "source": [
    "school['Safety Icon '].value_counts()"
   ]
  },
  {
   "cell_type": "markdown",
   "metadata": {},
   "source": [
    "### safety score\n",
    "\n",
    "missing data here. should probably just use the icon"
   ]
  },
  {
   "cell_type": "code",
   "execution_count": null,
   "metadata": {
    "collapsed": false
   },
   "outputs": [],
   "source": [
    "school['Safety Score'].isnull().sum()"
   ]
  },
  {
   "cell_type": "code",
   "execution_count": null,
   "metadata": {
    "collapsed": false
   },
   "outputs": [],
   "source": [
    "school['Safety Score'].describe()"
   ]
  },
  {
   "cell_type": "code",
   "execution_count": null,
   "metadata": {
    "collapsed": false,
    "scrolled": true
   },
   "outputs": [],
   "source": [
    "plt.hist(school['Safety Score'].dropna())"
   ]
  },
  {
   "cell_type": "markdown",
   "metadata": {},
   "source": [
    "### Family Involvement Icon\n",
    "\n",
    "just use weak/very weak"
   ]
  },
  {
   "cell_type": "code",
   "execution_count": null,
   "metadata": {
    "collapsed": false
   },
   "outputs": [],
   "source": [
    "school['Family Involvement Icon'].value_counts()"
   ]
  },
  {
   "cell_type": "markdown",
   "metadata": {},
   "source": [
    "### Environment Icon\n",
    "\n",
    "use weak/very weak for all of the icons"
   ]
  },
  {
   "cell_type": "code",
   "execution_count": null,
   "metadata": {
    "collapsed": false
   },
   "outputs": [],
   "source": [
    "school['Environment Icon '].value_counts()"
   ]
  },
  {
   "cell_type": "markdown",
   "metadata": {},
   "source": [
    "### Instruction Icon"
   ]
  },
  {
   "cell_type": "code",
   "execution_count": null,
   "metadata": {
    "collapsed": false,
    "scrolled": true
   },
   "outputs": [],
   "source": [
    "school['Instruction Icon '].value_counts()"
   ]
  },
  {
   "cell_type": "markdown",
   "metadata": {},
   "source": [
    "### Leaders icon"
   ]
  },
  {
   "cell_type": "code",
   "execution_count": null,
   "metadata": {
    "collapsed": false
   },
   "outputs": [],
   "source": [
    "school['Leaders Icon '].value_counts()"
   ]
  },
  {
   "cell_type": "markdown",
   "metadata": {},
   "source": [
    "### Teachers Icon"
   ]
  },
  {
   "cell_type": "code",
   "execution_count": null,
   "metadata": {
    "collapsed": false
   },
   "outputs": [],
   "source": [
    "school['Teachers Icon '].value_counts()"
   ]
  },
  {
   "cell_type": "markdown",
   "metadata": {},
   "source": [
    "### Parent environment icon"
   ]
  },
  {
   "cell_type": "code",
   "execution_count": null,
   "metadata": {
    "collapsed": false,
    "scrolled": true
   },
   "outputs": [],
   "source": [
    "school['Parent Environment Icon'].value_counts()"
   ]
  },
  {
   "cell_type": "markdown",
   "metadata": {},
   "source": [
    "### Parent engagement icon"
   ]
  },
  {
   "cell_type": "code",
   "execution_count": null,
   "metadata": {
    "collapsed": false
   },
   "outputs": [],
   "source": [
    "school['Parent Engagement Icon '].value_counts()"
   ]
  },
  {
   "cell_type": "markdown",
   "metadata": {},
   "source": [
    "### Average Student Attendance\n",
    "\n",
    "drop % and convert to float"
   ]
  },
  {
   "cell_type": "code",
   "execution_count": null,
   "metadata": {
    "collapsed": false,
    "scrolled": true
   },
   "outputs": [],
   "source": [
    "school['Average Student Attendance'].isnull().sum()"
   ]
  },
  {
   "cell_type": "code",
   "execution_count": null,
   "metadata": {
    "collapsed": false
   },
   "outputs": [],
   "source": [
    "school['Average Student Attendance'].value_counts().head()"
   ]
  },
  {
   "cell_type": "markdown",
   "metadata": {},
   "source": [
    "### Rate of Misconducts\n",
    "\n",
    "useable as-is"
   ]
  },
  {
   "cell_type": "code",
   "execution_count": null,
   "metadata": {
    "collapsed": false,
    "scrolled": true
   },
   "outputs": [],
   "source": [
    "school['Rate of Misconducts (per 100 students) '].describe()"
   ]
  },
  {
   "cell_type": "code",
   "execution_count": null,
   "metadata": {
    "collapsed": false
   },
   "outputs": [],
   "source": [
    "school['Rate of Misconducts (per 100 students) '].isnull().sum()"
   ]
  },
  {
   "cell_type": "code",
   "execution_count": null,
   "metadata": {
    "collapsed": false,
    "scrolled": true
   },
   "outputs": [],
   "source": [
    "plt.hist(school['Rate of Misconducts (per 100 students) '])"
   ]
  },
  {
   "cell_type": "markdown",
   "metadata": {},
   "source": [
    "### Average teacher attendance\n",
    "\n",
    "remove % and convert to float"
   ]
  },
  {
   "cell_type": "code",
   "execution_count": null,
   "metadata": {
    "collapsed": false
   },
   "outputs": [],
   "source": [
    "school['Average Teacher Attendance'].value_counts().head()"
   ]
  },
  {
   "cell_type": "markdown",
   "metadata": {},
   "source": [
    "### Individualized education program compliance rate\n",
    "\n",
    "drop % and convert to float"
   ]
  },
  {
   "cell_type": "code",
   "execution_count": null,
   "metadata": {
    "collapsed": false
   },
   "outputs": [],
   "source": [
    "school['Individualized Education Program Compliance Rate '].value_counts().head()"
   ]
  },
  {
   "cell_type": "code",
   "execution_count": null,
   "metadata": {
    "collapsed": true
   },
   "outputs": [],
   "source": []
  },
  {
   "cell_type": "code",
   "execution_count": null,
   "metadata": {
    "collapsed": true
   },
   "outputs": [],
   "source": []
  },
  {
   "cell_type": "code",
   "execution_count": null,
   "metadata": {
    "collapsed": false,
    "scrolled": true
   },
   "outputs": [],
   "source": [
    "school.columns"
   ]
  },
  {
   "cell_type": "markdown",
   "metadata": {},
   "source": [
    "# Feature Building"
   ]
  },
  {
   "cell_type": "code",
   "execution_count": 448,
   "metadata": {
    "collapsed": true
   },
   "outputs": [],
   "source": [
    "school['is_hs'] = school['Elementary, Middle, or High School'].apply(lambda x: 1 if x=='HS' else 0)\n",
    "school['is_es'] = school['Elementary, Middle, or High School'].apply(lambda x: 1 if x=='ES' else 0)"
   ]
  },
  {
   "cell_type": "code",
   "execution_count": 449,
   "metadata": {
    "collapsed": true
   },
   "outputs": [],
   "source": [
    "school['healthy_school'] = school['Healthy Schools Certified?'].apply(lambda x: 1 if x=='Yes' else 0)"
   ]
  },
  {
   "cell_type": "code",
   "execution_count": 450,
   "metadata": {
    "collapsed": true
   },
   "outputs": [],
   "source": [
    "school['unsafe'] = school['Safety Icon '].apply(lambda x: 1 if 'Weak' in x else 0)"
   ]
  },
  {
   "cell_type": "code",
   "execution_count": 451,
   "metadata": {
    "collapsed": true
   },
   "outputs": [],
   "source": [
    "school['weak_family_involvement'] = school['Family Involvement Icon'].apply(lambda x: 1 if 'Weak' in x else 0)"
   ]
  },
  {
   "cell_type": "code",
   "execution_count": 452,
   "metadata": {
    "collapsed": true
   },
   "outputs": [],
   "source": [
    "school['weak_environment'] = school['Environment Icon '].apply(lambda x: 1 if 'Weak' in x else 0)"
   ]
  },
  {
   "cell_type": "code",
   "execution_count": 453,
   "metadata": {
    "collapsed": true
   },
   "outputs": [],
   "source": [
    "## don't use this\n",
    "school['weak_instruction'] = school['Instruction Icon '].apply(lambda x: 1 if 'Weak' in x else 0)"
   ]
  },
  {
   "cell_type": "code",
   "execution_count": 454,
   "metadata": {
    "collapsed": false
   },
   "outputs": [],
   "source": [
    "## maybe don't use this\n",
    "school['weak_leader'] = school['Leaders Icon '].apply(lambda x: 1 if 'Weak' in x else 0)"
   ]
  },
  {
   "cell_type": "code",
   "execution_count": 455,
   "metadata": {
    "collapsed": true
   },
   "outputs": [],
   "source": [
    "school['weak_teachers'] = school['Teachers Icon '].apply(lambda x: 1 if 'Weak' in x else 0)"
   ]
  },
  {
   "cell_type": "code",
   "execution_count": 456,
   "metadata": {
    "collapsed": true
   },
   "outputs": [],
   "source": [
    "school['weak_parent_environment'] = school['Parent Environment Icon'].apply(lambda x: 1 if 'Weak' in x else 0)"
   ]
  },
  {
   "cell_type": "code",
   "execution_count": 457,
   "metadata": {
    "collapsed": true
   },
   "outputs": [],
   "source": [
    "## don't use this\n",
    "school['weak_parent_engagement'] = school['Parent Engagement Icon '].apply(lambda x: 1 if 'Weak' in x else 0)"
   ]
  },
  {
   "cell_type": "code",
   "execution_count": 458,
   "metadata": {
    "collapsed": true
   },
   "outputs": [],
   "source": [
    "## this is big\n",
    "school['Average Student Attendance'] = school['Average Student Attendance'].apply(lambda x: float(x[:-1]))"
   ]
  },
  {
   "cell_type": "code",
   "execution_count": 459,
   "metadata": {
    "collapsed": true
   },
   "outputs": [],
   "source": [
    "## student misconduct is pretty huge"
   ]
  },
  {
   "cell_type": "code",
   "execution_count": 460,
   "metadata": {
    "collapsed": true
   },
   "outputs": [],
   "source": [
    "## don't use this\n",
    "school['Average Teacher Attendance'] = school['Average Teacher Attendance'].apply(lambda x: float(x[:-1]))"
   ]
  },
  {
   "cell_type": "code",
   "execution_count": 461,
   "metadata": {
    "collapsed": true
   },
   "outputs": [],
   "source": [
    "school['Individualized Education Program Compliance Rate '] = school['Individualized Education Program Compliance Rate '].apply(lambda x: float(x[:-1]))"
   ]
  },
  {
   "cell_type": "code",
   "execution_count": null,
   "metadata": {
    "collapsed": true
   },
   "outputs": [],
   "source": [
    "def transform(df):\n",
    "    df['is_hs'] = df['Elementary, Middle, or High School'].apply(lambda x: 1 if x=='HS' else 0)\n",
    "    df['is_es'] = df['Elementary, Middle, or High School'].apply(lambda x: 1 if x=='ES' else 0)\n",
    "    df['healthy_school'] = df['Healthy Schools Certified?'].apply(lambda x: 1 if x=='Yes' else 0)\n",
    "    df['unsafe'] = df['Safety Icon '].apply(lambda x: 1 if 'Weak' in x else 0)\n",
    "    df['weak_family_involvement'] = df['Family Involvement Icon'].apply(lambda x: 1 if 'Weak' in x else 0)\n",
    "    df['weak_environment'] = df['Environment Icon '].apply(lambda x: 1 if 'Weak' in x else 0)\n",
    "    df['weak_teachers'] = df['Teachers Icon '].apply(lambda x: 1 if 'Weak' in x else 0)\n",
    "    df['weak_parent_environment'] = df['Parent Environment Icon'].apply(lambda x: 1 if 'Weak' in x else 0)\n",
    "    df['Average Student Attendance'] = df['Average Student Attendance'].apply(lambda x: float(x[:-1]))\n",
    "    df['Individualized Education Program Compliance Rate '] = df['Individualized Education Program Compliance Rate '].apply(lambda x: float(x[:-1]))\n",
    "    "
   ]
  },
  {
   "cell_type": "markdown",
   "metadata": {},
   "source": [
    "# defining x and y"
   ]
  },
  {
   "cell_type": "code",
   "execution_count": 463,
   "metadata": {
    "collapsed": false
   },
   "outputs": [
    {
     "data": {
      "text/plain": [
       "Index([u'Name of School', u'Elementary, Middle, or High School',\n",
       "       u'Street Address', u'ZIP Code', u'Link ', u'Healthy Schools Certified?',\n",
       "       u'Safety Icon ', u'Safety Score', u'Family Involvement Icon',\n",
       "       u'Family Involvement Score', u'Environment Icon ', u'Environment Score',\n",
       "       u'Instruction Icon ', u'Instruction Score', u'Leaders Icon ',\n",
       "       u'Leaders Score ', u'Teachers Icon ', u'Teachers Score',\n",
       "       u'Parent Engagement Icon ', u'Parent Engagement Score',\n",
       "       u'Parent Environment Icon', u'Parent Environment Score',\n",
       "       u'Average Student Attendance',\n",
       "       u'Rate of Misconducts (per 100 students) ',\n",
       "       u'Average Teacher Attendance',\n",
       "       u'Individualized Education Program Compliance Rate ',\n",
       "       u'Pk-2 Literacy %', u'Pk-2 Math %', u'Gr3-5 Grade Level Math %',\n",
       "       u'Gr3-5 Grade Level Read % ', u'Gr3-5 Keep Pace Read %',\n",
       "       u'Gr3-5 Keep Pace Math %', u'Gr6-8 Grade Level Math %',\n",
       "       u'Gr6-8 Grade Level Read %', u'Gr6-8 Keep Pace Math%',\n",
       "       u'Gr6-8 Keep Pace Read %', u'Gr-8 Explore Math %',\n",
       "       u'Gr-8 Explore Read %', u'ISAT Exceeding Math %',\n",
       "       u'ISAT Exceeding Reading % ', u'ISAT Value Add Math',\n",
       "       u'ISAT Value Add Read', u'ISAT Value Add Color Math',\n",
       "       u'ISAT Value Add Color Read', u'Students Taking  Algebra %',\n",
       "       u'Students Passing  Algebra %', u'9th Grade EXPLORE (2009) ',\n",
       "       u'9th Grade EXPLORE (2010) ', u'10th Grade PLAN (2009) ',\n",
       "       u'10th Grade PLAN (2010) ', u'Net Change EXPLORE and PLAN',\n",
       "       u'11th Grade Average ACT (2011) ', u'Net Change PLAN and ACT',\n",
       "       u'College Eligibility %', u'Graduation Rate %',\n",
       "       u'College Enrollment Rate %',\n",
       "       u'College Enrollment (number of students) ', u'General Services Route ',\n",
       "       u'Freshman on Track Rate %', u'Community Area Number',\n",
       "       u'Community Area Name', u'Ward', u'Police District', u'probation',\n",
       "       u'Id', u'is_hs', u'is_es', u'healthy_school', u'unsafe',\n",
       "       u'weak_family_involvement', u'weak_environment', u'weak_instruction',\n",
       "       u'weak_leader', u'weak_teachers', u'weak_parent_environment',\n",
       "       u'weak_parent_engagement'],\n",
       "      dtype='object')"
      ]
     },
     "execution_count": 463,
     "metadata": {},
     "output_type": "execute_result"
    }
   ],
   "source": [
    "school.columns"
   ]
  },
  {
   "cell_type": "code",
   "execution_count": 462,
   "metadata": {
    "collapsed": true
   },
   "outputs": [],
   "source": [
    "x = school[['is_hs', u'is_es', u'healthy_school', 'unsafe', 'weak_family_involvement',\n",
    "           'weak_environment', 'weak_teachers', 'weak_parent_environment', \n",
    "            'Average Student Attendance', 'Rate of Misconducts (per 100 students) ',\n",
    "           ]]\n",
    "y = school['probation']\n",
    "x_train, x_test, y_train, y_test = train_test_split(x,y)"
   ]
  },
  {
   "cell_type": "code",
   "execution_count": null,
   "metadata": {
    "collapsed": true
   },
   "outputs": [],
   "source": [
    "\n"
   ]
  },
  {
   "cell_type": "code",
   "execution_count": null,
   "metadata": {
    "collapsed": true
   },
   "outputs": [],
   "source": []
  },
  {
   "cell_type": "markdown",
   "metadata": {},
   "source": [
    "# Modeling"
   ]
  },
  {
   "cell_type": "code",
   "execution_count": 464,
   "metadata": {
    "collapsed": true
   },
   "outputs": [],
   "source": [
    "lr = LogisticRegression()\n",
    "rf = RandomForestClassifier(n_estimators=200, min_samples_leaf=5)\n",
    "et = ExtraTreesClassifier(min_samples_leaf=2)\n",
    "gb = GradientBoostingClassifier(max_depth=3, min_samples_leaf=6)\n",
    "ab = AdaBoostClassifier(n_estimators=10, base_estimator=lr)\n"
   ]
  },
  {
   "cell_type": "code",
   "execution_count": null,
   "metadata": {
    "collapsed": true
   },
   "outputs": [],
   "source": []
  },
  {
   "cell_type": "code",
   "execution_count": 465,
   "metadata": {
    "collapsed": true
   },
   "outputs": [],
   "source": [
    "def run_model(x_train, y_train, x_test, y_test, model):\n",
    "    model.fit(x_train, y_train)\n",
    "    print \"Base model score: \" + str(np.mean(y_test))[:6]\n",
    "    print \"Training set score: \" + str(model.score(x_train, y_train))[:6]\n",
    "    print \"Test set score: \" + str(model.score(x_test, y_test))[:6]\n",
    "    predictions = model.predict(x_test)\n",
    "    print \"\\nConfusion Matrix:\\n\", pd.DataFrame(confusion_matrix(y_test, predictions), \n",
    "                                              columns=['predicted_0', 'predicted_1'], index=['is_0', 'is_1'])\n",
    "    print \"\\nClassification Report:\\n\",classification_report(y_test, predictions)"
   ]
  },
  {
   "cell_type": "code",
   "execution_count": 466,
   "metadata": {
    "collapsed": false,
    "scrolled": false
   },
   "outputs": [
    {
     "name": "stdout",
     "output_type": "stream",
     "text": [
      "Model:  LogisticRegression\n",
      "Hyperparameters: C=1.0, class_weight=None, dual=False, fit_intercept=True,\n",
      "          intercept_scaling=1, max_iter=100, multi_class='ovr', n_jobs=1,\n",
      "          penalty='l2', random_state=None, solver='liblinear', tol=0.0001,\n",
      "          verbose=0, warm_start=False\n",
      "Base model score: 0.4807\n",
      "Training set score: 0.7709\n",
      "Test set score: 0.7403\n",
      "\n",
      "Confusion Matrix:\n",
      "      predicted_0  predicted_1\n",
      "is_0           47            7\n",
      "is_1           20           30\n",
      "\n",
      "Classification Report:\n",
      "             precision    recall  f1-score   support\n",
      "\n",
      "          0       0.70      0.87      0.78        54\n",
      "          1       0.81      0.60      0.69        50\n",
      "\n",
      "avg / total       0.75      0.74      0.73       104\n",
      "\n",
      "\n",
      "\n",
      "Model:  RandomForestClassifier\n",
      "Hyperparameters: bootstrap=True, class_weight=None, criterion='gini',\n",
      "            max_depth=None, max_features='auto', max_leaf_nodes=None,\n",
      "            min_impurity_split=1e-07, min_samples_leaf=5,\n",
      "            min_samples_split=2, min_weight_fraction_leaf=0.0,\n",
      "            n_estimators=200, n_jobs=1, oob_score=False, random_state=None,\n",
      "            verbose=0, warm_start=False\n",
      "Base model score: 0.4807\n",
      "Training set score: 0.8709\n",
      "Test set score: 0.8557\n",
      "\n",
      "Confusion Matrix:\n",
      "      predicted_0  predicted_1\n",
      "is_0           50            4\n",
      "is_1           11           39\n",
      "\n",
      "Classification Report:\n",
      "             precision    recall  f1-score   support\n",
      "\n",
      "          0       0.82      0.93      0.87        54\n",
      "          1       0.91      0.78      0.84        50\n",
      "\n",
      "avg / total       0.86      0.86      0.85       104\n",
      "\n",
      "\n",
      "\n",
      "Model:  ExtraTreesClassifier\n",
      "Hyperparameters: bootstrap=False, class_weight=None, criterion='gini',\n",
      "           max_depth=None, max_features='auto', max_leaf_nodes=None,\n",
      "           min_impurity_split=1e-07, min_samples_leaf=2,\n",
      "           min_samples_split=2, min_weight_fraction_leaf=0.0,\n",
      "           n_estimators=10, n_jobs=1, oob_score=False, random_state=None,\n",
      "           verbose=0, warm_start=False\n",
      "Base model score: 0.4807\n",
      "Training set score: 0.8838\n",
      "Test set score: 0.7307\n",
      "\n",
      "Confusion Matrix:\n",
      "      predicted_0  predicted_1\n",
      "is_0           46            8\n",
      "is_1           20           30\n",
      "\n",
      "Classification Report:\n",
      "             precision    recall  f1-score   support\n",
      "\n",
      "          0       0.70      0.85      0.77        54\n",
      "          1       0.79      0.60      0.68        50\n",
      "\n",
      "avg / total       0.74      0.73      0.73       104\n",
      "\n",
      "\n",
      "\n",
      "Model:  GradientBoostingClassifier\n",
      "Hyperparameters: criterion='friedman_mse', init=None,\n",
      "              learning_rate=0.1, loss='deviance', max_depth=3,\n",
      "              max_features=None, max_leaf_nodes=None,\n",
      "              min_impurity_split=1e-07, min_samples_leaf=6,\n",
      "              min_samples_split=2, min_weight_fraction_leaf=0.0,\n",
      "              n_estimators=100, presort='auto', random_state=None,\n",
      "              subsample=1.0, verbose=0, warm_start=False\n",
      "Base model score: 0.4807\n",
      "Training set score: 0.9290\n",
      "Test set score: 0.8269\n",
      "\n",
      "Confusion Matrix:\n",
      "      predicted_0  predicted_1\n",
      "is_0           50            4\n",
      "is_1           14           36\n",
      "\n",
      "Classification Report:\n",
      "             precision    recall  f1-score   support\n",
      "\n",
      "          0       0.78      0.93      0.85        54\n",
      "          1       0.90      0.72      0.80        50\n",
      "\n",
      "avg / total       0.84      0.83      0.82       104\n",
      "\n",
      "\n",
      "\n",
      "Model:  AdaBoostClassifier\n",
      "Hyperparameters: algorithm='SAMME.R',\n",
      "          base_estimator=LogisticRegression(C=1.0, class_weight=None, dual=False, fit_intercept=True,\n",
      "          intercept_scaling=1, max_iter=100, multi_class='ovr', n_jobs=1,\n",
      "          penalty='l2', random_state=None, solver='liblinear', tol=0.0001,\n",
      "          verbose=0, warm_start=False),\n",
      "          learning_rate=1.0, n_estimators=10, random_state=None\n",
      "Base model score: 0.4807\n",
      "Training set score: 0.7387\n",
      "Test set score: 0.7307\n",
      "\n",
      "Confusion Matrix:\n",
      "      predicted_0  predicted_1\n",
      "is_0           48            6\n",
      "is_1           22           28\n",
      "\n",
      "Classification Report:\n",
      "             precision    recall  f1-score   support\n",
      "\n",
      "          0       0.69      0.89      0.77        54\n",
      "          1       0.82      0.56      0.67        50\n",
      "\n",
      "avg / total       0.75      0.73      0.72       104\n",
      "\n",
      "\n",
      "\n"
     ]
    }
   ],
   "source": [
    "models = [lr, rf, et, gb, ab]\n",
    "for model in models:\n",
    "    print \"Model: \", str(model).split(\"(\")[0]\n",
    "    print \"Hyperparameters: \" + str(model)[len(str(model).split(\"(\")[0])+1:-1]\n",
    "    run_model(x_train, y_train, x_test, y_test, model)\n",
    "    print \"\\n\""
   ]
  },
  {
   "cell_type": "code",
   "execution_count": null,
   "metadata": {
    "collapsed": true
   },
   "outputs": [],
   "source": []
  },
  {
   "cell_type": "code",
   "execution_count": null,
   "metadata": {
    "collapsed": true
   },
   "outputs": [],
   "source": []
  },
  {
   "cell_type": "code",
   "execution_count": null,
   "metadata": {
    "collapsed": true
   },
   "outputs": [],
   "source": []
  },
  {
   "cell_type": "code",
   "execution_count": 467,
   "metadata": {
    "collapsed": true
   },
   "outputs": [],
   "source": [
    "def transform(df):\n",
    "    newdf = df\n",
    "    newdf['is_hs'] = newdf['Elementary, Middle, or High School'].apply(lambda x: 1 if x=='HS' else 0)\n",
    "    newdf['is_es'] = newdf['Elementary, Middle, or High School'].apply(lambda x: 1 if x=='ES' else 0)\n",
    "    newdf['healthy_school'] = newdf['Healthy Schools Certified?'].apply(lambda x: 1 if x=='Yes' else 0)\n",
    "    newdf['unsafe'] = newdf['Safety Icon '].apply(lambda x: 1 if 'Weak' in x else 0)\n",
    "    newdf['weak_family_involvement'] = newdf['Family Involvement Icon'].apply(lambda x: 1 if 'Weak' in x else 0)\n",
    "    newdf['weak_environment'] = newdf['Environment Icon '].apply(lambda x: 1 if 'Weak' in x else 0)\n",
    "    newdf['weak_teachers'] = newdf['Teachers Icon '].apply(lambda x: 1 if 'Weak' in x else 0)\n",
    "    newdf['weak_parent_environment'] = newdf['Parent Environment Icon'].apply(lambda x: 1 if 'Weak' in x else 0)\n",
    "    newdf['Average Student Attendance'] = newdf['Average Student Attendance'].apply(lambda x: float(str(x)[:-1]))\n",
    "    newdf['Individualized Education Program Compliance Rate '] = newdf['Individualized Education Program Compliance Rate '].apply(lambda x: float(str(x)[:-1]))\n",
    "    return newdf\n",
    "    \n",
    "def set_x(df):\n",
    "    return df[['is_hs', u'is_es', u'healthy_school', 'unsafe', 'weak_family_involvement', 'weak_environment', 'weak_teachers', 'weak_parent_environment', 'Average Student Attendance', 'Rate of Misconducts (per 100 students) ']].copy()\n",
    "\n",
    "def set_y(df):\n",
    "    return df['probation'].copy()\n",
    "\n",
    "def get_predictions(train_x, train_y, x_test):\n",
    "    new_x_test = x_test\n",
    "    rf = RandomForestClassifier(n_estimators=200, min_samples_leaf=5)\n",
    "    rf.fit(train_x, train_y)\n",
    "    new_x_test['predictions'] = rf.predict(x_test)\n",
    "    return new_x_test\n",
    "\n",
    "def submission_file(x_test, original_x_test):\n",
    "    x_test['Name of School'] = original_x_test['Name of School']\n",
    "    submission = x_test[['Name of School','predictions']]\n",
    "    submission.to_csv('submission_classification.csv', encoding='utf-8', index=False)\n",
    "    \n",
    "    \n",
    "def pipeline(train_df, test_df):\n",
    "    transformed_train = transform(train_df)\n",
    "    transformed_test = transform(test_df)\n",
    "    x_train = set_x(transformed_train)\n",
    "    y_train = set_y(transformed_train)\n",
    "    x_test = set_x(transformed_test)\n",
    "    with_predictions = get_predictions(x_train, y_train, x_test)\n",
    "    submission_file(with_predictions, test_df)"
   ]
  },
  {
   "cell_type": "code",
   "execution_count": 468,
   "metadata": {
    "collapsed": true
   },
   "outputs": [],
   "source": [
    "school_train = pd.read_csv('Datasets/project_5_data/classification/school_data_training.csv')\n",
    "school_test = pd.read_csv('Datasets/project_5_data/classification/school_data_test.csv')"
   ]
  },
  {
   "cell_type": "code",
   "execution_count": 469,
   "metadata": {
    "collapsed": true
   },
   "outputs": [],
   "source": [
    "pipeline(school_train, school_test)"
   ]
  },
  {
   "cell_type": "code",
   "execution_count": null,
   "metadata": {
    "collapsed": true
   },
   "outputs": [],
   "source": []
  }
 ],
 "metadata": {
  "anaconda-cloud": {},
  "kernelspec": {
   "display_name": "Python [Root]",
   "language": "python",
   "name": "Python [Root]"
  },
  "language_info": {
   "codemirror_mode": {
    "name": "ipython",
    "version": 2
   },
   "file_extension": ".py",
   "mimetype": "text/x-python",
   "name": "python",
   "nbconvert_exporter": "python",
   "pygments_lexer": "ipython2",
   "version": "2.7.12"
  }
 },
 "nbformat": 4,
 "nbformat_minor": 2
}
