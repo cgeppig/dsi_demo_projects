{
 "cells": [
  {
   "cell_type": "code",
   "execution_count": 59,
   "metadata": {
    "collapsed": false
   },
   "outputs": [],
   "source": [
    "import pandas as pd\n",
    "import numpy as np\n",
    "import matplotlib.pyplot as plt\n",
    "%matplotlib inline\n",
    "from sklearn.cross_validation import train_test_split\n",
    "from sklearn.linear_model import LinearRegression\n",
    "from sklearn.ensemble import GradientBoostingRegressor\n",
    "from sklearn.ensemble import AdaBoostRegressor\n",
    "from sklearn.ensemble import RandomForestRegressor\n",
    "from sklearn.ensemble import ExtraTreesRegressor\n",
    "from sklearn.tree import DecisionTreeRegressor"
   ]
  },
  {
   "cell_type": "code",
   "execution_count": 3,
   "metadata": {
    "collapsed": true
   },
   "outputs": [],
   "source": [
    "uni = pd.read_csv('/Users/christophereppig/Datasets/project_5_data/regression/university_train.csv')"
   ]
  },
  {
   "cell_type": "code",
   "execution_count": 4,
   "metadata": {
    "collapsed": false
   },
   "outputs": [
    {
     "data": {
      "text/plain": [
       "(3211, 27)"
      ]
     },
     "execution_count": 4,
     "metadata": {},
     "output_type": "execute_result"
    }
   ],
   "source": [
    "uni.shape"
   ]
  },
  {
   "cell_type": "code",
   "execution_count": 5,
   "metadata": {
    "collapsed": false,
    "scrolled": true
   },
   "outputs": [
    {
     "data": {
      "text/html": [
       "<div>\n",
       "<table border=\"1\" class=\"dataframe\">\n",
       "  <thead>\n",
       "    <tr style=\"text-align: right;\">\n",
       "      <th></th>\n",
       "      <th>INSTNM</th>\n",
       "      <th>CITY</th>\n",
       "      <th>STABBR</th>\n",
       "      <th>ZIP</th>\n",
       "      <th>ACCREDAGENCY</th>\n",
       "      <th>MAIN</th>\n",
       "      <th>NUMBRANCH</th>\n",
       "      <th>PREDDEG</th>\n",
       "      <th>HIGHDEG</th>\n",
       "      <th>CONTROL</th>\n",
       "      <th>...</th>\n",
       "      <th>RELAFFIL</th>\n",
       "      <th>DISTANCEONLY</th>\n",
       "      <th>UGDS</th>\n",
       "      <th>AGE_ENTRY</th>\n",
       "      <th>FEMALE</th>\n",
       "      <th>MARRIED</th>\n",
       "      <th>DEPENDENT</th>\n",
       "      <th>MD_FAMINC</th>\n",
       "      <th>percent_on_student_loan</th>\n",
       "      <th>id_number</th>\n",
       "    </tr>\n",
       "  </thead>\n",
       "  <tbody>\n",
       "    <tr>\n",
       "      <th>0</th>\n",
       "      <td>Panola College</td>\n",
       "      <td>Carthage</td>\n",
       "      <td>TX</td>\n",
       "      <td>75633-2397</td>\n",
       "      <td>Southern Association of Colleges and Schools C...</td>\n",
       "      <td>1</td>\n",
       "      <td>1</td>\n",
       "      <td>1</td>\n",
       "      <td>2</td>\n",
       "      <td>1</td>\n",
       "      <td>...</td>\n",
       "      <td>-2.0</td>\n",
       "      <td>0.0</td>\n",
       "      <td>2056.0</td>\n",
       "      <td>25.927665</td>\n",
       "      <td>0.706853</td>\n",
       "      <td>0.176396</td>\n",
       "      <td>0.479061</td>\n",
       "      <td>19588.54338</td>\n",
       "      <td>26.05</td>\n",
       "      <td>3756</td>\n",
       "    </tr>\n",
       "    <tr>\n",
       "      <th>1</th>\n",
       "      <td>Palo Alto University</td>\n",
       "      <td>Palo Alto</td>\n",
       "      <td>CA</td>\n",
       "      <td>94304-1337</td>\n",
       "      <td>Western Association of Schools and Colleges Se...</td>\n",
       "      <td>1</td>\n",
       "      <td>1</td>\n",
       "      <td>3</td>\n",
       "      <td>4</td>\n",
       "      <td>2</td>\n",
       "      <td>...</td>\n",
       "      <td>-2.0</td>\n",
       "      <td>0.0</td>\n",
       "      <td>194.0</td>\n",
       "      <td>29.712871</td>\n",
       "      <td>0.732673</td>\n",
       "      <td>0.188119</td>\n",
       "      <td>0.306931</td>\n",
       "      <td>18157.66968</td>\n",
       "      <td>68.23</td>\n",
       "      <td>449</td>\n",
       "    </tr>\n",
       "    <tr>\n",
       "      <th>2</th>\n",
       "      <td>Quincy University</td>\n",
       "      <td>Quincy</td>\n",
       "      <td>IL</td>\n",
       "      <td>62301-2699</td>\n",
       "      <td>North Central Association of Colleges and Scho...</td>\n",
       "      <td>1</td>\n",
       "      <td>1</td>\n",
       "      <td>3</td>\n",
       "      <td>4</td>\n",
       "      <td>2</td>\n",
       "      <td>...</td>\n",
       "      <td>30.0</td>\n",
       "      <td>0.0</td>\n",
       "      <td>1075.0</td>\n",
       "      <td>21.532362</td>\n",
       "      <td>0.543689</td>\n",
       "      <td>0.061489</td>\n",
       "      <td>0.826861</td>\n",
       "      <td>50437.83939</td>\n",
       "      <td>70.23</td>\n",
       "      <td>1121</td>\n",
       "    </tr>\n",
       "    <tr>\n",
       "      <th>3</th>\n",
       "      <td>Fortis College-Orange Park</td>\n",
       "      <td>Orange Park</td>\n",
       "      <td>FL</td>\n",
       "      <td>32065</td>\n",
       "      <td>Accrediting Council for Independent Colleges a...</td>\n",
       "      <td>1</td>\n",
       "      <td>2</td>\n",
       "      <td>1</td>\n",
       "      <td>2</td>\n",
       "      <td>3</td>\n",
       "      <td>...</td>\n",
       "      <td>-2.0</td>\n",
       "      <td>0.0</td>\n",
       "      <td>312.0</td>\n",
       "      <td>29.542683</td>\n",
       "      <td>0.847561</td>\n",
       "      <td>0.288618</td>\n",
       "      <td>0.256098</td>\n",
       "      <td>15967.10174</td>\n",
       "      <td>69.55</td>\n",
       "      <td>5343</td>\n",
       "    </tr>\n",
       "    <tr>\n",
       "      <th>4</th>\n",
       "      <td>Southwestern Assemblies of God University</td>\n",
       "      <td>Waxahachie</td>\n",
       "      <td>TX</td>\n",
       "      <td>75165</td>\n",
       "      <td>Southern Association of Colleges and Schools C...</td>\n",
       "      <td>1</td>\n",
       "      <td>1</td>\n",
       "      <td>3</td>\n",
       "      <td>4</td>\n",
       "      <td>2</td>\n",
       "      <td>...</td>\n",
       "      <td>27.0</td>\n",
       "      <td>0.0</td>\n",
       "      <td>1656.0</td>\n",
       "      <td>22.794651</td>\n",
       "      <td>0.475645</td>\n",
       "      <td>0.120344</td>\n",
       "      <td>0.763133</td>\n",
       "      <td>41197.69899</td>\n",
       "      <td>74.29</td>\n",
       "      <td>3782</td>\n",
       "    </tr>\n",
       "  </tbody>\n",
       "</table>\n",
       "<p>5 rows × 27 columns</p>\n",
       "</div>"
      ],
      "text/plain": [
       "                                      INSTNM         CITY STABBR         ZIP  \\\n",
       "0                             Panola College     Carthage     TX  75633-2397   \n",
       "1                       Palo Alto University    Palo Alto     CA  94304-1337   \n",
       "2                          Quincy University       Quincy     IL  62301-2699   \n",
       "3                 Fortis College-Orange Park  Orange Park     FL       32065   \n",
       "4  Southwestern Assemblies of God University   Waxahachie     TX       75165   \n",
       "\n",
       "                                        ACCREDAGENCY  MAIN  NUMBRANCH  \\\n",
       "0  Southern Association of Colleges and Schools C...     1          1   \n",
       "1  Western Association of Schools and Colleges Se...     1          1   \n",
       "2  North Central Association of Colleges and Scho...     1          1   \n",
       "3  Accrediting Council for Independent Colleges a...     1          2   \n",
       "4  Southern Association of Colleges and Schools C...     1          1   \n",
       "\n",
       "   PREDDEG  HIGHDEG  CONTROL    ...      RELAFFIL  DISTANCEONLY    UGDS  \\\n",
       "0        1        2        1    ...          -2.0           0.0  2056.0   \n",
       "1        3        4        2    ...          -2.0           0.0   194.0   \n",
       "2        3        4        2    ...          30.0           0.0  1075.0   \n",
       "3        1        2        3    ...          -2.0           0.0   312.0   \n",
       "4        3        4        2    ...          27.0           0.0  1656.0   \n",
       "\n",
       "   AGE_ENTRY    FEMALE   MARRIED  DEPENDENT    MD_FAMINC  \\\n",
       "0  25.927665  0.706853  0.176396   0.479061  19588.54338   \n",
       "1  29.712871  0.732673  0.188119   0.306931  18157.66968   \n",
       "2  21.532362  0.543689  0.061489   0.826861  50437.83939   \n",
       "3  29.542683  0.847561  0.288618   0.256098  15967.10174   \n",
       "4  22.794651  0.475645  0.120344   0.763133  41197.69899   \n",
       "\n",
       "   percent_on_student_loan  id_number  \n",
       "0                    26.05       3756  \n",
       "1                    68.23        449  \n",
       "2                    70.23       1121  \n",
       "3                    69.55       5343  \n",
       "4                    74.29       3782  \n",
       "\n",
       "[5 rows x 27 columns]"
      ]
     },
     "execution_count": 5,
     "metadata": {},
     "output_type": "execute_result"
    }
   ],
   "source": [
    "uni.head()"
   ]
  },
  {
   "cell_type": "code",
   "execution_count": 6,
   "metadata": {
    "collapsed": false,
    "scrolled": true
   },
   "outputs": [
    {
     "data": {
      "text/plain": [
       "INSTNM                     0\n",
       "CITY                       0\n",
       "STABBR                     0\n",
       "ZIP                        0\n",
       "ACCREDAGENCY               0\n",
       "MAIN                       0\n",
       "NUMBRANCH                  0\n",
       "PREDDEG                    0\n",
       "HIGHDEG                    0\n",
       "CONTROL                    0\n",
       "LOCALE                     0\n",
       "CCUGPROF                   0\n",
       "CCSIZSET                   0\n",
       "HBCU                       0\n",
       "PBI                        0\n",
       "MENONLY                    0\n",
       "WOMENONLY                  0\n",
       "RELAFFIL                   0\n",
       "DISTANCEONLY               0\n",
       "UGDS                       0\n",
       "AGE_ENTRY                  0\n",
       "FEMALE                     0\n",
       "MARRIED                    0\n",
       "DEPENDENT                  0\n",
       "MD_FAMINC                  0\n",
       "percent_on_student_loan    0\n",
       "id_number                  0\n",
       "dtype: int64"
      ]
     },
     "execution_count": 6,
     "metadata": {},
     "output_type": "execute_result"
    }
   ],
   "source": [
    "uni.isnull().sum()"
   ]
  },
  {
   "cell_type": "code",
   "execution_count": 7,
   "metadata": {
    "collapsed": false
   },
   "outputs": [
    {
     "data": {
      "text/plain": [
       "INSTNM                      object\n",
       "CITY                        object\n",
       "STABBR                      object\n",
       "ZIP                         object\n",
       "ACCREDAGENCY                object\n",
       "MAIN                         int64\n",
       "NUMBRANCH                    int64\n",
       "PREDDEG                      int64\n",
       "HIGHDEG                      int64\n",
       "CONTROL                      int64\n",
       "LOCALE                     float64\n",
       "CCUGPROF                   float64\n",
       "CCSIZSET                   float64\n",
       "HBCU                       float64\n",
       "PBI                        float64\n",
       "MENONLY                    float64\n",
       "WOMENONLY                  float64\n",
       "RELAFFIL                   float64\n",
       "DISTANCEONLY               float64\n",
       "UGDS                       float64\n",
       "AGE_ENTRY                  float64\n",
       "FEMALE                     float64\n",
       "MARRIED                    float64\n",
       "DEPENDENT                  float64\n",
       "MD_FAMINC                  float64\n",
       "percent_on_student_loan    float64\n",
       "id_number                    int64\n",
       "dtype: object"
      ]
     },
     "execution_count": 7,
     "metadata": {},
     "output_type": "execute_result"
    }
   ],
   "source": [
    "uni.dtypes"
   ]
  },
  {
   "cell_type": "markdown",
   "metadata": {},
   "source": [
    "# EDA"
   ]
  },
  {
   "cell_type": "markdown",
   "metadata": {},
   "source": [
    "### INSTNM\n",
    "institution name"
   ]
  },
  {
   "cell_type": "code",
   "execution_count": 8,
   "metadata": {
    "collapsed": false
   },
   "outputs": [
    {
     "data": {
      "text/plain": [
       "0                               Panola College\n",
       "1                         Palo Alto University\n",
       "2                            Quincy University\n",
       "3                   Fortis College-Orange Park\n",
       "4    Southwestern Assemblies of God University\n",
       "Name: INSTNM, dtype: object"
      ]
     },
     "execution_count": 8,
     "metadata": {},
     "output_type": "execute_result"
    }
   ],
   "source": [
    "uni['INSTNM'].head()"
   ]
  },
  {
   "cell_type": "markdown",
   "metadata": {},
   "source": [
    "### City\n",
    "\n",
    "could use the top few of these"
   ]
  },
  {
   "cell_type": "code",
   "execution_count": 9,
   "metadata": {
    "collapsed": false
   },
   "outputs": [
    {
     "data": {
      "text/plain": [
       "Houston          31\n",
       "Chicago          30\n",
       "New York         25\n",
       "San Antonio      23\n",
       "Springfield      20\n",
       "Columbia         19\n",
       "Phoenix          19\n",
       "Miami            18\n",
       "Los Angeles      18\n",
       "San Diego        17\n",
       "Jacksonville     16\n",
       "Rochester        16\n",
       "Nashville        16\n",
       "Philadelphia     15\n",
       "Dallas           15\n",
       "Columbus         15\n",
       "Denver           15\n",
       "Cincinnati       14\n",
       "Indianapolis     14\n",
       "Sacramento       14\n",
       "Brooklyn         14\n",
       "Portland         13\n",
       "Lancaster        13\n",
       "Pittsburgh       13\n",
       "Austin           13\n",
       "Tulsa            12\n",
       "Washington       12\n",
       "Atlanta          12\n",
       "Minneapolis      12\n",
       "Orlando          12\n",
       "                 ..\n",
       "Hobe Sound        1\n",
       "Cupertino         1\n",
       "Slippery Rock     1\n",
       "Battle Creek      1\n",
       "Buies Creek       1\n",
       "Speedway          1\n",
       "Rolla             1\n",
       "Stratford         1\n",
       "Brewton           1\n",
       "Biloxi            1\n",
       "MEADVILLE         1\n",
       "Itta Bena         1\n",
       "Montevallo        1\n",
       "Wesson            1\n",
       "Ormond Beach      1\n",
       "Claremont         1\n",
       "Mechanicsburg     1\n",
       "North Platte      1\n",
       "Elmhurst          1\n",
       "Estherville       1\n",
       "Carthage          1\n",
       "Grants Pass       1\n",
       "Beaufort          1\n",
       "Minden            1\n",
       "Norwich           1\n",
       "McLean            1\n",
       "Kenner            1\n",
       "Rangely           1\n",
       "Cheyney           1\n",
       "McAlester         1\n",
       "Name: CITY, dtype: int64"
      ]
     },
     "execution_count": 9,
     "metadata": {},
     "output_type": "execute_result"
    }
   ],
   "source": [
    "uni['CITY'].value_counts()"
   ]
  },
  {
   "cell_type": "markdown",
   "metadata": {},
   "source": [
    "### STABBR\n",
    "state\n",
    "\n",
    "I could do the top few of these"
   ]
  },
  {
   "cell_type": "code",
   "execution_count": 10,
   "metadata": {
    "collapsed": false
   },
   "outputs": [
    {
     "data": {
      "text/plain": [
       "CA    309\n",
       "TX    207\n",
       "NY    182\n",
       "FL    170\n",
       "OH    165\n",
       "PA    151\n",
       "IL    112\n",
       "NC    108\n",
       "GA     94\n",
       "PR     86\n",
       "MO     80\n",
       "VA     79\n",
       "MI     77\n",
       "TN     74\n",
       "NJ     70\n",
       "MA     67\n",
       "MN     67\n",
       "OK     66\n",
       "CO     65\n",
       "AZ     61\n",
       "Name: STABBR, dtype: int64"
      ]
     },
     "execution_count": 10,
     "metadata": {},
     "output_type": "execute_result"
    }
   ],
   "source": [
    "uni['STABBR'].value_counts().head(20)"
   ]
  },
  {
   "cell_type": "markdown",
   "metadata": {},
   "source": [
    "### ZIP\n",
    "\n",
    "probably not enough varition here to bother with"
   ]
  },
  {
   "cell_type": "code",
   "execution_count": 11,
   "metadata": {
    "collapsed": false
   },
   "outputs": [
    {
     "data": {
      "text/plain": [
       "85021    5\n",
       "78229    5\n",
       "00603    4\n",
       "00961    4\n",
       "85281    4\n",
       "80226    4\n",
       "23462    4\n",
       "00959    4\n",
       "37214    3\n",
       "65807    3\n",
       "14623    3\n",
       "16146    3\n",
       "75234    3\n",
       "41042    3\n",
       "93534    3\n",
       "74145    3\n",
       "00612    3\n",
       "12205    3\n",
       "84107    3\n",
       "85716    3\n",
       "Name: ZIP, dtype: int64"
      ]
     },
     "execution_count": 11,
     "metadata": {},
     "output_type": "execute_result"
    }
   ],
   "source": [
    "uni['ZIP'].value_counts().head(20)"
   ]
  },
  {
   "cell_type": "markdown",
   "metadata": {},
   "source": [
    "### ACCREDAGENCY\n",
    "\n",
    "accredidation agency\n",
    "\n",
    "could take the top few of these"
   ]
  },
  {
   "cell_type": "code",
   "execution_count": 12,
   "metadata": {
    "collapsed": false
   },
   "outputs": [
    {
     "data": {
      "text/plain": [
       "North Central Association of Colleges and Schools The Higher Learning Commission                        643\n",
       "Southern Association of Colleges and Schools Commission on Colleges                                     476\n",
       "Middle States Commission on Higher Education                                                            321\n",
       "National Accrediting Commission of Cosmetology Arts and Sciences                                        315\n",
       "Accrediting Commission of Career Schools and Colleges                                                   278\n",
       "Accrediting Council for Independent Colleges and Schools                                                277\n",
       "Council on Occupational Education                                                                       247\n",
       "Northwest Commission on Colleges and Universities                                                       100\n",
       "New England Association of Schools and Colleges Commission on Institutions of Higher Education           99\n",
       "Western Association of Schools and Colleges Senior Colleges and University Commission                    98\n",
       "Accrediting Bureau of Health Education Schools                                                           93\n",
       "Western Association of Schools and Colleges Accrediting Commission for Community and Junior Colleges     90\n",
       "Accrediting Council for Continuing Education & Training                                                  42\n",
       "Oklahoma State Board of Career and Technology Education                                                  27\n",
       "Association for Bibical Higher Educaiton                                                                 18\n",
       "Name: ACCREDAGENCY, dtype: int64"
      ]
     },
     "execution_count": 12,
     "metadata": {},
     "output_type": "execute_result"
    }
   ],
   "source": [
    "uni['ACCREDAGENCY'].value_counts().head(15)"
   ]
  },
  {
   "cell_type": "markdown",
   "metadata": {},
   "source": [
    "### MAIN\n",
    "\n",
    "1 = main campus\n",
    "\n",
    "0 = satelite campus\n",
    "\n",
    "already a dummy variable. keep as-is."
   ]
  },
  {
   "cell_type": "code",
   "execution_count": 13,
   "metadata": {
    "collapsed": false
   },
   "outputs": [
    {
     "data": {
      "text/plain": [
       "1    2455\n",
       "0     756\n",
       "Name: MAIN, dtype: int64"
      ]
     },
     "execution_count": 13,
     "metadata": {},
     "output_type": "execute_result"
    }
   ],
   "source": [
    "uni['MAIN'].value_counts()"
   ]
  },
  {
   "cell_type": "markdown",
   "metadata": {},
   "source": [
    "### NUMBRANCH\n",
    "\n",
    "number of branches, including main branch\n",
    "\n",
    "could transform or leave as-is\n",
    "\n",
    "log-transform doesn't help much. there may not be enough variation here to be useful"
   ]
  },
  {
   "cell_type": "code",
   "execution_count": 14,
   "metadata": {
    "collapsed": false,
    "scrolled": true
   },
   "outputs": [
    {
     "data": {
      "text/plain": [
       "count    3211.000000\n",
       "mean        3.990346\n",
       "std         8.351109\n",
       "min         1.000000\n",
       "25%         1.000000\n",
       "50%         1.000000\n",
       "75%         3.000000\n",
       "max        80.000000\n",
       "Name: NUMBRANCH, dtype: float64"
      ]
     },
     "execution_count": 14,
     "metadata": {},
     "output_type": "execute_result"
    }
   ],
   "source": [
    "uni['NUMBRANCH'].describe()"
   ]
  },
  {
   "cell_type": "code",
   "execution_count": 15,
   "metadata": {
    "collapsed": false
   },
   "outputs": [
    {
     "data": {
      "text/plain": [
       "(array([ 2840.,   192.,    50.,    28.,    87.,     0.,     0.,     0.,\n",
       "            0.,    14.]),\n",
       " array([  1. ,   8.9,  16.8,  24.7,  32.6,  40.5,  48.4,  56.3,  64.2,\n",
       "         72.1,  80. ]),\n",
       " <a list of 10 Patch objects>)"
      ]
     },
     "execution_count": 15,
     "metadata": {},
     "output_type": "execute_result"
    },
    {
     "data": {
      "image/png": "[encoded data removed]",
      "text/plain": [
       "<matplotlib.figure.Figure at 0x11277e510>"
      ]
     },
     "metadata": {},
     "output_type": "display_data"
    }
   ],
   "source": [
    "plt.hist(uni['NUMBRANCH'])"
   ]
  },
  {
   "cell_type": "code",
   "execution_count": 16,
   "metadata": {
    "collapsed": false
   },
   "outputs": [
    {
     "data": {
      "text/plain": [
       "(array([ 2133.,   262.,   143.,   186.,   116.,   149.,    71.,   112.,\n",
       "           25.,    14.]),\n",
       " array([ 0.        ,  0.43820266,  0.87640533,  1.31460799,  1.75281065,\n",
       "         2.19101332,  2.62921598,  3.06741864,  3.50562131,  3.94382397,\n",
       "         4.38202663]),\n",
       " <a list of 10 Patch objects>)"
      ]
     },
     "execution_count": 16,
     "metadata": {},
     "output_type": "execute_result"
    },
    {
     "data": {
      "image/png": "[encoded data removed]",
      "text/plain": [
       "<matplotlib.figure.Figure at 0x1124d4250>"
      ]
     },
     "metadata": {},
     "output_type": "display_data"
    }
   ],
   "source": [
    "plt.hist(np.log(uni['NUMBRANCH']))"
   ]
  },
  {
   "cell_type": "markdown",
   "metadata": {},
   "source": [
    "### PREDDEG\n",
    "\n",
    "Predominant Degree Served\n",
    "\n",
    "- 0: Not Classified\n",
    "- 1: Predominantly Certificates\n",
    "- 2: Predominantly Associates\n",
    "- 3: Predominantly Bachelors\n",
    "- 4: Entirely Graduate Degrees\n",
    "\n",
    "this will need some dummies"
   ]
  },
  {
   "cell_type": "code",
   "execution_count": 17,
   "metadata": {
    "collapsed": false
   },
   "outputs": [
    {
     "data": {
      "text/plain": [
       "1    1336\n",
       "3    1075\n",
       "2     793\n",
       "0       7\n",
       "Name: PREDDEG, dtype: int64"
      ]
     },
     "execution_count": 17,
     "metadata": {},
     "output_type": "execute_result"
    }
   ],
   "source": [
    "uni['PREDDEG'].value_counts()"
   ]
  },
  {
   "cell_type": "markdown",
   "metadata": {},
   "source": [
    "### HIGHDEG\n",
    "\n",
    "Highest Degree Awarded\n",
    "\n",
    "- 0: Non-Degree\n",
    "- 1: Certificate\n",
    "- 2: Associates\n",
    "- 3: Bachelors\n",
    "- 4: Graduate Degrees\n",
    "\n",
    "these will need dummies"
   ]
  },
  {
   "cell_type": "code",
   "execution_count": 18,
   "metadata": {
    "collapsed": false
   },
   "outputs": [
    {
     "data": {
      "text/plain": [
       "4    949\n",
       "2    948\n",
       "1    930\n",
       "3    372\n",
       "0     12\n",
       "Name: HIGHDEG, dtype: int64"
      ]
     },
     "execution_count": 18,
     "metadata": {},
     "output_type": "execute_result"
    }
   ],
   "source": [
    "uni['HIGHDEG'].value_counts()"
   ]
  },
  {
   "cell_type": "markdown",
   "metadata": {},
   "source": [
    "### CONTROL\n",
    "\n",
    "Private/Public Status\n",
    "\n",
    "- 1: Public\n",
    "- 2: Private Non-Profit\n",
    "- 3: Private For-Profit\n",
    "\n",
    "dummy these"
   ]
  },
  {
   "cell_type": "code",
   "execution_count": 19,
   "metadata": {
    "collapsed": false
   },
   "outputs": [
    {
     "data": {
      "text/plain": [
       "3    1303\n",
       "1    1233\n",
       "2     675\n",
       "Name: CONTROL, dtype: int64"
      ]
     },
     "execution_count": 19,
     "metadata": {},
     "output_type": "execute_result"
    }
   ],
   "source": [
    "uni['CONTROL'].value_counts()"
   ]
  },
  {
   "cell_type": "markdown",
   "metadata": {},
   "source": [
    "### LOCALE\n",
    "\n",
    "Type of Area for College\n",
    "\n",
    "- 11 City: Large (population of 250,000 or more)\n",
    "- 12 City: Midsize (population of at least 100,000 but less than 250,000)\n",
    "- 13 City: Small (population less than 100,000)\n",
    "- 21 Suburb: Large (outside principal city, in urbanized area with population of 250,000 or more)\n",
    "- 22 Suburb: Midsize (outside principal city, in urbanized area with population of at least 100,000 but less than 250,000)\n",
    "- 23 Suburb: Small (outside principal city, in urbanized area with population less than 100,000)\n",
    "- 31 Town: Fringe (in urban cluster up to 10 miles from an urbanized area)\n",
    "- 32 Town: Distant (in urban cluster more than 10 miles and up to 35 miles from an urbanized area)\n",
    "- 33 Town: Remote (in urban cluster more than 35 miles from an urbanized area)\n",
    "- 41 Rural: Fringe (rural territory up to 5 miles from an urbanized area or up to 2.5 miles from an urban cluster)\n",
    "- 42 Rural: Distant (rural territory more than 5 miles but up to 25 miles from an urbanized area or more than 2.5 and up to 10 miles from an urban cluster)\n",
    "- 43 Rural: Remote (rural territory more than 25 miles from an urbanized area and more than 10 miles from an urban cluster)\n",
    "\n",
    "\n",
    "could bin/dummy into city, suburb, town, rural\n",
    "\n",
    "could dummy just the most common ones"
   ]
  },
  {
   "cell_type": "code",
   "execution_count": 20,
   "metadata": {
    "collapsed": false
   },
   "outputs": [
    {
     "data": {
      "text/plain": [
       " 21.0    805\n",
       " 11.0    723\n",
       " 13.0    448\n",
       " 12.0    384\n",
       " 41.0    203\n",
       " 32.0    187\n",
       " 33.0    165\n",
       " 22.0     81\n",
       " 31.0     66\n",
       " 23.0     60\n",
       " 42.0     55\n",
       " 43.0     32\n",
       "-3.0       2\n",
       "Name: LOCALE, dtype: int64"
      ]
     },
     "execution_count": 20,
     "metadata": {},
     "output_type": "execute_result"
    }
   ],
   "source": [
    "uni['LOCALE'].value_counts()"
   ]
  },
  {
   "cell_type": "markdown",
   "metadata": {},
   "source": [
    "### CCUGPROF\n",
    "\n",
    "Carnegie Classification for Undergrad Profile\n",
    "\n",
    "- -2 Not applicable\n",
    "- 0 Not classified (Exclusively Graduate)\n",
    "- 1 Two-year, higher part-time\n",
    "- 2 Two-year, mixed part/full-time\n",
    "- 3 Two-year, medium full-time\n",
    "- 4 Two-year, higher full-time\n",
    "- 5 Four-year, higher part-time\n",
    "- 6 Four-year, medium full-time, inclusive, lower transfer-in\n",
    "- 7 Four-year, medium full-time, inclusive, higher transfer-in\n",
    "- 8 Four-year, medium full-time, selective, lower transfer-in\n",
    "- 9 Four-year, medium full-time , selective, higher transfer-in\n",
    "- 10 Four-year, full-time, inclusive, lower transfer-in\n",
    "- 11 Four-year, full-time, inclusive, higher transfer-in\n",
    "- 12 Four-year, full-time, selective, lower transfer-in\n",
    "- 13 Four-year, full-time, selective, higher transfer-in\n",
    "- 14 Four-year, full-time, more selective, lower transfer-in\n",
    "- 15 Four-year, full-time, more selective, higher transfer-in\n",
    "\n",
    "dummy the most common ones?"
   ]
  },
  {
   "cell_type": "code",
   "execution_count": 21,
   "metadata": {
    "collapsed": false
   },
   "outputs": [
    {
     "data": {
      "text/plain": [
       "-2.0     945\n",
       " 1.0     336\n",
       " 11.0    278\n",
       " 5.0     250\n",
       " 2.0     249\n",
       " 13.0    211\n",
       " 4.0     179\n",
       " 7.0     169\n",
       " 3.0     145\n",
       " 10.0     90\n",
       " 9.0      90\n",
       " 14.0     90\n",
       " 15.0     77\n",
       " 12.0     58\n",
       " 6.0      38\n",
       " 8.0       4\n",
       " 0.0       2\n",
       "Name: CCUGPROF, dtype: int64"
      ]
     },
     "execution_count": 21,
     "metadata": {},
     "output_type": "execute_result"
    }
   ],
   "source": [
    "uni['CCUGPROF'].value_counts()"
   ]
  },
  {
   "cell_type": "markdown",
   "metadata": {},
   "source": [
    "### CCSIZSET\n",
    "\n",
    "Carnegie Classification Size and Setting\n",
    "\n",
    "- -2 Not applicable\n",
    "- 0 (Not classified)\n",
    "- 1 Two-year, very small\n",
    "- 2 Two-year, small\n",
    "- 3 Two-year, medium\n",
    "- 4 Two-year, large\n",
    "- 5 Two-year, very large\n",
    "- 6 Four-year, very small, primarily nonresidential\n",
    "- 7 Four-year, very small, primarily residential\n",
    "- 8 Four-year, very small, highly residential\n",
    "- 9 Four-year, small, primarily nonresidential\n",
    "- 10 Four-year, small, primarily residential\n",
    "- 11 Four-year, small, highly residential\n",
    "- 12 Four-year, medium, primarily nonresidential\n",
    "- 13 Four-year, medium, primarily residential\n",
    "- 14 Four-year, medium, highly residential\n",
    "- 15 Four-year, large, primarily nonresidential\n",
    "- 16 Four-year, large, primarily residential\n",
    "- 17 Four-year, large, highly residential\n",
    "- 18 Exclusively graduate/professional\n",
    "\n",
    "could dummy the most common ones\n",
    "\n",
    "could bin into fewer groups"
   ]
  },
  {
   "cell_type": "code",
   "execution_count": 22,
   "metadata": {
    "collapsed": false
   },
   "outputs": [
    {
     "data": {
      "text/plain": [
       "-2.0     945\n",
       " 6.0     346\n",
       " 2.0     272\n",
       " 1.0     251\n",
       " 3.0     225\n",
       " 9.0     143\n",
       " 12.0    132\n",
       " 11.0    119\n",
       " 10.0    118\n",
       " 13.0    112\n",
       " 4.0     110\n",
       " 15.0     93\n",
       " 16.0     90\n",
       " 14.0     72\n",
       " 7.0      57\n",
       " 8.0      55\n",
       " 5.0      51\n",
       " 17.0     20\n",
       "Name: CCSIZSET, dtype: int64"
      ]
     },
     "execution_count": 22,
     "metadata": {},
     "output_type": "execute_result"
    }
   ],
   "source": [
    "uni['CCSIZSET'].value_counts()"
   ]
  },
  {
   "cell_type": "code",
   "execution_count": 23,
   "metadata": {
    "collapsed": false,
    "scrolled": true
   },
   "outputs": [
    {
     "data": {
      "text/plain": [
       "<Container object of 18 artists>"
      ]
     },
     "execution_count": 23,
     "metadata": {},
     "output_type": "execute_result"
    },
    {
     "data": {
      "image/png": "[encoded data removed]",
      "text/plain": [
       "<matplotlib.figure.Figure at 0x114dfd790>"
      ]
     },
     "metadata": {},
     "output_type": "display_data"
    }
   ],
   "source": [
    "plt.bar(uni['CCSIZSET'].value_counts().index, uni['CCSIZSET'].value_counts().values)"
   ]
  },
  {
   "cell_type": "markdown",
   "metadata": {},
   "source": [
    "### HBCU\n",
    "\n",
    "historically black college\n",
    "\n",
    "already dummy\n",
    "\n",
    "not much here"
   ]
  },
  {
   "cell_type": "code",
   "execution_count": 24,
   "metadata": {
    "collapsed": false
   },
   "outputs": [
    {
     "data": {
      "text/plain": [
       "0.0    3159\n",
       "1.0      52\n",
       "Name: HBCU, dtype: int64"
      ]
     },
     "execution_count": 24,
     "metadata": {},
     "output_type": "execute_result"
    }
   ],
   "source": [
    "uni['HBCU'].value_counts()"
   ]
  },
  {
   "cell_type": "markdown",
   "metadata": {},
   "source": [
    "### PBI\n",
    "\n",
    "predominantly black college\n",
    "\n",
    "already dummy\n",
    "\n",
    "also not a lot of variance here"
   ]
  },
  {
   "cell_type": "code",
   "execution_count": 25,
   "metadata": {
    "collapsed": false
   },
   "outputs": [
    {
     "data": {
      "text/plain": [
       "0.0    3150\n",
       "1.0      61\n",
       "Name: PBI, dtype: int64"
      ]
     },
     "execution_count": 25,
     "metadata": {},
     "output_type": "execute_result"
    }
   ],
   "source": [
    "uni['PBI'].value_counts()"
   ]
  },
  {
   "cell_type": "markdown",
   "metadata": {},
   "source": [
    "### MENONLY\n",
    "\n",
    "men-only college\n",
    "\n",
    "already dummy\n",
    "\n",
    "no information here"
   ]
  },
  {
   "cell_type": "code",
   "execution_count": 26,
   "metadata": {
    "collapsed": false
   },
   "outputs": [
    {
     "data": {
      "text/plain": [
       "0.0    3211\n",
       "Name: MENONLY, dtype: int64"
      ]
     },
     "execution_count": 26,
     "metadata": {},
     "output_type": "execute_result"
    }
   ],
   "source": [
    "uni['MENONLY'].value_counts()"
   ]
  },
  {
   "cell_type": "markdown",
   "metadata": {},
   "source": [
    "### WOMENONLY\n",
    "\n",
    "women-only college\n",
    "\n",
    "already dummy\n",
    "\n",
    "very little variance\n",
    "\n"
   ]
  },
  {
   "cell_type": "code",
   "execution_count": 27,
   "metadata": {
    "collapsed": false
   },
   "outputs": [
    {
     "data": {
      "text/plain": [
       "0.0    3200\n",
       "1.0      11\n",
       "Name: WOMENONLY, dtype: int64"
      ]
     },
     "execution_count": 27,
     "metadata": {},
     "output_type": "execute_result"
    }
   ],
   "source": [
    "uni['WOMENONLY'].value_counts()"
   ]
  },
  {
   "cell_type": "markdown",
   "metadata": {},
   "source": [
    "### RELAFFIL\n",
    "\n",
    "I assume this is religious affiliation\n",
    "\n",
    "no labels"
   ]
  },
  {
   "cell_type": "code",
   "execution_count": 28,
   "metadata": {
    "collapsed": false
   },
   "outputs": [
    {
     "data": {
      "text/plain": [
       "-2.0     2845\n",
       " 30.0     106\n",
       " 71.0      40\n",
       " 54.0      28\n",
       " 66.0      21\n",
       "Name: RELAFFIL, dtype: int64"
      ]
     },
     "execution_count": 28,
     "metadata": {},
     "output_type": "execute_result"
    }
   ],
   "source": [
    "uni['RELAFFIL'].value_counts().head()"
   ]
  },
  {
   "cell_type": "markdown",
   "metadata": {},
   "source": [
    "### DISTANCEONLY\n",
    "\n",
    "distance-only campus\n",
    "\n",
    "already dummy. not much variance"
   ]
  },
  {
   "cell_type": "code",
   "execution_count": 29,
   "metadata": {
    "collapsed": false
   },
   "outputs": [
    {
     "data": {
      "text/plain": [
       "0.0    3193\n",
       "1.0      18\n",
       "Name: DISTANCEONLY, dtype: int64"
      ]
     },
     "execution_count": 29,
     "metadata": {},
     "output_type": "execute_result"
    }
   ],
   "source": [
    "uni['DISTANCEONLY'].value_counts()"
   ]
  },
  {
   "cell_type": "markdown",
   "metadata": {},
   "source": [
    "### UGDS\n",
    "\n",
    "Enrollment of Undergrad degree-seekers\n",
    "\n",
    "log-transform helps this out a lot"
   ]
  },
  {
   "cell_type": "code",
   "execution_count": 30,
   "metadata": {
    "collapsed": false,
    "scrolled": true
   },
   "outputs": [
    {
     "data": {
      "text/plain": [
       "count     3211.000000\n",
       "mean      3228.204609\n",
       "std       6050.558210\n",
       "min          4.000000\n",
       "25%        218.000000\n",
       "50%        805.000000\n",
       "75%       3228.500000\n",
       "max      77657.000000\n",
       "Name: UGDS, dtype: float64"
      ]
     },
     "execution_count": 30,
     "metadata": {},
     "output_type": "execute_result"
    }
   ],
   "source": [
    "uni['UGDS'].describe()"
   ]
  },
  {
   "cell_type": "code",
   "execution_count": 31,
   "metadata": {
    "collapsed": false
   },
   "outputs": [
    {
     "data": {
      "text/plain": [
       "(array([  2.81600000e+03,   2.30000000e+02,   9.90000000e+01,\n",
       "          3.90000000e+01,   1.30000000e+01,   1.00000000e+01,\n",
       "          3.00000000e+00,   0.00000000e+00,   0.00000000e+00,\n",
       "          1.00000000e+00]),\n",
       " array([  4.00000000e+00,   7.76930000e+03,   1.55346000e+04,\n",
       "          2.32999000e+04,   3.10652000e+04,   3.88305000e+04,\n",
       "          4.65958000e+04,   5.43611000e+04,   6.21264000e+04,\n",
       "          6.98917000e+04,   7.76570000e+04]),\n",
       " <a list of 10 Patch objects>)"
      ]
     },
     "execution_count": 31,
     "metadata": {},
     "output_type": "execute_result"
    },
    {
     "data": {
      "image/png": "[encoded data removed]",
      "text/plain": [
       "<matplotlib.figure.Figure at 0x114e1b090>"
      ]
     },
     "metadata": {},
     "output_type": "display_data"
    }
   ],
   "source": [
    "plt.hist(uni['UGDS'])"
   ]
  },
  {
   "cell_type": "code",
   "execution_count": 32,
   "metadata": {
    "collapsed": false,
    "scrolled": true
   },
   "outputs": [
    {
     "data": {
      "text/plain": [
       "(array([   2.,   15.,  162.,  589.,  632.,  567.,  557.,  418.,  235.,   34.]),\n",
       " array([  1.38629436,   2.37367062,   3.36104688,   4.34842314,\n",
       "          5.33579941,   6.32317567,   7.31055193,   8.29792819,\n",
       "          9.28530445,  10.27268071,  11.26005697]),\n",
       " <a list of 10 Patch objects>)"
      ]
     },
     "execution_count": 32,
     "metadata": {},
     "output_type": "execute_result"
    },
    {
     "data": {
      "image/png": "[encoded data removed]",
      "text/plain": [
       "<matplotlib.figure.Figure at 0x115232090>"
      ]
     },
     "metadata": {},
     "output_type": "display_data"
    }
   ],
   "source": [
    "plt.hist(np.log(uni['UGDS']))"
   ]
  },
  {
   "cell_type": "markdown",
   "metadata": {},
   "source": [
    "### AGE_ENTRY\n",
    "\n",
    "Age of Entry via Social Security Administration\n",
    "\n",
    "I'm not exactly sure what this is, but it looks good enough to use"
   ]
  },
  {
   "cell_type": "code",
   "execution_count": 33,
   "metadata": {
    "collapsed": false
   },
   "outputs": [
    {
     "data": {
      "text/plain": [
       "count    3211.000000\n",
       "mean       26.299659\n",
       "std         3.638664\n",
       "min        19.526450\n",
       "25%        23.704301\n",
       "50%        26.093496\n",
       "75%        28.584758\n",
       "max        50.416136\n",
       "Name: AGE_ENTRY, dtype: float64"
      ]
     },
     "execution_count": 33,
     "metadata": {},
     "output_type": "execute_result"
    }
   ],
   "source": [
    "uni['AGE_ENTRY'].describe()"
   ]
  },
  {
   "cell_type": "code",
   "execution_count": 34,
   "metadata": {
    "collapsed": false
   },
   "outputs": [
    {
     "data": {
      "text/plain": [
       "(array([ 542.,  924.,  999.,  545.,  145.,   43.,    6.,    2.,    4.,    1.]),\n",
       " array([ 19.52644997,  22.61541856,  25.70438715,  28.79335574,\n",
       "         31.88232433,  34.97129292,  38.06026152,  41.14923011,\n",
       "         44.2381987 ,  47.32716729,  50.41613588]),\n",
       " <a list of 10 Patch objects>)"
      ]
     },
     "execution_count": 34,
     "metadata": {},
     "output_type": "execute_result"
    },
    {
     "data": {
      "image/png": "[encoded data removed]",
      "text/plain": [
       "<matplotlib.figure.Figure at 0x115232710>"
      ]
     },
     "metadata": {},
     "output_type": "display_data"
    }
   ],
   "source": [
    "plt.hist(uni['AGE_ENTRY'])"
   ]
  },
  {
   "cell_type": "markdown",
   "metadata": {},
   "source": [
    "### FEMALE\n",
    "\n",
    "Share of Female Students via Social Security Administration\n",
    "\n",
    "could use as-is"
   ]
  },
  {
   "cell_type": "code",
   "execution_count": 35,
   "metadata": {
    "collapsed": false
   },
   "outputs": [
    {
     "data": {
      "text/plain": [
       "count    3211.000000\n",
       "mean        0.648094\n",
       "std         0.183079\n",
       "min         0.016109\n",
       "25%         0.552943\n",
       "50%         0.630776\n",
       "75%         0.773373\n",
       "max         0.984866\n",
       "Name: FEMALE, dtype: float64"
      ]
     },
     "execution_count": 35,
     "metadata": {},
     "output_type": "execute_result"
    }
   ],
   "source": [
    "uni['FEMALE'].describe()"
   ]
  },
  {
   "cell_type": "code",
   "execution_count": 36,
   "metadata": {
    "collapsed": false
   },
   "outputs": [
    {
     "data": {
      "text/plain": [
       "(array([  56.,   49.,   38.,   73.,  235.,  821.,  738.,  487.,  311.,  403.]),\n",
       " array([ 0.01610905,  0.11298475,  0.20986046,  0.30673617,  0.40361188,\n",
       "         0.50048758,  0.59736329,  0.694239  ,  0.79111471,  0.88799042,\n",
       "         0.98486612]),\n",
       " <a list of 10 Patch objects>)"
      ]
     },
     "execution_count": 36,
     "metadata": {},
     "output_type": "execute_result"
    },
    {
     "data": {
      "image/png": "[encoded data removed]",
      "text/plain": [
       "<matplotlib.figure.Figure at 0x115769fd0>"
      ]
     },
     "metadata": {},
     "output_type": "display_data"
    }
   ],
   "source": [
    "plt.hist(uni['FEMALE'])"
   ]
  },
  {
   "cell_type": "markdown",
   "metadata": {},
   "source": [
    "### MARRIED\n",
    "\n",
    "percent of students who are married\n",
    "\n",
    "sqrt transform makes this pretty good"
   ]
  },
  {
   "cell_type": "code",
   "execution_count": 37,
   "metadata": {
    "collapsed": false
   },
   "outputs": [
    {
     "data": {
      "text/plain": [
       "count    3211.000000\n",
       "mean        0.159274\n",
       "std         0.093798\n",
       "min         0.004906\n",
       "25%         0.091736\n",
       "50%         0.151102\n",
       "75%         0.211094\n",
       "max         0.699746\n",
       "Name: MARRIED, dtype: float64"
      ]
     },
     "execution_count": 37,
     "metadata": {},
     "output_type": "execute_result"
    }
   ],
   "source": [
    "uni['MARRIED'].describe()"
   ]
  },
  {
   "cell_type": "code",
   "execution_count": 38,
   "metadata": {
    "collapsed": false
   },
   "outputs": [
    {
     "data": {
      "text/plain": [
       "(array([ 609.,  889.,  931.,  487.,  193.,   56.,   24.,   11.,    6.,    5.]),\n",
       " array([ 0.00490597,  0.07438993,  0.14387388,  0.21335784,  0.2828418 ,\n",
       "         0.35232576,  0.42180972,  0.49129367,  0.56077763,  0.63026159,\n",
       "         0.69974555]),\n",
       " <a list of 10 Patch objects>)"
      ]
     },
     "execution_count": 38,
     "metadata": {},
     "output_type": "execute_result"
    },
    {
     "data": {
      "image/png": "[encoded data removed]",
      "text/plain": [
       "<matplotlib.figure.Figure at 0x1160e7ad0>"
      ]
     },
     "metadata": {},
     "output_type": "display_data"
    }
   ],
   "source": [
    "plt.hist(uni['MARRIED'])"
   ]
  },
  {
   "cell_type": "code",
   "execution_count": 39,
   "metadata": {
    "collapsed": false,
    "scrolled": true
   },
   "outputs": [
    {
     "data": {
      "text/plain": [
       "(array([   11.,    29.,    80.,   115.,   186.,   442.,   836.,  1139.,\n",
       "          331.,    42.]),\n",
       " array([-5.31730267, -4.82127626, -4.32524984, -3.82922342, -3.33319701,\n",
       "        -2.83717059, -2.34114418, -1.84511776, -1.34909135, -0.85306493,\n",
       "        -0.35703851]),\n",
       " <a list of 10 Patch objects>)"
      ]
     },
     "execution_count": 39,
     "metadata": {},
     "output_type": "execute_result"
    },
    {
     "data": {
      "image/png": "[encoded data removed]",
      "text/plain": [
       "<matplotlib.figure.Figure at 0x11635bc50>"
      ]
     },
     "metadata": {},
     "output_type": "display_data"
    }
   ],
   "source": [
    "plt.hist(np.log(uni['MARRIED']))"
   ]
  },
  {
   "cell_type": "code",
   "execution_count": 40,
   "metadata": {
    "collapsed": false
   },
   "outputs": [
    {
     "data": {
      "text/plain": [
       "(array([ 116.,  233.,  431.,  691.,  868.,  572.,  217.,   50.,   25.,    8.]),\n",
       " array([ 0.07004262,  0.14668915,  0.22333569,  0.29998222,  0.37662875,\n",
       "         0.45327529,  0.52992182,  0.60656835,  0.68321488,  0.75986142,\n",
       "         0.83650795]),\n",
       " <a list of 10 Patch objects>)"
      ]
     },
     "execution_count": 40,
     "metadata": {},
     "output_type": "execute_result"
    },
    {
     "data": {
      "image/png": "[encoded data removed]",
      "text/plain": [
       "<matplotlib.figure.Figure at 0x11642ef10>"
      ]
     },
     "metadata": {},
     "output_type": "display_data"
    }
   ],
   "source": [
    "plt.hist(np.sqrt(uni['MARRIED']))"
   ]
  },
  {
   "cell_type": "markdown",
   "metadata": {},
   "source": [
    "### DEPENDENT\n",
    "\n",
    "Share of Dependent Students (for tax purposes)\n",
    "\n",
    "looks okay as-is"
   ]
  },
  {
   "cell_type": "code",
   "execution_count": 41,
   "metadata": {
    "collapsed": false
   },
   "outputs": [
    {
     "data": {
      "text/plain": [
       "count    3211.000000\n",
       "mean        0.474823\n",
       "std         0.232862\n",
       "min         0.026490\n",
       "25%         0.286011\n",
       "50%         0.443627\n",
       "75%         0.657646\n",
       "max         0.973310\n",
       "Name: DEPENDENT, dtype: float64"
      ]
     },
     "execution_count": 41,
     "metadata": {},
     "output_type": "execute_result"
    }
   ],
   "source": [
    "uni['DEPENDENT'].describe()"
   ]
  },
  {
   "cell_type": "code",
   "execution_count": 42,
   "metadata": {
    "collapsed": false
   },
   "outputs": [
    {
     "data": {
      "text/plain": [
       "(array([ 131.,  272.,  552.,  484.,  405.,  373.,  277.,  278.,  267.,  172.]),\n",
       " array([ 0.02649007,  0.1211721 ,  0.21585413,  0.31053616,  0.40521819,\n",
       "         0.49990022,  0.59458225,  0.68926428,  0.78394631,  0.87862834,\n",
       "         0.97331037]),\n",
       " <a list of 10 Patch objects>)"
      ]
     },
     "execution_count": 42,
     "metadata": {},
     "output_type": "execute_result"
    },
    {
     "data": {
      "image/png": "[encoded data removed]",
      "text/plain": [
       "<matplotlib.figure.Figure at 0x116532450>"
      ]
     },
     "metadata": {},
     "output_type": "display_data"
    }
   ],
   "source": [
    "plt.hist(uni['DEPENDENT'])"
   ]
  },
  {
   "cell_type": "code",
   "execution_count": 43,
   "metadata": {
    "collapsed": false
   },
   "outputs": [
    {
     "data": {
      "text/plain": [
       "(array([  16.,  103.,  128.,  291.,  529.,  492.,  474.,  425.,  417.,  336.]),\n",
       " array([ 0.16275769,  0.24513842,  0.32751914,  0.40989987,  0.49228059,\n",
       "         0.57466131,  0.65704204,  0.73942276,  0.82180349,  0.90418421,\n",
       "         0.98656494]),\n",
       " <a list of 10 Patch objects>)"
      ]
     },
     "execution_count": 43,
     "metadata": {},
     "output_type": "execute_result"
    },
    {
     "data": {
      "image/png": "[encoded data removed]",
      "text/plain": [
       "<matplotlib.figure.Figure at 0x1167fc950>"
      ]
     },
     "metadata": {},
     "output_type": "display_data"
    }
   ],
   "source": [
    "plt.hist(np.sqrt(uni['DEPENDENT']))"
   ]
  },
  {
   "cell_type": "markdown",
   "metadata": {},
   "source": [
    "### MD_FAMINC\n",
    "\n",
    "median family income\n",
    "\n",
    "sqrt transform makes it pretty good"
   ]
  },
  {
   "cell_type": "code",
   "execution_count": 44,
   "metadata": {
    "collapsed": false
   },
   "outputs": [
    {
     "data": {
      "text/plain": [
       "count      3211.000000\n",
       "mean      25783.569563\n",
       "std       17241.751238\n",
       "min           0.000000\n",
       "25%       14678.559890\n",
       "50%       20107.431720\n",
       "75%       31428.341740\n",
       "max      114942.923200\n",
       "Name: MD_FAMINC, dtype: float64"
      ]
     },
     "execution_count": 44,
     "metadata": {},
     "output_type": "execute_result"
    }
   ],
   "source": [
    "uni['MD_FAMINC'].describe()"
   ]
  },
  {
   "cell_type": "code",
   "execution_count": 45,
   "metadata": {
    "collapsed": false,
    "scrolled": true
   },
   "outputs": [
    {
     "data": {
      "text/plain": [
       "(array([  310.,  1612.,   578.,   305.,   173.,   119.,    76.,    22.,\n",
       "            8.,     8.]),\n",
       " array([      0.     ,   11494.29232,   22988.58464,   34482.87696,\n",
       "          45977.16928,   57471.4616 ,   68965.75392,   80460.04624,\n",
       "          91954.33856,  103448.63088,  114942.9232 ]),\n",
       " <a list of 10 Patch objects>)"
      ]
     },
     "execution_count": 45,
     "metadata": {},
     "output_type": "execute_result"
    },
    {
     "data": {
      "image/png": "[encoded data removed]",
      "text/plain": [
       "<matplotlib.figure.Figure at 0x1167f0210>"
      ]
     },
     "metadata": {},
     "output_type": "display_data"
    }
   ],
   "source": [
    "plt.hist(uni['MD_FAMINC'])"
   ]
  },
  {
   "cell_type": "code",
   "execution_count": 46,
   "metadata": {
    "collapsed": false
   },
   "outputs": [
    {
     "data": {
      "text/plain": [
       "(array([   65.,    20.,   117.,  1190.,   903.,   416.,   256.,   165.,\n",
       "           64.,    15.]),\n",
       " array([   0.        ,   33.90323336,   67.80646671,  101.70970007,\n",
       "         135.61293342,  169.51616678,  203.41940014,  237.32263349,\n",
       "         271.22586685,  305.12910021,  339.03233356]),\n",
       " <a list of 10 Patch objects>)"
      ]
     },
     "execution_count": 46,
     "metadata": {},
     "output_type": "execute_result"
    },
    {
     "data": {
      "image/png": "[encoded data removed]",
      "text/plain": [
       "<matplotlib.figure.Figure at 0x116c21190>"
      ]
     },
     "metadata": {},
     "output_type": "display_data"
    }
   ],
   "source": [
    "plt.hist(np.sqrt(uni['MD_FAMINC']))"
   ]
  },
  {
   "cell_type": "markdown",
   "metadata": {},
   "source": [
    "### percent on student loan\n",
    "\n",
    "the zero-inflation may make this hard to model"
   ]
  },
  {
   "cell_type": "code",
   "execution_count": 47,
   "metadata": {
    "collapsed": false
   },
   "outputs": [
    {
     "data": {
      "text/plain": [
       "count    3211.000000\n",
       "mean       51.230112\n",
       "std        28.032078\n",
       "min         0.000000\n",
       "25%        30.920000\n",
       "50%        57.210000\n",
       "75%        73.035000\n",
       "max       100.000000\n",
       "Name: percent_on_student_loan, dtype: float64"
      ]
     },
     "execution_count": 47,
     "metadata": {},
     "output_type": "execute_result"
    }
   ],
   "source": [
    "uni['percent_on_student_loan'].describe()"
   ]
  },
  {
   "cell_type": "code",
   "execution_count": 48,
   "metadata": {
    "collapsed": false
   },
   "outputs": [
    {
     "data": {
      "text/plain": [
       "(array([ 433.,  158.,  194.,  221.,  303.,  437.,  503.,  467.,  364.,  131.]),\n",
       " array([   0.,   10.,   20.,   30.,   40.,   50.,   60.,   70.,   80.,\n",
       "          90.,  100.]),\n",
       " <a list of 10 Patch objects>)"
      ]
     },
     "execution_count": 48,
     "metadata": {},
     "output_type": "execute_result"
    },
    {
     "data": {
      "image/png": "[encoded data removed]",
      "text/plain": [
       "<matplotlib.figure.Figure at 0x116c216d0>"
      ]
     },
     "metadata": {},
     "output_type": "display_data"
    }
   ],
   "source": [
    "plt.hist(uni['percent_on_student_loan'])"
   ]
  },
  {
   "cell_type": "code",
   "execution_count": 49,
   "metadata": {
    "collapsed": false,
    "scrolled": true
   },
   "outputs": [
    {
     "data": {
      "text/plain": [
       "(array([ 289.,   50.,   82.,  117.,  153.,  216.,  364.,  643.,  857.,  440.]),\n",
       " array([  0.,   1.,   2.,   3.,   4.,   5.,   6.,   7.,   8.,   9.,  10.]),\n",
       " <a list of 10 Patch objects>)"
      ]
     },
     "execution_count": 49,
     "metadata": {},
     "output_type": "execute_result"
    },
    {
     "data": {
      "image/png": "[encoded data removed]",
      "text/plain": [
       "<matplotlib.figure.Figure at 0x11712c750>"
      ]
     },
     "metadata": {},
     "output_type": "display_data"
    }
   ],
   "source": [
    "plt.hist(np.sqrt(uni['percent_on_student_loan']))"
   ]
  },
  {
   "cell_type": "code",
   "execution_count": 50,
   "metadata": {
    "collapsed": false,
    "scrolled": true
   },
   "outputs": [
    {
     "data": {
      "text/plain": [
       "(array([ 818.,  317.,  353.,  399.,  398.,  316.,  271.,  196.,   86.,   57.]),\n",
       " array([     0.,   1000.,   2000.,   3000.,   4000.,   5000.,   6000.,\n",
       "          7000.,   8000.,   9000.,  10000.]),\n",
       " <a list of 10 Patch objects>)"
      ]
     },
     "execution_count": 50,
     "metadata": {},
     "output_type": "execute_result"
    },
    {
     "data": {
      "image/png": "[encoded data removed]",
      "text/plain": [
       "<matplotlib.figure.Figure at 0x117140d10>"
      ]
     },
     "metadata": {},
     "output_type": "display_data"
    }
   ],
   "source": [
    "plt.hist(uni['percent_on_student_loan']**2)"
   ]
  },
  {
   "cell_type": "code",
   "execution_count": 51,
   "metadata": {
    "collapsed": false,
    "scrolled": true
   },
   "outputs": [
    {
     "data": {
      "text/plain": [
       "Index([u'INSTNM', u'CITY', u'STABBR', u'ZIP', u'ACCREDAGENCY', u'MAIN',\n",
       "       u'NUMBRANCH', u'PREDDEG', u'HIGHDEG', u'CONTROL', u'LOCALE',\n",
       "       u'CCUGPROF', u'CCSIZSET', u'HBCU', u'PBI', u'MENONLY', u'WOMENONLY',\n",
       "       u'RELAFFIL', u'DISTANCEONLY', u'UGDS', u'AGE_ENTRY', u'FEMALE',\n",
       "       u'MARRIED', u'DEPENDENT', u'MD_FAMINC', u'percent_on_student_loan',\n",
       "       u'id_number'],\n",
       "      dtype='object')"
      ]
     },
     "execution_count": 51,
     "metadata": {},
     "output_type": "execute_result"
    }
   ],
   "source": [
    "uni.columns"
   ]
  },
  {
   "cell_type": "markdown",
   "metadata": {},
   "source": [
    "# Feature Building"
   ]
  },
  {
   "cell_type": "markdown",
   "metadata": {},
   "source": [
    "Houston          31\n",
    "Chicago          30\n",
    "New York         25\n",
    "San Antonio      23\n",
    "Springfield      20\n",
    "Columbia         19\n",
    "Phoenix          19\n",
    "Miami            18\n",
    "Los Angeles      18\n",
    "San Diego        17\n",
    "Jacksonville     16\n",
    "Rochester        16\n",
    "Nashville "
   ]
  },
  {
   "cell_type": "code",
   "execution_count": 52,
   "metadata": {
    "collapsed": true
   },
   "outputs": [],
   "source": [
    "for i in ['Houston', 'Chicago', 'New York', 'San Antonio', 'Springfield', 'Colombia', 'Phoenix', 'Miami', 'Los Angeles', 'San Diego', 'Jacksonville', 'Rochester', 'Nashville']:\n",
    "    uni['in_'+ i] = uni['CITY'].apply(lambda x: 1 if i == x else 0)"
   ]
  },
  {
   "cell_type": "code",
   "execution_count": 53,
   "metadata": {
    "collapsed": true
   },
   "outputs": [],
   "source": [
    "for i in ['CA', 'TX', 'NY', 'FL', 'OH', 'PA', 'IL', 'NC', 'GA', 'PR']:\n",
    "    uni['state_'+i] = uni['STABBR'].apply(lambda x: 1 if 1==x else 0)"
   ]
  },
  {
   "cell_type": "code",
   "execution_count": 54,
   "metadata": {
    "collapsed": false
   },
   "outputs": [],
   "source": [
    "agencies = ['North Central Association of Colleges and Schools', 'Southern Association of Colleges and Schools Commission on Colleges',\n",
    "           'Middle States Commission on Higher Education', 'National Accrediting Commission of Cosmetology Arts and Sciences',\n",
    "           'Accrediting Commission of Career Schools and Colleges', 'Accrediting Council for Independent Colleges and Schools',\n",
    "           'Council on Occupational Education']\n",
    "for i in zip(range(len(agencies)), agencies):\n",
    "    uni['accredited_'+str(i[0])] = uni['ACCREDAGENCY'].apply(lambda x: 1 if i[1] in x else 0)"
   ]
  },
  {
   "cell_type": "code",
   "execution_count": null,
   "metadata": {
    "collapsed": true
   },
   "outputs": [],
   "source": []
  },
  {
   "cell_type": "code",
   "execution_count": null,
   "metadata": {
    "collapsed": false
   },
   "outputs": [],
   "source": [
    "uni.columns"
   ]
  },
  {
   "cell_type": "markdown",
   "metadata": {},
   "source": [
    "# Setting x and y"
   ]
  },
  {
   "cell_type": "code",
   "execution_count": 55,
   "metadata": {
    "collapsed": false
   },
   "outputs": [],
   "source": [
    "x = uni[['in_Houston', u'in_Chicago', u'in_New York',\n",
    "       u'in_San Antonio', u'in_Springfield', u'in_Colombia', u'in_Phoenix',\n",
    "       u'in_Miami', u'in_Los Angeles', u'in_San Diego', u'in_Jacksonville',\n",
    "       u'in_Rochester', u'in_Nashville', u'state_CA', u'state_TX', u'state_NY',\n",
    "       u'state_FL', u'state_OH', u'state_PA', u'state_IL', u'state_NC',\n",
    "       u'state_GA', u'state_PR', u'accredited_0', u'accredited_1',\n",
    "       u'accredited_2', u'accredited_3', u'accredited_4', u'accredited_5',\n",
    "       u'accredited_6', 'MAIN', 'NUMBRANCH', 'AGE_ENTRY', 'MARRIED', 'DEPENDENT', 'MD_FAMINC',\n",
    "        'FEMALE', 'UGDS']]\n",
    "y = uni['percent_on_student_loan']\n",
    "\n",
    "x_train, x_test, y_train, y_test = train_test_split(x,y)"
   ]
  },
  {
   "cell_type": "markdown",
   "metadata": {},
   "source": [
    "# Modeling"
   ]
  },
  {
   "cell_type": "code",
   "execution_count": 64,
   "metadata": {
    "collapsed": true
   },
   "outputs": [],
   "source": [
    "\n",
    "lr = LinearRegression()\n",
    "rf = RandomForestRegressor(min_samples_leaf=6)\n",
    "et = ExtraTreesRegressor(min_samples_leaf=4)\n",
    "ab = AdaBoostRegressor(n_estimators=100, base_estimator=rf)\n",
    "gb = GradientBoostingRegressor(max_depth=6)\n",
    "dt = DecisionTreeRegressor(min_samples_leaf=10)"
   ]
  },
  {
   "cell_type": "code",
   "execution_count": 57,
   "metadata": {
    "collapsed": true
   },
   "outputs": [],
   "source": [
    "def run_model(x_train, y_train, x_test, y_test, model):\n",
    "    model.fit(x_train, y_train)\n",
    "    predictions = model.predict(x_test)\n",
    "    print \"Training set score: \", model.score(x_train, y_train)\n",
    "    print \"Test set score: \", model.score(x_test, y_test)\n",
    "    plt.scatter(y_test, predictions, marker='x', s=1, alpha=0.5)\n",
    "    plt.title('Predictions vs Actual')\n",
    "    plt.xlabel('Actual')\n",
    "    plt.ylabel('Predicted')\n",
    "    plt.show()"
   ]
  },
  {
   "cell_type": "code",
   "execution_count": 65,
   "metadata": {
    "collapsed": false
   },
   "outputs": [
    {
     "name": "stdout",
     "output_type": "stream",
     "text": [
      "Training set score:  0.668945365775\n",
      "Test set score:  0.397691253498\n"
     ]
    },
    {
     "data": {
      "image/png": "[encoded data removed]",
      "text/plain": [
       "<matplotlib.figure.Figure at 0x1172d2790>"
      ]
     },
     "metadata": {},
     "output_type": "display_data"
    }
   ],
   "source": [
    "run_model(x_train, y_train, x_test, y_test, dt)"
   ]
  },
  {
   "cell_type": "code",
   "execution_count": 61,
   "metadata": {
    "collapsed": false
   },
   "outputs": [
    {
     "name": "stdout",
     "output_type": "stream",
     "text": [
      "Model:  LinearRegression\n",
      "Hyperparameters: copy_X=True, fit_intercept=True, n_jobs=1, normalize=False\n",
      "Training set score:  0.311369544364\n",
      "Test set score:  0.302060268222\n"
     ]
    },
    {
     "data": {
      "image/png": "[encoded data removed]",
      "text/plain": [
       "<matplotlib.figure.Figure at 0x11742c290>"
      ]
     },
     "metadata": {},
     "output_type": "display_data"
    },
    {
     "name": "stdout",
     "output_type": "stream",
     "text": [
      "\n",
      "\n",
      "Model:  RandomForestRegressor\n",
      "Hyperparameters: bootstrap=True, criterion='mse', max_depth=None,\n",
      "           max_features='auto', max_leaf_nodes=None,\n",
      "           min_impurity_split=1e-07, min_samples_leaf=6,\n",
      "           min_samples_split=2, min_weight_fraction_leaf=0.0,\n",
      "           n_estimators=10, n_jobs=1, oob_score=False, random_state=None,\n",
      "           verbose=0, warm_start=False\n",
      "Training set score:  0.73802351925\n",
      "Test set score:  0.519173408226\n"
     ]
    },
    {
     "data": {
      "image/png": "[encoded data removed]",
      "text/plain": [
       "<matplotlib.figure.Figure at 0x118696510>"
      ]
     },
     "metadata": {},
     "output_type": "display_data"
    },
    {
     "name": "stdout",
     "output_type": "stream",
     "text": [
      "\n",
      "\n",
      "Model:  ExtraTreesRegressor\n",
      "Hyperparameters: bootstrap=False, criterion='mse', max_depth=None,\n",
      "          max_features='auto', max_leaf_nodes=None,\n",
      "          min_impurity_split=1e-07, min_samples_leaf=4,\n",
      "          min_samples_split=2, min_weight_fraction_leaf=0.0,\n",
      "          n_estimators=10, n_jobs=1, oob_score=False, random_state=None,\n",
      "          verbose=0, warm_start=False\n",
      "Training set score:  0.778058761292\n",
      "Test set score:  0.531744834698\n"
     ]
    },
    {
     "data": {
      "image/png": "[encoded data removed]",
      "text/plain": [
       "<matplotlib.figure.Figure at 0x11b5ea110>"
      ]
     },
     "metadata": {},
     "output_type": "display_data"
    },
    {
     "name": "stdout",
     "output_type": "stream",
     "text": [
      "\n",
      "\n",
      "Model:  GradientBoostingRegressor\n",
      "Hyperparameters: alpha=0.9, criterion='friedman_mse', init=None,\n",
      "             learning_rate=0.1, loss='ls', max_depth=6, max_features=None,\n",
      "             max_leaf_nodes=None, min_impurity_split=1e-07,\n",
      "             min_samples_leaf=1, min_samples_split=2,\n",
      "             min_weight_fraction_leaf=0.0, n_estimators=100,\n",
      "             presort='auto', random_state=None, subsample=1.0, verbose=0,\n",
      "             warm_start=False\n",
      "Training set score:  0.872331225566\n",
      "Test set score:  0.527459636559\n"
     ]
    },
    {
     "data": {
      "image/png": "[encoded data removed]",
      "text/plain": [
       "<matplotlib.figure.Figure at 0x11b623ad0>"
      ]
     },
     "metadata": {},
     "output_type": "display_data"
    },
    {
     "name": "stdout",
     "output_type": "stream",
     "text": [
      "\n",
      "\n",
      "Model:  AdaBoostRegressor\n",
      "Hyperparameters: base_estimator=RandomForestRegressor(bootstrap=True, criterion='mse', max_depth=None,\n",
      "           max_features='auto', max_leaf_nodes=None,\n",
      "           min_impurity_split=1e-07, min_samples_leaf=6,\n",
      "           min_samples_split=2, min_weight_fraction_leaf=0.0,\n",
      "           n_estimators=10, n_jobs=1, oob_score=False, random_state=None,\n",
      "           verbose=0, warm_start=False),\n",
      "         learning_rate=1.0, loss='linear', n_estimators=100,\n",
      "         random_state=None\n",
      "Training set score:  0.869238949886\n",
      "Test set score:  0.525531418735\n"
     ]
    },
    {
     "data": {
      "image/png": "[encoded data removed]",
      "text/plain": [
       "<matplotlib.figure.Figure at 0x117e2b690>"
      ]
     },
     "metadata": {},
     "output_type": "display_data"
    },
    {
     "name": "stdout",
     "output_type": "stream",
     "text": [
      "\n",
      "\n",
      "Model:  DecisionTreeRegressor\n",
      "Hyperparameters: criterion='mse', max_depth=None, max_features=None,\n",
      "           max_leaf_nodes=None, min_impurity_split=1e-07,\n",
      "           min_samples_leaf=1, min_samples_split=2,\n",
      "           min_weight_fraction_leaf=0.0, presort=False, random_state=None,\n",
      "           splitter='best'\n",
      "Training set score:  0.99997214865\n",
      "Test set score:  0.161343009733\n"
     ]
    },
    {
     "data": {
      "image/png": "[encoded data removed]",
      "text/plain": [
       "<matplotlib.figure.Figure at 0x117423c90>"
      ]
     },
     "metadata": {},
     "output_type": "display_data"
    },
    {
     "name": "stdout",
     "output_type": "stream",
     "text": [
      "\n",
      "\n"
     ]
    }
   ],
   "source": [
    "models = [lr, rf, et, gb, ab, dt]\n",
    "for model in models:\n",
    "    print \"Model: \", str(model).split(\"(\")[0]\n",
    "    print \"Hyperparameters: \" + str(model)[len(str(model).split(\"(\")[0])+1:-1]\n",
    "    run_model(x_train, y_train, x_test, y_test, model)\n",
    "    print \"\\n\""
   ]
  },
  {
   "cell_type": "code",
   "execution_count": null,
   "metadata": {
    "collapsed": false
   },
   "outputs": [],
   "source": []
  },
  {
   "cell_type": "code",
   "execution_count": 62,
   "metadata": {
    "collapsed": false
   },
   "outputs": [],
   "source": [
    "## transforms columns\n",
    "\n",
    "def transform(df):\n",
    "    newdf = df\n",
    "    for i in ['Houston', 'Chicago', 'New York', 'San Antonio', 'Springfield', 'Colombia', 'Phoenix', 'Miami', 'Los Angeles', 'San Diego', 'Jacksonville', 'Rochester', 'Nashville']:\n",
    "        newdf['in_'+ i] = newdf['CITY'].apply(lambda x: 1 if i == x else 0)\n",
    "    for i in ['CA', 'TX', 'NY', 'FL', 'OH', 'PA', 'IL', 'NC', 'GA', 'PR']:\n",
    "        newdf['state_'+i] = newdf['STABBR'].apply(lambda x: 1 if 1==x else 0)\n",
    "    agencies = ['North Central Association of Colleges and Schools', 'Southern Association of Colleges and Schools Commission on Colleges',\n",
    "           'Middle States Commission on Higher Education', 'National Accrediting Commission of Cosmetology Arts and Sciences',\n",
    "           'Accrediting Commission of Career Schools and Colleges', 'Accrediting Council for Independent Colleges and Schools',\n",
    "           'Council on Occupational Education']\n",
    "    for i in zip(range(len(agencies)), agencies):\n",
    "        newdf['accredited_'+str(i[0])] = newdf['ACCREDAGENCY'].apply(lambda x: 1 if i[1] in x else 0)\n",
    "    return newdf\n",
    "\n",
    "## sets x's\n",
    "    \n",
    "def set_x(df):\n",
    "    return df[['in_Houston', u'in_Chicago', u'in_New York',\n",
    "       u'in_San Antonio', u'in_Springfield', u'in_Colombia', u'in_Phoenix',\n",
    "       u'in_Miami', u'in_Los Angeles', u'in_San Diego', u'in_Jacksonville',\n",
    "       u'in_Rochester', u'in_Nashville', u'state_CA', u'state_TX', u'state_NY',\n",
    "       u'state_FL', u'state_OH', u'state_PA', u'state_IL', u'state_NC',\n",
    "       u'state_GA', u'state_PR', u'accredited_0', u'accredited_1',\n",
    "       u'accredited_2', u'accredited_3', u'accredited_4', u'accredited_5',\n",
    "       u'accredited_6', 'MAIN', 'NUMBRANCH', 'AGE_ENTRY', 'MARRIED', 'DEPENDENT', 'MD_FAMINC',\n",
    "        'FEMALE', 'UGDS']].copy()\n",
    "\n",
    "## sets y\n",
    "\n",
    "def set_y(df):\n",
    "    return df['percent_on_student_loan'].copy()\n",
    "\n",
    "## instantiates and trains model, creates predictions\n",
    "\n",
    "def get_predictions(train_x, train_y, x_test):\n",
    "    new_x_test = x_test\n",
    "    rf = RandomForestRegressor(min_samples_leaf=6)\n",
    "    ab = AdaBoostRegressor(n_estimators=100, base_estimator=rf)    \n",
    "    ab.fit(train_x, train_y)\n",
    "    new_x_test['predictions'] = ab.predict(x_test)\n",
    "    return new_x_test\n",
    "\n",
    "## builds submission file and exports it as .csv\n",
    "\n",
    "def submission_file(x_test, original_x_test):\n",
    "    x_test['INSTNM'] = original_x_test['INSTNM']\n",
    "    submission = x_test[['INSTNM','predictions']]\n",
    "    submission.to_csv('submission_regression.csv', encoding='utf-8', index=False)\n",
    "\n",
    "## combines all functions\n",
    "\n",
    "def pipeline(train_df, test_df):\n",
    "    transformed_train = transform(train_df)\n",
    "    transformed_test = transform(test_df)\n",
    "    x_train = set_x(transformed_train)\n",
    "    y_train = set_y(transformed_train)\n",
    "    x_test = set_x(transformed_test)\n",
    "    with_predictions = get_predictions(x_train, y_train, x_test)\n",
    "    submission_file(with_predictions, test_df)"
   ]
  },
  {
   "cell_type": "code",
   "execution_count": 63,
   "metadata": {
    "collapsed": true
   },
   "outputs": [],
   "source": [
    "train_uni = pd.read_csv('/Users/christophereppig/Datasets/project_5_data/regression/university_train.csv')\n",
    "test_uni = pd.read_csv('/Users/christophereppig/Datasets/project_5_data/regression/university_test.csv')"
   ]
  },
  {
   "cell_type": "code",
   "execution_count": 66,
   "metadata": {
    "collapsed": false
   },
   "outputs": [],
   "source": [
    "pipeline(train_uni, test_uni)"
   ]
  },
  {
   "cell_type": "code",
   "execution_count": null,
   "metadata": {
    "collapsed": true
   },
   "outputs": [],
   "source": []
  },
  {
   "cell_type": "code",
   "execution_count": null,
   "metadata": {
    "collapsed": true
   },
   "outputs": [],
   "source": []
  },
  {
   "cell_type": "code",
   "execution_count": null,
   "metadata": {
    "collapsed": true
   },
   "outputs": [],
   "source": []
  },
  {
   "cell_type": "code",
   "execution_count": null,
   "metadata": {
    "collapsed": true
   },
   "outputs": [],
   "source": []
  },
  {
   "cell_type": "code",
   "execution_count": null,
   "metadata": {
    "collapsed": true
   },
   "outputs": [],
   "source": []
  },
  {
   "cell_type": "code",
   "execution_count": null,
   "metadata": {
    "collapsed": true
   },
   "outputs": [],
   "source": []
  },
  {
   "cell_type": "code",
   "execution_count": null,
   "metadata": {
    "collapsed": true
   },
   "outputs": [],
   "source": [
    "\n"
   ]
  }
 ],
 "metadata": {
  "anaconda-cloud": {},
  "kernelspec": {
   "display_name": "Python [Root]",
   "language": "python",
   "name": "Python [Root]"
  },
  "language_info": {
   "codemirror_mode": {
    "name": "ipython",
    "version": 2
   },
   "file_extension": ".py",
   "mimetype": "text/x-python",
   "name": "python",
   "nbconvert_exporter": "python",
   "pygments_lexer": "ipython2",
   "version": "2.7.12"
  }
 },
 "nbformat": 4,
 "nbformat_minor": 2
}
