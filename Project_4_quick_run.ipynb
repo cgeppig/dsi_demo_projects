{
 "cells": [
  {
   "cell_type": "code",
   "execution_count": 79,
   "metadata": {
    "collapsed": false
   },
   "outputs": [],
   "source": [
    "import pandas as pd\n",
    "import numpy as np\n",
    "import matplotlib.pyplot as plt\n",
    "%matplotlib inline\n",
    "from sklearn.cross_validation import train_test_split\n",
    "from sklearn.linear_model import LogisticRegression\n",
    "from sklearn.metrics import confusion_matrix, classification_report\n",
    "from sklearn.ensemble import GradientBoostingClassifier\n",
    "from sklearn.ensemble import RandomForestClassifier\n",
    "from sklearn.ensemble import ExtraTreesClassifier\n",
    "from sklearn.ensemble import AdaBoostClassifier\n",
    "from sklearn.preprocessing import StandardScaler\n",
    "from sklearn.neighbors import KNeighborsClassifier\n",
    "from sklearn.tree import DecisionTreeClassifier"
   ]
  },
  {
   "cell_type": "code",
   "execution_count": 2,
   "metadata": {
    "collapsed": true
   },
   "outputs": [],
   "source": [
    "pd.set_option(\"display.max_columns\", 100)"
   ]
  },
  {
   "cell_type": "code",
   "execution_count": 3,
   "metadata": {
    "collapsed": true
   },
   "outputs": [],
   "source": [
    "houses = pd.read_csv('Datasets/housing.csv')"
   ]
  },
  {
   "cell_type": "code",
   "execution_count": 4,
   "metadata": {
    "collapsed": false
   },
   "outputs": [
    {
     "data": {
      "text/plain": [
       "(7468, 6)"
      ]
     },
     "execution_count": 4,
     "metadata": {},
     "output_type": "execute_result"
    }
   ],
   "source": [
    "houses.shape"
   ]
  },
  {
   "cell_type": "code",
   "execution_count": 5,
   "metadata": {
    "collapsed": false,
    "scrolled": true
   },
   "outputs": [
    {
     "data": {
      "text/html": [
       "<div>\n",
       "<table border=\"1\" class=\"dataframe\">\n",
       "  <thead>\n",
       "    <tr style=\"text-align: right;\">\n",
       "      <th></th>\n",
       "      <th>address</th>\n",
       "      <th>bed_bath</th>\n",
       "      <th>more_info</th>\n",
       "      <th>price</th>\n",
       "      <th>status</th>\n",
       "      <th>zip_code</th>\n",
       "    </tr>\n",
       "  </thead>\n",
       "  <tbody>\n",
       "    <tr>\n",
       "      <th>0</th>\n",
       "      <td>360 E Randolph St # 601-602, Chicago, IL</td>\n",
       "      <td>3 bds · 4 ba · 2,700 sqft</td>\n",
       "      <td>http://www.zillow.com/homedetails/360-E-Randol...</td>\n",
       "      <td>$1,299,000</td>\n",
       "      <td>Condo For Sale</td>\n",
       "      <td>60601</td>\n",
       "    </tr>\n",
       "    <tr>\n",
       "      <th>1</th>\n",
       "      <td>8 E Randolph St UNIT 1006, Chicago, IL</td>\n",
       "      <td>1 bd · 1 ba · 850 sqft</td>\n",
       "      <td>http://www.zillow.com/homedetails/8-E-Randolph...</td>\n",
       "      <td>$324,900</td>\n",
       "      <td>Condo For Sale</td>\n",
       "      <td>60601</td>\n",
       "    </tr>\n",
       "    <tr>\n",
       "      <th>2</th>\n",
       "      <td>NaN</td>\n",
       "      <td>NaN</td>\n",
       "      <td>NaN</td>\n",
       "      <td>NaN</td>\n",
       "      <td>NaN</td>\n",
       "      <td>60601</td>\n",
       "    </tr>\n",
       "    <tr>\n",
       "      <th>3</th>\n",
       "      <td>340 E Randolph St APT 704, Chicago, IL</td>\n",
       "      <td>2 bds · 3 ba · 1,902 sqft</td>\n",
       "      <td>http://www.zillow.com/homedetails/340-E-Randol...</td>\n",
       "      <td>$1,099,000</td>\n",
       "      <td>Condo For Sale</td>\n",
       "      <td>60601</td>\n",
       "    </tr>\n",
       "    <tr>\n",
       "      <th>4</th>\n",
       "      <td>420 E Waterside Dr UNIT 310, Chicago, IL</td>\n",
       "      <td>2 bds · 3 ba · 1,500 sqft</td>\n",
       "      <td>http://www.zillow.com/homedetails/420-E-Waters...</td>\n",
       "      <td>$567,770</td>\n",
       "      <td>Condo For Sale</td>\n",
       "      <td>60601</td>\n",
       "    </tr>\n",
       "    <tr>\n",
       "      <th>5</th>\n",
       "      <td>155 N Harbor Dr # 1212-13, Chicago, IL</td>\n",
       "      <td>3 bds · 3 ba · 2,367 sqft</td>\n",
       "      <td>http://www.zillow.com/homedetails/155-N-Harbor...</td>\n",
       "      <td>$1,350,000</td>\n",
       "      <td>Condo For Sale</td>\n",
       "      <td>60601</td>\n",
       "    </tr>\n",
       "    <tr>\n",
       "      <th>6</th>\n",
       "      <td>195 N Harbor Dr APT 3304, Chicago, IL</td>\n",
       "      <td>2 bds · 2 ba · 1,250 sqft</td>\n",
       "      <td>http://www.zillow.com/homedetails/195-N-Harbor...</td>\n",
       "      <td>$575,000</td>\n",
       "      <td>Condo For Sale</td>\n",
       "      <td>60601</td>\n",
       "    </tr>\n",
       "    <tr>\n",
       "      <th>7</th>\n",
       "      <td>222 N Columbus Dr APT 1402, Chicago, IL</td>\n",
       "      <td>2 bds · 2 ba · 1,200 sqft</td>\n",
       "      <td>http://www.zillow.com/homedetails/222-N-Columb...</td>\n",
       "      <td>$399,000</td>\n",
       "      <td>Condo For Sale</td>\n",
       "      <td>60601</td>\n",
       "    </tr>\n",
       "    <tr>\n",
       "      <th>8</th>\n",
       "      <td>225 N Columbus Dr UNIT 5908, Chicago, IL</td>\n",
       "      <td>2 bds · 3 ba · 1,547 sqft</td>\n",
       "      <td>http://www.zillow.com/homedetails/225-N-Columb...</td>\n",
       "      <td>$1,025,000</td>\n",
       "      <td>Condo For Sale</td>\n",
       "      <td>60601</td>\n",
       "    </tr>\n",
       "    <tr>\n",
       "      <th>9</th>\n",
       "      <td>225 N Columbus Dr UNIT 7504, Chicago, IL</td>\n",
       "      <td>1 bd · 2 ba · 1,209 sqft</td>\n",
       "      <td>http://www.zillow.com/homedetails/225-N-Columb...</td>\n",
       "      <td>$848,800</td>\n",
       "      <td>Condo For Sale</td>\n",
       "      <td>60601</td>\n",
       "    </tr>\n",
       "    <tr>\n",
       "      <th>10</th>\n",
       "      <td>222 N Columbus Dr APT 310, Chicago, IL</td>\n",
       "      <td>1 bd · 1 ba · 835 sqft</td>\n",
       "      <td>http://www.zillow.com/homedetails/222-N-Columb...</td>\n",
       "      <td>$249,000</td>\n",
       "      <td>Condo For Sale</td>\n",
       "      <td>60601</td>\n",
       "    </tr>\n",
       "    <tr>\n",
       "      <th>11</th>\n",
       "      <td>450 E Waterside Dr UNIT 310, Chicago, IL</td>\n",
       "      <td>1 bd · 2 ba · 1,136 sqft</td>\n",
       "      <td>http://www.zillow.com/homedetails/450-E-Waters...</td>\n",
       "      <td>$495,000</td>\n",
       "      <td>Condo For Sale</td>\n",
       "      <td>60601</td>\n",
       "    </tr>\n",
       "    <tr>\n",
       "      <th>12</th>\n",
       "      <td>200 N Dearborn St UNIT 1407, Chicago, IL</td>\n",
       "      <td>2 bds · 1 ba · 1,067 sqft</td>\n",
       "      <td>http://www.zillow.com/homedetails/200-N-Dearbo...</td>\n",
       "      <td>$324,900</td>\n",
       "      <td>Condo For Sale</td>\n",
       "      <td>60601</td>\n",
       "    </tr>\n",
       "    <tr>\n",
       "      <th>13</th>\n",
       "      <td>400 E Randolph St APT 1230, Chicago, IL</td>\n",
       "      <td>2 bds · 2 ba · 1,250 sqft</td>\n",
       "      <td>http://www.zillow.com/homedetails/400-E-Randol...</td>\n",
       "      <td>$440,000</td>\n",
       "      <td>Condo For Sale</td>\n",
       "      <td>60601</td>\n",
       "    </tr>\n",
       "    <tr>\n",
       "      <th>14</th>\n",
       "      <td>225 N Columbus Dr UNIT 8004, Chicago, IL</td>\n",
       "      <td>3 bds · 4 ba · 3,500 sqft</td>\n",
       "      <td>http://www.zillow.com/homedetails/225-N-Columb...</td>\n",
       "      <td>$4,500,000</td>\n",
       "      <td>Condo For Sale</td>\n",
       "      <td>60601</td>\n",
       "    </tr>\n",
       "    <tr>\n",
       "      <th>15</th>\n",
       "      <td>8 E Randolph St UNIT 2505, Chicago, IL</td>\n",
       "      <td>2 bds · 2 ba · 1,348 sqft</td>\n",
       "      <td>http://www.zillow.com/homedetails/8-E-Randolph...</td>\n",
       "      <td>$604,900</td>\n",
       "      <td>Condo For Sale</td>\n",
       "      <td>60601</td>\n",
       "    </tr>\n",
       "    <tr>\n",
       "      <th>16</th>\n",
       "      <td>222 N Columbus Dr APT 1106, Chicago, IL</td>\n",
       "      <td>1 bd · 1 ba · 700 sqft</td>\n",
       "      <td>http://www.zillow.com/homedetails/222-N-Columb...</td>\n",
       "      <td>$249,000</td>\n",
       "      <td>Condo For Sale</td>\n",
       "      <td>60601</td>\n",
       "    </tr>\n",
       "    <tr>\n",
       "      <th>17</th>\n",
       "      <td>420 E Waterside Dr UNIT 505, Chicago, IL</td>\n",
       "      <td>1 bd · 1 ba · 1,070 sqft</td>\n",
       "      <td>http://www.zillow.com/homedetails/420-E-Waters...</td>\n",
       "      <td>$444,500</td>\n",
       "      <td>Condo For Sale</td>\n",
       "      <td>60601</td>\n",
       "    </tr>\n",
       "    <tr>\n",
       "      <th>18</th>\n",
       "      <td>222 N Columbus Dr APT 2205, Chicago, IL</td>\n",
       "      <td>1 bd · 1 ba · 685 sqft</td>\n",
       "      <td>http://www.zillow.com/homedetails/222-N-Columb...</td>\n",
       "      <td>$289,900</td>\n",
       "      <td>Condo For Sale</td>\n",
       "      <td>60601</td>\n",
       "    </tr>\n",
       "    <tr>\n",
       "      <th>19</th>\n",
       "      <td>222 N Columbus Dr APT 306, Chicago, IL</td>\n",
       "      <td>1 bd · 1 ba · 685 sqft</td>\n",
       "      <td>http://www.zillow.com/homedetails/222-N-Columb...</td>\n",
       "      <td>$229,900</td>\n",
       "      <td>Condo For Sale</td>\n",
       "      <td>60601</td>\n",
       "    </tr>\n",
       "    <tr>\n",
       "      <th>20</th>\n",
       "      <td>225 N Columbus Dr UNIT 5602, Chicago, IL</td>\n",
       "      <td>1 bd · 1 ba · 571 sqft</td>\n",
       "      <td>http://www.zillow.com/homedetails/225-N-Columb...</td>\n",
       "      <td>$399,000</td>\n",
       "      <td>Condo For Sale</td>\n",
       "      <td>60601</td>\n",
       "    </tr>\n",
       "    <tr>\n",
       "      <th>21</th>\n",
       "      <td>195 N Harbor Dr APT 2009, Chicago, IL</td>\n",
       "      <td>1 bd · 2 ba · 1,143 sqft</td>\n",
       "      <td>http://www.zillow.com/homedetails/195-N-Harbor...</td>\n",
       "      <td>$525,000</td>\n",
       "      <td>Condo For Sale</td>\n",
       "      <td>60601</td>\n",
       "    </tr>\n",
       "    <tr>\n",
       "      <th>22</th>\n",
       "      <td>450 E Waterside East Dr # 202, Chicago, IL</td>\n",
       "      <td>2 bds · 3 ba · 1,950 sqft</td>\n",
       "      <td>http://www.zillow.com/homedetails/450-E-Waters...</td>\n",
       "      <td>$895,000</td>\n",
       "      <td>Condo For Sale</td>\n",
       "      <td>60601</td>\n",
       "    </tr>\n",
       "    <tr>\n",
       "      <th>23</th>\n",
       "      <td>222 N Columbus Dr APT 4205, Chicago, IL</td>\n",
       "      <td>1 bd · 1 ba · 685 sqft</td>\n",
       "      <td>http://www.zillow.com/homedetails/222-N-Columb...</td>\n",
       "      <td>$299,900</td>\n",
       "      <td>Condo For Sale</td>\n",
       "      <td>60601</td>\n",
       "    </tr>\n",
       "    <tr>\n",
       "      <th>24</th>\n",
       "      <td>450 E Waterside Dr UNIT 202, Chicago, IL</td>\n",
       "      <td>2 bds · 3 ba · 1,950 sqft</td>\n",
       "      <td>http://www.zillow.com/homedetails/450-E-Waters...</td>\n",
       "      <td>$895,000</td>\n",
       "      <td>Condo For Sale</td>\n",
       "      <td>60601</td>\n",
       "    </tr>\n",
       "    <tr>\n",
       "      <th>25</th>\n",
       "      <td>155 N Harbor Dr APT 4905, Chicago, IL</td>\n",
       "      <td>1 bd · 1 ba · 826 sqft</td>\n",
       "      <td>http://www.zillow.com/homedetails/155-N-Harbor...</td>\n",
       "      <td>$349,900</td>\n",
       "      <td>Condo For Sale</td>\n",
       "      <td>60601</td>\n",
       "    </tr>\n",
       "    <tr>\n",
       "      <th>26</th>\n",
       "      <td>155 N Harbor Dr APT 5105, Chicago, IL</td>\n",
       "      <td>1 bd · 1 ba · 826 sqft</td>\n",
       "      <td>http://www.zillow.com/homedetails/155-N-Harbor...</td>\n",
       "      <td>$365,000</td>\n",
       "      <td>Condo For Sale</td>\n",
       "      <td>60601</td>\n",
       "    </tr>\n",
       "    <tr>\n",
       "      <th>27</th>\n",
       "      <td>8 E Randolph St UNIT 2708, Chicago, IL</td>\n",
       "      <td>2 bds · 2 ba · 1,348 sqft</td>\n",
       "      <td>http://www.zillow.com/homedetails/8-E-Randolph...</td>\n",
       "      <td>$600,000</td>\n",
       "      <td>Condo For Sale</td>\n",
       "      <td>60601</td>\n",
       "    </tr>\n",
       "    <tr>\n",
       "      <th>28</th>\n",
       "      <td>363 E Wacker Dr # 5505, Chicago, IL</td>\n",
       "      <td>3 bds · 3 ba · 2,002 sqft</td>\n",
       "      <td>http://www.zillow.com/homedetails/363-E-Wacker...</td>\n",
       "      <td>$2,472,790</td>\n",
       "      <td>New Construction</td>\n",
       "      <td>60601</td>\n",
       "    </tr>\n",
       "    <tr>\n",
       "      <th>29</th>\n",
       "      <td>450 E Waterside East Dr # 202, Chicago, IL</td>\n",
       "      <td>2 bds · 3 ba · 1,950 sqft</td>\n",
       "      <td>http://www.zillow.com/homedetails/450-E-Waters...</td>\n",
       "      <td>$895,000</td>\n",
       "      <td>Condo For Sale</td>\n",
       "      <td>60601</td>\n",
       "    </tr>\n",
       "  </tbody>\n",
       "</table>\n",
       "</div>"
      ],
      "text/plain": [
       "                                       address                   bed_bath  \\\n",
       "0     360 E Randolph St # 601-602, Chicago, IL  3 bds · 4 ba · 2,700 sqft   \n",
       "1       8 E Randolph St UNIT 1006, Chicago, IL     1 bd · 1 ba · 850 sqft   \n",
       "2                                          NaN                        NaN   \n",
       "3       340 E Randolph St APT 704, Chicago, IL  2 bds · 3 ba · 1,902 sqft   \n",
       "4     420 E Waterside Dr UNIT 310, Chicago, IL  2 bds · 3 ba · 1,500 sqft   \n",
       "5       155 N Harbor Dr # 1212-13, Chicago, IL  3 bds · 3 ba · 2,367 sqft   \n",
       "6        195 N Harbor Dr APT 3304, Chicago, IL  2 bds · 2 ba · 1,250 sqft   \n",
       "7      222 N Columbus Dr APT 1402, Chicago, IL  2 bds · 2 ba · 1,200 sqft   \n",
       "8     225 N Columbus Dr UNIT 5908, Chicago, IL  2 bds · 3 ba · 1,547 sqft   \n",
       "9     225 N Columbus Dr UNIT 7504, Chicago, IL   1 bd · 2 ba · 1,209 sqft   \n",
       "10      222 N Columbus Dr APT 310, Chicago, IL     1 bd · 1 ba · 835 sqft   \n",
       "11    450 E Waterside Dr UNIT 310, Chicago, IL   1 bd · 2 ba · 1,136 sqft   \n",
       "12    200 N Dearborn St UNIT 1407, Chicago, IL  2 bds · 1 ba · 1,067 sqft   \n",
       "13     400 E Randolph St APT 1230, Chicago, IL  2 bds · 2 ba · 1,250 sqft   \n",
       "14    225 N Columbus Dr UNIT 8004, Chicago, IL  3 bds · 4 ba · 3,500 sqft   \n",
       "15      8 E Randolph St UNIT 2505, Chicago, IL  2 bds · 2 ba · 1,348 sqft   \n",
       "16     222 N Columbus Dr APT 1106, Chicago, IL     1 bd · 1 ba · 700 sqft   \n",
       "17    420 E Waterside Dr UNIT 505, Chicago, IL   1 bd · 1 ba · 1,070 sqft   \n",
       "18     222 N Columbus Dr APT 2205, Chicago, IL     1 bd · 1 ba · 685 sqft   \n",
       "19      222 N Columbus Dr APT 306, Chicago, IL     1 bd · 1 ba · 685 sqft   \n",
       "20    225 N Columbus Dr UNIT 5602, Chicago, IL     1 bd · 1 ba · 571 sqft   \n",
       "21       195 N Harbor Dr APT 2009, Chicago, IL   1 bd · 2 ba · 1,143 sqft   \n",
       "22  450 E Waterside East Dr # 202, Chicago, IL  2 bds · 3 ba · 1,950 sqft   \n",
       "23     222 N Columbus Dr APT 4205, Chicago, IL     1 bd · 1 ba · 685 sqft   \n",
       "24    450 E Waterside Dr UNIT 202, Chicago, IL  2 bds · 3 ba · 1,950 sqft   \n",
       "25       155 N Harbor Dr APT 4905, Chicago, IL     1 bd · 1 ba · 826 sqft   \n",
       "26       155 N Harbor Dr APT 5105, Chicago, IL     1 bd · 1 ba · 826 sqft   \n",
       "27      8 E Randolph St UNIT 2708, Chicago, IL  2 bds · 2 ba · 1,348 sqft   \n",
       "28         363 E Wacker Dr # 5505, Chicago, IL  3 bds · 3 ba · 2,002 sqft   \n",
       "29  450 E Waterside East Dr # 202, Chicago, IL  2 bds · 3 ba · 1,950 sqft   \n",
       "\n",
       "                                            more_info       price  \\\n",
       "0   http://www.zillow.com/homedetails/360-E-Randol...  $1,299,000   \n",
       "1   http://www.zillow.com/homedetails/8-E-Randolph...    $324,900   \n",
       "2                                                 NaN         NaN   \n",
       "3   http://www.zillow.com/homedetails/340-E-Randol...  $1,099,000   \n",
       "4   http://www.zillow.com/homedetails/420-E-Waters...    $567,770   \n",
       "5   http://www.zillow.com/homedetails/155-N-Harbor...  $1,350,000   \n",
       "6   http://www.zillow.com/homedetails/195-N-Harbor...    $575,000   \n",
       "7   http://www.zillow.com/homedetails/222-N-Columb...    $399,000   \n",
       "8   http://www.zillow.com/homedetails/225-N-Columb...  $1,025,000   \n",
       "9   http://www.zillow.com/homedetails/225-N-Columb...    $848,800   \n",
       "10  http://www.zillow.com/homedetails/222-N-Columb...    $249,000   \n",
       "11  http://www.zillow.com/homedetails/450-E-Waters...    $495,000   \n",
       "12  http://www.zillow.com/homedetails/200-N-Dearbo...    $324,900   \n",
       "13  http://www.zillow.com/homedetails/400-E-Randol...    $440,000   \n",
       "14  http://www.zillow.com/homedetails/225-N-Columb...  $4,500,000   \n",
       "15  http://www.zillow.com/homedetails/8-E-Randolph...    $604,900   \n",
       "16  http://www.zillow.com/homedetails/222-N-Columb...    $249,000   \n",
       "17  http://www.zillow.com/homedetails/420-E-Waters...    $444,500   \n",
       "18  http://www.zillow.com/homedetails/222-N-Columb...    $289,900   \n",
       "19  http://www.zillow.com/homedetails/222-N-Columb...    $229,900   \n",
       "20  http://www.zillow.com/homedetails/225-N-Columb...    $399,000   \n",
       "21  http://www.zillow.com/homedetails/195-N-Harbor...    $525,000   \n",
       "22  http://www.zillow.com/homedetails/450-E-Waters...    $895,000   \n",
       "23  http://www.zillow.com/homedetails/222-N-Columb...    $299,900   \n",
       "24  http://www.zillow.com/homedetails/450-E-Waters...    $895,000   \n",
       "25  http://www.zillow.com/homedetails/155-N-Harbor...    $349,900   \n",
       "26  http://www.zillow.com/homedetails/155-N-Harbor...    $365,000   \n",
       "27  http://www.zillow.com/homedetails/8-E-Randolph...    $600,000   \n",
       "28  http://www.zillow.com/homedetails/363-E-Wacker...  $2,472,790   \n",
       "29  http://www.zillow.com/homedetails/450-E-Waters...    $895,000   \n",
       "\n",
       "              status  zip_code  \n",
       "0     Condo For Sale     60601  \n",
       "1     Condo For Sale     60601  \n",
       "2                NaN     60601  \n",
       "3     Condo For Sale     60601  \n",
       "4     Condo For Sale     60601  \n",
       "5     Condo For Sale     60601  \n",
       "6     Condo For Sale     60601  \n",
       "7     Condo For Sale     60601  \n",
       "8     Condo For Sale     60601  \n",
       "9     Condo For Sale     60601  \n",
       "10    Condo For Sale     60601  \n",
       "11    Condo For Sale     60601  \n",
       "12    Condo For Sale     60601  \n",
       "13    Condo For Sale     60601  \n",
       "14    Condo For Sale     60601  \n",
       "15    Condo For Sale     60601  \n",
       "16    Condo For Sale     60601  \n",
       "17    Condo For Sale     60601  \n",
       "18    Condo For Sale     60601  \n",
       "19    Condo For Sale     60601  \n",
       "20    Condo For Sale     60601  \n",
       "21    Condo For Sale     60601  \n",
       "22    Condo For Sale     60601  \n",
       "23    Condo For Sale     60601  \n",
       "24    Condo For Sale     60601  \n",
       "25    Condo For Sale     60601  \n",
       "26    Condo For Sale     60601  \n",
       "27    Condo For Sale     60601  \n",
       "28  New Construction     60601  \n",
       "29    Condo For Sale     60601  "
      ]
     },
     "execution_count": 5,
     "metadata": {},
     "output_type": "execute_result"
    }
   ],
   "source": [
    "houses.head(30)"
   ]
  },
  {
   "cell_type": "markdown",
   "metadata": {},
   "source": [
    "# EDA"
   ]
  },
  {
   "cell_type": "code",
   "execution_count": 6,
   "metadata": {
    "collapsed": false
   },
   "outputs": [
    {
     "data": {
      "text/plain": [
       "(7468, 6)"
      ]
     },
     "execution_count": 6,
     "metadata": {},
     "output_type": "execute_result"
    }
   ],
   "source": [
    "houses.shape"
   ]
  },
  {
   "cell_type": "code",
   "execution_count": 7,
   "metadata": {
    "collapsed": false
   },
   "outputs": [
    {
     "data": {
      "text/plain": [
       "address      object\n",
       "bed_bath     object\n",
       "more_info    object\n",
       "price        object\n",
       "status       object\n",
       "zip_code      int64\n",
       "dtype: object"
      ]
     },
     "execution_count": 7,
     "metadata": {},
     "output_type": "execute_result"
    }
   ],
   "source": [
    "houses.dtypes"
   ]
  },
  {
   "cell_type": "code",
   "execution_count": 8,
   "metadata": {
    "collapsed": false
   },
   "outputs": [
    {
     "data": {
      "text/plain": [
       "address       280\n",
       "bed_bath      280\n",
       "more_info     280\n",
       "price        2542\n",
       "status        280\n",
       "zip_code        0\n",
       "dtype: int64"
      ]
     },
     "execution_count": 8,
     "metadata": {},
     "output_type": "execute_result"
    }
   ],
   "source": [
    "houses.isnull().sum()"
   ]
  },
  {
   "cell_type": "markdown",
   "metadata": {},
   "source": [
    "### bed_bath\n",
    "\n",
    "break down into number of bedrooms, number of bathrooms, and square footage"
   ]
  },
  {
   "cell_type": "markdown",
   "metadata": {},
   "source": [
    "### price\n",
    "\n",
    "strip non-numeric characters, return as int or float"
   ]
  },
  {
   "cell_type": "markdown",
   "metadata": {},
   "source": [
    "### Address\n",
    "\n",
    "there may or may not be anything useable in here. could infer neighborhood, but that might be too much work"
   ]
  },
  {
   "cell_type": "markdown",
   "metadata": {},
   "source": [
    "### more_info\n",
    "\n",
    "could scrape data from here"
   ]
  },
  {
   "cell_type": "markdown",
   "metadata": {},
   "source": [
    "### status\n",
    "\n",
    "- is_condo\n",
    "- is_house\n",
    "- is_apartment\n",
    "- auction\n",
    "- forclosure\n",
    "- for sale by owner\n"
   ]
  },
  {
   "cell_type": "code",
   "execution_count": 9,
   "metadata": {
    "collapsed": false,
    "scrolled": true
   },
   "outputs": [
    {
     "data": {
      "text/plain": [
       "Condo For Sale               1943\n",
       "House For Sale               1336\n",
       "Pre-Foreclosure              1182\n",
       "Foreclosed                    530\n",
       "Apartment For Sale            476\n",
       "Pre-Foreclosure (Auction)     395\n",
       "Auction                       328\n",
       "Lot/Land For Sale             250\n",
       "Foreclosure                   232\n",
       "For Sale by Owner             166\n",
       "New Construction              143\n",
       "Townhouse For Sale            109\n",
       "Make Me Move®                  69\n",
       "Co-op For Sale                 20\n",
       "Coming Soon                     9\n",
       "Name: status, dtype: int64"
      ]
     },
     "execution_count": 9,
     "metadata": {},
     "output_type": "execute_result"
    }
   ],
   "source": [
    "## lots of good information in here\n",
    "\n",
    "houses['status'].value_counts()"
   ]
  },
  {
   "cell_type": "markdown",
   "metadata": {},
   "source": [
    "# Cleaning/feature building"
   ]
  },
  {
   "cell_type": "markdown",
   "metadata": {},
   "source": [
    "### price"
   ]
  },
  {
   "cell_type": "code",
   "execution_count": 10,
   "metadata": {
    "collapsed": true
   },
   "outputs": [],
   "source": [
    "def bleach(string):\n",
    "    temp = \"\"\n",
    "    string = str(string)\n",
    "    for i in string:\n",
    "        if i in [\"1\",\"2\",\"3\",\"4\",\"5\",\"6\",\"7\",\"8\",\"9\",\"0\", \".\"]:\n",
    "            temp += i\n",
    "    if len(temp) > 0:\n",
    "        return float(temp)"
   ]
  },
  {
   "cell_type": "code",
   "execution_count": 11,
   "metadata": {
    "collapsed": false
   },
   "outputs": [
    {
     "data": {
      "text/plain": [
       "34609234.003"
      ]
     },
     "execution_count": 11,
     "metadata": {},
     "output_type": "execute_result"
    }
   ],
   "source": [
    "bleach('asd;lkj34609auf[q234j.003sasdfh]')"
   ]
  },
  {
   "cell_type": "code",
   "execution_count": 12,
   "metadata": {
    "collapsed": true
   },
   "outputs": [],
   "source": [
    "houses['cleaned_price'] = houses['price'].apply(bleach)"
   ]
  },
  {
   "cell_type": "code",
   "execution_count": 13,
   "metadata": {
    "collapsed": false,
    "scrolled": true
   },
   "outputs": [
    {
     "data": {
      "text/plain": [
       "count    4.926000e+03\n",
       "mean     4.598513e+05\n",
       "std      7.973731e+05\n",
       "min      1.070000e+00\n",
       "25%      1.249000e+05\n",
       "50%      2.735000e+05\n",
       "75%      5.000000e+05\n",
       "max      1.300000e+07\n",
       "Name: cleaned_price, dtype: float64"
      ]
     },
     "execution_count": 13,
     "metadata": {},
     "output_type": "execute_result"
    }
   ],
   "source": [
    "houses['cleaned_price'].describe()"
   ]
  },
  {
   "cell_type": "code",
   "execution_count": 14,
   "metadata": {
    "collapsed": false,
    "scrolled": true
   },
   "outputs": [
    {
     "data": {
      "text/plain": [
       "(array([  2.83200000e+03,   1.27000000e+03,   3.84000000e+02,\n",
       "          1.56000000e+02,   7.00000000e+01,   5.60000000e+01,\n",
       "          3.70000000e+01,   3.80000000e+01,   1.80000000e+01,\n",
       "          1.30000000e+01,   6.00000000e+00,   5.00000000e+00,\n",
       "          7.00000000e+00,   2.00000000e+00,   1.00000000e+00,\n",
       "          2.00000000e+00,   1.10000000e+01,   0.00000000e+00,\n",
       "          2.00000000e+00,   1.00000000e+00,   0.00000000e+00,\n",
       "          2.00000000e+00,   0.00000000e+00,   0.00000000e+00,\n",
       "          2.00000000e+00,   0.00000000e+00,   2.00000000e+00,\n",
       "          1.00000000e+00,   0.00000000e+00,   0.00000000e+00,\n",
       "          1.00000000e+00,   1.00000000e+00,   1.00000000e+00,\n",
       "          0.00000000e+00,   0.00000000e+00,   0.00000000e+00,\n",
       "          1.00000000e+00,   0.00000000e+00,   2.00000000e+00,\n",
       "          2.00000000e+00]),\n",
       " array([  1.07000000e+00,   3.25001043e+05,   6.50001016e+05,\n",
       "          9.75000990e+05,   1.30000096e+06,   1.62500094e+06,\n",
       "          1.95000091e+06,   2.27500088e+06,   2.60000086e+06,\n",
       "          2.92500083e+06,   3.25000080e+06,   3.57500078e+06,\n",
       "          3.90000075e+06,   4.22500072e+06,   4.55000070e+06,\n",
       "          4.87500067e+06,   5.20000064e+06,   5.52500062e+06,\n",
       "          5.85000059e+06,   6.17500056e+06,   6.50000054e+06,\n",
       "          6.82500051e+06,   7.15000048e+06,   7.47500045e+06,\n",
       "          7.80000043e+06,   8.12500040e+06,   8.45000037e+06,\n",
       "          8.77500035e+06,   9.10000032e+06,   9.42500029e+06,\n",
       "          9.75000027e+06,   1.00750002e+07,   1.04000002e+07,\n",
       "          1.07250002e+07,   1.10500002e+07,   1.13750001e+07,\n",
       "          1.17000001e+07,   1.20250001e+07,   1.23500001e+07,\n",
       "          1.26750000e+07,   1.30000000e+07]),\n",
       " <a list of 40 Patch objects>)"
      ]
     },
     "execution_count": 14,
     "metadata": {},
     "output_type": "execute_result"
    },
    {
     "data": {
      "image/png": "[encoded data removed]",
      "text/plain": [
       "<matplotlib.figure.Figure at 0x103f4ff90>"
      ]
     },
     "metadata": {},
     "output_type": "display_data"
    }
   ],
   "source": [
    "## maybe this should be log-transformed and/or clipped\n",
    "plt.hist(houses['cleaned_price'].dropna(), bins=40)"
   ]
  },
  {
   "cell_type": "code",
   "execution_count": 15,
   "metadata": {
    "collapsed": false,
    "scrolled": true
   },
   "outputs": [
    {
     "data": {
      "text/plain": [
       "(array([  1.00000000e+00,   8.00000000e+00,   1.07000000e+02,\n",
       "          9.10000000e+01,   9.00000000e+00,   1.48000000e+02,\n",
       "          6.67000000e+02,   2.60600000e+03,   1.20000000e+03,\n",
       "          8.90000000e+01]),\n",
       " array([  0.06765865,   1.69893878,   3.3302189 ,   4.96149903,\n",
       "          6.59277916,   8.22405928,   9.85533941,  11.48661954,\n",
       "         13.11789966,  14.74917979,  16.38045992]),\n",
       " <a list of 10 Patch objects>)"
      ]
     },
     "execution_count": 15,
     "metadata": {},
     "output_type": "execute_result"
    },
    {
     "data": {
      "image/png": "[encoded data removed]",
      "text/plain": [
       "<matplotlib.figure.Figure at 0x111ac2990>"
      ]
     },
     "metadata": {},
     "output_type": "display_data"
    }
   ],
   "source": [
    "## with log-transform\n",
    "\n",
    "plt.hist(np.log(houses['cleaned_price'].dropna()))"
   ]
  },
  {
   "cell_type": "code",
   "execution_count": 16,
   "metadata": {
    "collapsed": false,
    "scrolled": true
   },
   "outputs": [
    {
     "data": {
      "text/plain": [
       "(array([ 1303.,  2446.,   814.,   229.,    82.,    20.,    16.,     5.,\n",
       "            6.,     5.]),\n",
       " array([  1.03440804e+00,   3.61486095e+02,   7.21937782e+02,\n",
       "          1.08238947e+03,   1.44284116e+03,   1.80329284e+03,\n",
       "          2.16374453e+03,   2.52419622e+03,   2.88464790e+03,\n",
       "          3.24509959e+03,   3.60555128e+03]),\n",
       " <a list of 10 Patch objects>)"
      ]
     },
     "execution_count": 16,
     "metadata": {},
     "output_type": "execute_result"
    },
    {
     "data": {
      "image/png": "[encoded data removed]",
      "text/plain": [
       "<matplotlib.figure.Figure at 0x112887dd0>"
      ]
     },
     "metadata": {},
     "output_type": "display_data"
    }
   ],
   "source": [
    "## with sqrt-transform\n",
    "\n",
    "plt.hist(np.sqrt(houses['cleaned_price'].dropna()))"
   ]
  },
  {
   "cell_type": "markdown",
   "metadata": {},
   "source": [
    "### bed_bath"
   ]
  },
  {
   "cell_type": "code",
   "execution_count": 17,
   "metadata": {
    "collapsed": false
   },
   "outputs": [],
   "source": [
    "## checks the length of the split object\n",
    "\n",
    "houses['bb_check'] = houses['bed_bath'].apply(lambda x: len(str(x).split(\"·\")))"
   ]
  },
  {
   "cell_type": "code",
   "execution_count": 18,
   "metadata": {
    "collapsed": false,
    "scrolled": true
   },
   "outputs": [
    {
     "data": {
      "text/plain": [
       "3    6012\n",
       "4    1039\n",
       "1     417\n",
       "Name: bb_check, dtype: int64"
      ]
     },
     "execution_count": 18,
     "metadata": {},
     "output_type": "execute_result"
    }
   ],
   "source": [
    "houses['bb_check'].value_counts()"
   ]
  },
  {
   "cell_type": "code",
   "execution_count": 19,
   "metadata": {
    "collapsed": false
   },
   "outputs": [
    {
     "data": {
      "text/html": [
       "<div>\n",
       "<table border=\"1\" class=\"dataframe\">\n",
       "  <thead>\n",
       "    <tr style=\"text-align: right;\">\n",
       "      <th></th>\n",
       "      <th>address</th>\n",
       "      <th>bed_bath</th>\n",
       "      <th>more_info</th>\n",
       "      <th>price</th>\n",
       "      <th>status</th>\n",
       "      <th>zip_code</th>\n",
       "      <th>cleaned_price</th>\n",
       "      <th>bb_check</th>\n",
       "    </tr>\n",
       "  </thead>\n",
       "  <tbody>\n",
       "    <tr>\n",
       "      <th>2</th>\n",
       "      <td>NaN</td>\n",
       "      <td>NaN</td>\n",
       "      <td>NaN</td>\n",
       "      <td>NaN</td>\n",
       "      <td>NaN</td>\n",
       "      <td>60601</td>\n",
       "      <td>NaN</td>\n",
       "      <td>1</td>\n",
       "    </tr>\n",
       "    <tr>\n",
       "      <th>30</th>\n",
       "      <td>NaN</td>\n",
       "      <td>NaN</td>\n",
       "      <td>NaN</td>\n",
       "      <td>NaN</td>\n",
       "      <td>NaN</td>\n",
       "      <td>60601</td>\n",
       "      <td>NaN</td>\n",
       "      <td>1</td>\n",
       "    </tr>\n",
       "    <tr>\n",
       "      <th>58</th>\n",
       "      <td>NaN</td>\n",
       "      <td>NaN</td>\n",
       "      <td>NaN</td>\n",
       "      <td>NaN</td>\n",
       "      <td>NaN</td>\n",
       "      <td>60601</td>\n",
       "      <td>NaN</td>\n",
       "      <td>1</td>\n",
       "    </tr>\n",
       "    <tr>\n",
       "      <th>85</th>\n",
       "      <td>NaN</td>\n",
       "      <td>NaN</td>\n",
       "      <td>NaN</td>\n",
       "      <td>NaN</td>\n",
       "      <td>NaN</td>\n",
       "      <td>60601</td>\n",
       "      <td>NaN</td>\n",
       "      <td>1</td>\n",
       "    </tr>\n",
       "    <tr>\n",
       "      <th>112</th>\n",
       "      <td>NaN</td>\n",
       "      <td>NaN</td>\n",
       "      <td>NaN</td>\n",
       "      <td>NaN</td>\n",
       "      <td>NaN</td>\n",
       "      <td>60601</td>\n",
       "      <td>NaN</td>\n",
       "      <td>1</td>\n",
       "    </tr>\n",
       "  </tbody>\n",
       "</table>\n",
       "</div>"
      ],
      "text/plain": [
       "    address bed_bath more_info price status  zip_code  cleaned_price  bb_check\n",
       "2       NaN      NaN       NaN   NaN    NaN     60601            NaN         1\n",
       "30      NaN      NaN       NaN   NaN    NaN     60601            NaN         1\n",
       "58      NaN      NaN       NaN   NaN    NaN     60601            NaN         1\n",
       "85      NaN      NaN       NaN   NaN    NaN     60601            NaN         1\n",
       "112     NaN      NaN       NaN   NaN    NaN     60601            NaN         1"
      ]
     },
     "execution_count": 19,
     "metadata": {},
     "output_type": "execute_result"
    }
   ],
   "source": [
    "## it looks like bb_check==1 are all NaN\n",
    "\n",
    "houses[houses['bb_check']==1].head()"
   ]
  },
  {
   "cell_type": "code",
   "execution_count": 20,
   "metadata": {
    "collapsed": false
   },
   "outputs": [
    {
     "data": {
      "text/html": [
       "<div>\n",
       "<table border=\"1\" class=\"dataframe\">\n",
       "  <thead>\n",
       "    <tr style=\"text-align: right;\">\n",
       "      <th></th>\n",
       "      <th>address</th>\n",
       "      <th>bed_bath</th>\n",
       "      <th>more_info</th>\n",
       "      <th>price</th>\n",
       "      <th>status</th>\n",
       "      <th>zip_code</th>\n",
       "      <th>cleaned_price</th>\n",
       "      <th>bb_check</th>\n",
       "    </tr>\n",
       "  </thead>\n",
       "  <tbody>\n",
       "    <tr>\n",
       "      <th>80</th>\n",
       "      <td>Sign in for details</td>\n",
       "      <td>Foreclosure Est. $265K · -- bds · -- ba · -- sqft</td>\n",
       "      <td>http://www.zillow.com/homedetail/AuthRequired....</td>\n",
       "      <td>NaN</td>\n",
       "      <td>Pre-Foreclosure</td>\n",
       "      <td>60601</td>\n",
       "      <td>NaN</td>\n",
       "      <td>4</td>\n",
       "    </tr>\n",
       "    <tr>\n",
       "      <th>81</th>\n",
       "      <td>Sign in for details</td>\n",
       "      <td>Foreclosure Est. $281K · -- bds · -- ba · -- sqft</td>\n",
       "      <td>http://www.zillow.com/homedetail/AuthRequired....</td>\n",
       "      <td>NaN</td>\n",
       "      <td>Pre-Foreclosure</td>\n",
       "      <td>60601</td>\n",
       "      <td>NaN</td>\n",
       "      <td>4</td>\n",
       "    </tr>\n",
       "    <tr>\n",
       "      <th>82</th>\n",
       "      <td>Sign in for details</td>\n",
       "      <td>Foreclosure Est. $377K · -- bds · -- ba · -- sqft</td>\n",
       "      <td>http://www.zillow.com/homedetail/AuthRequired....</td>\n",
       "      <td>NaN</td>\n",
       "      <td>Pre-Foreclosure (Auction)</td>\n",
       "      <td>60601</td>\n",
       "      <td>NaN</td>\n",
       "      <td>4</td>\n",
       "    </tr>\n",
       "    <tr>\n",
       "      <th>126</th>\n",
       "      <td>Sign in for details</td>\n",
       "      <td>Foreclosure Est. $747K · 3 bds · 2.5 ba · 1,80...</td>\n",
       "      <td>http://www.zillow.com/homedetail/AuthRequired....</td>\n",
       "      <td>NaN</td>\n",
       "      <td>Pre-Foreclosure</td>\n",
       "      <td>60601</td>\n",
       "      <td>NaN</td>\n",
       "      <td>4</td>\n",
       "    </tr>\n",
       "    <tr>\n",
       "      <th>222</th>\n",
       "      <td>Sign in for details</td>\n",
       "      <td>Foreclosure Est. $224K · -- bds · -- ba · -- sqft</td>\n",
       "      <td>http://www.zillow.com/homedetail/AuthRequired....</td>\n",
       "      <td>NaN</td>\n",
       "      <td>Pre-Foreclosure</td>\n",
       "      <td>60603</td>\n",
       "      <td>NaN</td>\n",
       "      <td>4</td>\n",
       "    </tr>\n",
       "  </tbody>\n",
       "</table>\n",
       "</div>"
      ],
      "text/plain": [
       "                 address                                           bed_bath  \\\n",
       "80   Sign in for details  Foreclosure Est. $265K · -- bds · -- ba · -- sqft   \n",
       "81   Sign in for details  Foreclosure Est. $281K · -- bds · -- ba · -- sqft   \n",
       "82   Sign in for details  Foreclosure Est. $377K · -- bds · -- ba · -- sqft   \n",
       "126  Sign in for details  Foreclosure Est. $747K · 3 bds · 2.5 ba · 1,80...   \n",
       "222  Sign in for details  Foreclosure Est. $224K · -- bds · -- ba · -- sqft   \n",
       "\n",
       "                                             more_info price  \\\n",
       "80   http://www.zillow.com/homedetail/AuthRequired....   NaN   \n",
       "81   http://www.zillow.com/homedetail/AuthRequired....   NaN   \n",
       "82   http://www.zillow.com/homedetail/AuthRequired....   NaN   \n",
       "126  http://www.zillow.com/homedetail/AuthRequired....   NaN   \n",
       "222  http://www.zillow.com/homedetail/AuthRequired....   NaN   \n",
       "\n",
       "                        status  zip_code  cleaned_price  bb_check  \n",
       "80             Pre-Foreclosure     60601            NaN         4  \n",
       "81             Pre-Foreclosure     60601            NaN         4  \n",
       "82   Pre-Foreclosure (Auction)     60601            NaN         4  \n",
       "126            Pre-Foreclosure     60601            NaN         4  \n",
       "222            Pre-Foreclosure     60603            NaN         4  "
      ]
     },
     "execution_count": 20,
     "metadata": {},
     "output_type": "execute_result"
    }
   ],
   "source": [
    "## it looks like bb_check==4 are all forclosures with only an estimated price\n",
    "## I could bring in the estimated price into price\n",
    "\n",
    "houses[houses['bb_check']==4].head()"
   ]
  },
  {
   "cell_type": "code",
   "execution_count": 21,
   "metadata": {
    "collapsed": true
   },
   "outputs": [],
   "source": [
    "## dropping the missing values for bed_bath\n",
    "\n",
    "houses1 = houses[houses['bb_check'] != 1].copy()"
   ]
  },
  {
   "cell_type": "code",
   "execution_count": 22,
   "metadata": {
    "collapsed": false
   },
   "outputs": [],
   "source": [
    "## returns the split containing square feet\n",
    "\n",
    "houses1['sqft'] = houses['bed_bath'].apply(lambda x: str(x).split(\"·\")[-1])"
   ]
  },
  {
   "cell_type": "code",
   "execution_count": 23,
   "metadata": {
    "collapsed": false
   },
   "outputs": [],
   "source": [
    "## bleaches square feet fragment and returns as float\n",
    "\n",
    "houses1['sqft'] = houses1['sqft'].apply(bleach)"
   ]
  },
  {
   "cell_type": "code",
   "execution_count": 24,
   "metadata": {
    "collapsed": true
   },
   "outputs": [],
   "source": [
    "## splits and returns bed_bath split containing number of baths\n",
    "\n",
    "houses1['baths'] = houses1['bed_bath'].apply(lambda x: str(x).split(\"·\")[-2])"
   ]
  },
  {
   "cell_type": "code",
   "execution_count": 25,
   "metadata": {
    "collapsed": true
   },
   "outputs": [],
   "source": [
    "## bleaches baths\n",
    "\n",
    "houses1['baths'] = houses1['baths'].apply(bleach)"
   ]
  },
  {
   "cell_type": "code",
   "execution_count": 26,
   "metadata": {
    "collapsed": false,
    "scrolled": true
   },
   "outputs": [
    {
     "data": {
      "text/plain": [
       "-- bds · -- ba · -- sqft                                 364\n",
       "2 bds · 2 ba · -- sqft                                   108\n",
       "1 bd · 1 ba · -- sqft                                     94\n",
       "4 bds · 2 ba · -- sqft                                    81\n",
       "2 bds · 1 ba · -- sqft                                    78\n",
       "3 bds · 2 ba · -- sqft                                    56\n",
       "2 bds · 2 ba · 1,200 sqft                                 55\n",
       "6 bds · 2 ba · -- sqft                                    49\n",
       "Studio · -- ba · -- sqft                                  48\n",
       "5 bds · 2 ba · -- sqft                                    45\n",
       "2 bds · 1 ba · 1,000 sqft                                 39\n",
       "1 bd · 1 ba · 800 sqft                                    36\n",
       "2 bds · 2 ba · 1,400 sqft                                 34\n",
       "5 bds · 3 ba · -- sqft                                    33\n",
       "3 bds · 3 ba · -- sqft                                    33\n",
       "1 bd · 1 ba · 850 sqft                                    30\n",
       "2 bds · 1 ba · 900 sqft                                   28\n",
       "2 bds · 2 ba · 1,300 sqft                                 27\n",
       "3 bds · 2 ba · 1,600 sqft                                 27\n",
       "3 bds · 2 ba · 1,800 sqft                                 27\n",
       "1 bd · 1 ba · 900 sqft                                    26\n",
       "3 bds · 2 ba · 1,200 sqft                                 26\n",
       "4 bds · 3 ba · -- sqft                                    25\n",
       "3 bds · 3 ba · 2,000 sqft                                 25\n",
       "2 bds · 2 ba · 1,100 sqft                                 23\n",
       "2 bds · 2 ba · 1,000 sqft                                 23\n",
       "2 bds · 1 ba · 800 sqft                                   23\n",
       "3 bds · 2 ba · 1,500 sqft                                 23\n",
       "6 bds · 3 ba · -- sqft                                    22\n",
       "1 bd · 1 ba · 1,000 sqft                                  21\n",
       "                                                        ... \n",
       "6 bds · 5 ba · 5,600 sqft                                  1\n",
       "1 bd · 2 ba · 760 sqft                                     1\n",
       "4 bds · 3 ba · 2,165 sqft                                  1\n",
       "Studio · 1 ba · 902 sqft                                   1\n",
       "3 bds · 4 ba · 2,270+ sqft                                 1\n",
       "2 bds · 2 ba · 1,567 sqft                                  1\n",
       "Foreclosure Est. $101K · -- bds · 1 ba · 1,260 sqft        1\n",
       "5 bds · 4 ba · 3,141 sqft                                  1\n",
       "3 bds · 4 ba · 3,080 sqft                                  1\n",
       "6 bds · 2 ba · 2,204 sqft                                  1\n",
       "Foreclosure Est. $301K · 2 bds · 2 ba · 1,300 sqft         1\n",
       "4 bds · 3 ba · 1,888 sqft                                  1\n",
       "Foreclosure Est. $240K · -- bds · 2.5 ba · 1,917 sqft      1\n",
       "4 bds · 4 ba · 1,750 sqft                                  1\n",
       "Foreclosure Est. $227K · -- bds · 1 ba · 984 sqft          1\n",
       "4 bds · 4 ba · 1,205 sqft                                  1\n",
       "Foreclosure Est. $100K · -- bds · -- ba · -- sqft          1\n",
       "2 bds · 2 ba · 1,155 sqft                                  1\n",
       "-- bds · 1 ba · 1,108 sqft                                 1\n",
       "Foreclosure Est. $66K · -- bds · 1 ba · 1,007 sqft         1\n",
       "Studio · 1 ba · 700 sqft                                   1\n",
       "Foreclosure Est. $142K · -- bds · 1 ba · 1,200 sqft        1\n",
       "Foreclosure Est. $175K · -- bds · 1 ba · 1,197 sqft        1\n",
       "Foreclosure Est. $191K · -- bds · 1.5 ba · 1,044 sqft      1\n",
       "Foreclosure Est. $145K · -- bds · 1 ba · 1,386 sqft        1\n",
       "-- bds · -- ba · 924 sqft                                  1\n",
       "1 bd · 1 ba · 1,117 sqft                                   1\n",
       "-- bds · 1 ba · 1,191 sqft                                 1\n",
       "Foreclosure Est. $102K · 1 bd · 1 ba · 850 sqft            1\n",
       "4 bds · 2 ba · 1,229 sqft                                  1\n",
       "Name: bed_bath, dtype: int64"
      ]
     },
     "execution_count": 26,
     "metadata": {},
     "output_type": "execute_result"
    }
   ],
   "source": [
    "houses1['bed_bath'].value_counts()"
   ]
  },
  {
   "cell_type": "code",
   "execution_count": 27,
   "metadata": {
    "collapsed": true
   },
   "outputs": [],
   "source": [
    "## replaces studio with 0.5\n",
    "houses1['bed_bath'] = houses1['bed_bath'].apply(lambda x: x.replace('Studio', '0.5'))"
   ]
  },
  {
   "cell_type": "code",
   "execution_count": 28,
   "metadata": {
    "collapsed": true
   },
   "outputs": [],
   "source": [
    "## splits and returns bed_bath split containing number of bedrooms\n",
    "\n",
    "houses1['bedrooms'] = houses1['bed_bath'].apply(lambda x: str(x).split(\"·\")[-3])"
   ]
  },
  {
   "cell_type": "code",
   "execution_count": 29,
   "metadata": {
    "collapsed": true
   },
   "outputs": [],
   "source": [
    "## bleaches bedrooms\n",
    "\n",
    "houses1['bedrooms'] = houses1['bedrooms'].apply(bleach)"
   ]
  },
  {
   "cell_type": "code",
   "execution_count": 30,
   "metadata": {
    "collapsed": true
   },
   "outputs": [],
   "source": [
    "def extract_forclosure(x):\n",
    "    if len(str(x).split(\"·\")) == 4:\n",
    "        return str(x).split(\"·\")[0]\n",
    "    else:\n",
    "        return \"nothing\""
   ]
  },
  {
   "cell_type": "code",
   "execution_count": 31,
   "metadata": {
    "collapsed": true
   },
   "outputs": [],
   "source": [
    "## returns forclosure information\n",
    "\n",
    "houses1['forclosure_info'] = houses1['bed_bath'].apply(extract_forclosure)"
   ]
  },
  {
   "cell_type": "code",
   "execution_count": 32,
   "metadata": {
    "collapsed": false,
    "scrolled": false
   },
   "outputs": [
    {
     "data": {
      "text/plain": [
       "count        7051\n",
       "unique        315\n",
       "top       nothing\n",
       "freq         6012\n",
       "Name: forclosure_info, dtype: object"
      ]
     },
     "execution_count": 32,
     "metadata": {},
     "output_type": "execute_result"
    }
   ],
   "source": [
    "houses1['forclosure_info'].describe()"
   ]
  },
  {
   "cell_type": "code",
   "execution_count": 33,
   "metadata": {
    "collapsed": false,
    "scrolled": true
   },
   "outputs": [
    {
     "data": {
      "text/plain": [
       "nothing                     6012\n",
       "Foreclosure Est. $141K        13\n",
       "Foreclosure Est. $165K        12\n",
       "Foreclosure Est. $131K        10\n",
       "Foreclosure Est. $153K        10\n",
       "Foreclosure Est. $152K        10\n",
       "Foreclosure Est. $144K        10\n",
       "Foreclosure Est. $166K        10\n",
       "Foreclosure Est. $124K         9\n",
       "Foreclosure Est. $113K         9\n",
       "Foreclosure Est. $126K         9\n",
       "Foreclosure Est. $196K         9\n",
       "Foreclosure Est. $136K         9\n",
       "Foreclosure Est. $140K         8\n",
       "Foreclosure Est. $118K         8\n",
       "Foreclosure Est. $93K          8\n",
       "Foreclosure Est. $151K         8\n",
       "Foreclosure Est. $174K         8\n",
       "Foreclosure Est. $82K          8\n",
       "Foreclosure Est. $139K         8\n",
       "Foreclosure Est. $138K         8\n",
       "Foreclosure Est. $233K         7\n",
       "Foreclosure Est. $108K         7\n",
       "Foreclosure Est. $272K         7\n",
       "Foreclosure Est. $119K         7\n",
       "Foreclosure Est. $122K         7\n",
       "Foreclosure Est. $133K         7\n",
       "Foreclosure Est. $84K          7\n",
       "Foreclosure Est. $70K          7\n",
       "Foreclosure Est. $125K         7\n",
       "                            ... \n",
       "Foreclosure Est. $343K         1\n",
       "Foreclosure Est. $979K         1\n",
       "Foreclosure Est. $219K         1\n",
       "Foreclosure Est. $264K         1\n",
       "Foreclosure Est. $129K         1\n",
       "Foreclosure Est. $313K         1\n",
       "Foreclosure Est. $318K         1\n",
       "Foreclosure Est. $483K         1\n",
       "Foreclosure Est. $377K         1\n",
       "Foreclosure Est. $1.1M         1\n",
       "Foreclosure Est. $545K         1\n",
       "Foreclosure Est. $310K         1\n",
       "Foreclosure Est. $338K         1\n",
       "Foreclosure Est. $336K         1\n",
       "Foreclosure Est. $48K          1\n",
       "Foreclosure Est. $405K         1\n",
       "Foreclosure Est. $321K         1\n",
       "Foreclosure Est. $312K         1\n",
       "Foreclosure Est. $538K         1\n",
       "Foreclosure Est. $216K         1\n",
       "Foreclosure Est. $3.73M        1\n",
       "Foreclosure Est. $291K         1\n",
       "Foreclosure Est. $431K         1\n",
       "Foreclosure Est. $424K         1\n",
       "Foreclosure Est. $565K         1\n",
       "Foreclosure Est. $324K         1\n",
       "Foreclosure Est. $430K         1\n",
       "Foreclosure Est. $337K         1\n",
       "Foreclosure Est. $323K         1\n",
       "Foreclosure Est. $189K         1\n",
       "Name: forclosure_info, dtype: int64"
      ]
     },
     "execution_count": 33,
     "metadata": {},
     "output_type": "execute_result"
    }
   ],
   "source": [
    "houses1['forclosure_info'].value_counts()"
   ]
  },
  {
   "cell_type": "code",
   "execution_count": 34,
   "metadata": {
    "collapsed": true
   },
   "outputs": [],
   "source": [
    "def clean_forclosure(x):\n",
    "    y = x.split(\"$\")[-1]\n",
    "    if \"K\" in y:\n",
    "        return bleach(y) * 1000\n",
    "    elif \"M\" in y:\n",
    "        return bleach(y) * 1000000\n",
    "    else:\n",
    "        return 0"
   ]
  },
  {
   "cell_type": "code",
   "execution_count": 35,
   "metadata": {
    "collapsed": false
   },
   "outputs": [],
   "source": [
    "## creates foreclosure value column\n",
    "\n",
    "# houses1['foreclosure_value'] = houses1['forclosure_info'].apply(lambda x: x.strip(\" \"))\n",
    "houses1['foreclosure_value'] = houses1['forclosure_info'].apply(clean_forclosure)"
   ]
  },
  {
   "cell_type": "code",
   "execution_count": 36,
   "metadata": {
    "collapsed": false
   },
   "outputs": [],
   "source": [
    "## filling missing values with 0\n",
    "\n",
    "houses1['cleaned_price'].fillna(0, inplace=True)"
   ]
  },
  {
   "cell_type": "code",
   "execution_count": 37,
   "metadata": {
    "collapsed": true
   },
   "outputs": [],
   "source": [
    "## combining original given prices with estimated forclosure values\n",
    "\n",
    "houses1['all_prices'] = houses1['cleaned_price'] + houses1['foreclosure_value']\n",
    "\n",
    "## there are still some zeroes in here"
   ]
  },
  {
   "cell_type": "code",
   "execution_count": 38,
   "metadata": {
    "collapsed": false
   },
   "outputs": [
    {
     "data": {
      "text/plain": [
       "count    7.051000e+03\n",
       "mean     3.449579e+05\n",
       "std      6.918509e+05\n",
       "min      0.000000e+00\n",
       "25%      4.225000e+04\n",
       "50%      1.849000e+05\n",
       "75%      3.899000e+05\n",
       "max      1.300000e+07\n",
       "Name: all_prices, dtype: float64"
      ]
     },
     "execution_count": 38,
     "metadata": {},
     "output_type": "execute_result"
    }
   ],
   "source": [
    "houses1['all_prices'].describe()"
   ]
  },
  {
   "cell_type": "code",
   "execution_count": 39,
   "metadata": {
    "collapsed": false,
    "scrolled": true
   },
   "outputs": [
    {
     "data": {
      "text/plain": [
       "(7051, 14)"
      ]
     },
     "execution_count": 39,
     "metadata": {},
     "output_type": "execute_result"
    }
   ],
   "source": [
    "houses1.shape"
   ]
  },
  {
   "cell_type": "code",
   "execution_count": 40,
   "metadata": {
    "collapsed": false
   },
   "outputs": [
    {
     "data": {
      "text/plain": [
       "(5831, 14)"
      ]
     },
     "execution_count": 40,
     "metadata": {},
     "output_type": "execute_result"
    }
   ],
   "source": [
    "houses1[houses1['all_prices'] != 0].shape"
   ]
  },
  {
   "cell_type": "code",
   "execution_count": 41,
   "metadata": {
    "collapsed": false
   },
   "outputs": [
    {
     "data": {
      "text/plain": [
       "(1220, 14)"
      ]
     },
     "execution_count": 41,
     "metadata": {},
     "output_type": "execute_result"
    }
   ],
   "source": [
    "houses1[houses1['all_prices'] == 0].shape"
   ]
  },
  {
   "cell_type": "code",
   "execution_count": 42,
   "metadata": {
    "collapsed": true
   },
   "outputs": [],
   "source": [
    "## removes houses with no listed value\n",
    "\n",
    "houses1 = houses1[houses1['all_prices'] != 0].copy()"
   ]
  },
  {
   "cell_type": "code",
   "execution_count": 43,
   "metadata": {
    "collapsed": false,
    "scrolled": false
   },
   "outputs": [
    {
     "data": {
      "text/plain": [
       "(array([  3.67600000e+03,   1.32400000e+03,   3.90000000e+02,\n",
       "          1.58000000e+02,   6.90000000e+01,   5.60000000e+01,\n",
       "          3.60000000e+01,   3.90000000e+01,   1.80000000e+01,\n",
       "          1.20000000e+01,   6.00000000e+00,   6.00000000e+00,\n",
       "          7.00000000e+00,   2.00000000e+00,   1.00000000e+00,\n",
       "          2.00000000e+00,   1.10000000e+01,   0.00000000e+00,\n",
       "          2.00000000e+00,   1.00000000e+00,   0.00000000e+00,\n",
       "          2.00000000e+00,   0.00000000e+00,   0.00000000e+00,\n",
       "          2.00000000e+00,   0.00000000e+00,   2.00000000e+00,\n",
       "          1.00000000e+00,   0.00000000e+00,   0.00000000e+00,\n",
       "          1.00000000e+00,   1.00000000e+00,   1.00000000e+00,\n",
       "          0.00000000e+00,   0.00000000e+00,   0.00000000e+00,\n",
       "          1.00000000e+00,   0.00000000e+00,   2.00000000e+00,\n",
       "          2.00000000e+00]),\n",
       " array([  1.07000000e+00,   3.25001043e+05,   6.50001016e+05,\n",
       "          9.75000990e+05,   1.30000096e+06,   1.62500094e+06,\n",
       "          1.95000091e+06,   2.27500088e+06,   2.60000086e+06,\n",
       "          2.92500083e+06,   3.25000080e+06,   3.57500078e+06,\n",
       "          3.90000075e+06,   4.22500072e+06,   4.55000070e+06,\n",
       "          4.87500067e+06,   5.20000064e+06,   5.52500062e+06,\n",
       "          5.85000059e+06,   6.17500056e+06,   6.50000054e+06,\n",
       "          6.82500051e+06,   7.15000048e+06,   7.47500045e+06,\n",
       "          7.80000043e+06,   8.12500040e+06,   8.45000037e+06,\n",
       "          8.77500035e+06,   9.10000032e+06,   9.42500029e+06,\n",
       "          9.75000027e+06,   1.00750002e+07,   1.04000002e+07,\n",
       "          1.07250002e+07,   1.10500002e+07,   1.13750001e+07,\n",
       "          1.17000001e+07,   1.20250001e+07,   1.23500001e+07,\n",
       "          1.26750000e+07,   1.30000000e+07]),\n",
       " <a list of 40 Patch objects>)"
      ]
     },
     "execution_count": 43,
     "metadata": {},
     "output_type": "execute_result"
    },
    {
     "data": {
      "image/png": "[encoded data removed]",
      "text/plain": [
       "<matplotlib.figure.Figure at 0x11599d250>"
      ]
     },
     "metadata": {},
     "output_type": "display_data"
    }
   ],
   "source": [
    "plt.hist(houses1['all_prices'], bins=40)"
   ]
  },
  {
   "cell_type": "code",
   "execution_count": 44,
   "metadata": {
    "collapsed": false,
    "scrolled": true
   },
   "outputs": [
    {
     "data": {
      "text/plain": [
       "(array([  1.00000000e+00,   8.00000000e+00,   1.07000000e+02,\n",
       "          9.10000000e+01,   5.00000000e+00,   1.13000000e+02,\n",
       "          8.16000000e+02,   3.38500000e+03,   1.21600000e+03,\n",
       "          8.90000000e+01]),\n",
       " array([  0.06765865,   1.69893878,   3.3302189 ,   4.96149903,\n",
       "          6.59277916,   8.22405928,   9.85533941,  11.48661954,\n",
       "         13.11789966,  14.74917979,  16.38045992]),\n",
       " <a list of 10 Patch objects>)"
      ]
     },
     "execution_count": 44,
     "metadata": {},
     "output_type": "execute_result"
    },
    {
     "data": {
      "image/png": "[encoded data removed]",
      "text/plain": [
       "<matplotlib.figure.Figure at 0x1126c5050>"
      ]
     },
     "metadata": {},
     "output_type": "display_data"
    }
   ],
   "source": [
    "## this one isn't really that bad\n",
    "\n",
    "plt.hist(np.log(houses1['all_prices']))"
   ]
  },
  {
   "cell_type": "code",
   "execution_count": 45,
   "metadata": {
    "collapsed": false,
    "scrolled": true
   },
   "outputs": [
    {
     "data": {
      "text/plain": [
       "(array([ 1592.,  3050.,   828.,   227.,    81.,    21.,    16.,     5.,\n",
       "            6.,     5.]),\n",
       " array([  1.03440804e+00,   3.61486095e+02,   7.21937782e+02,\n",
       "          1.08238947e+03,   1.44284116e+03,   1.80329284e+03,\n",
       "          2.16374453e+03,   2.52419622e+03,   2.88464790e+03,\n",
       "          3.24509959e+03,   3.60555128e+03]),\n",
       " <a list of 10 Patch objects>)"
      ]
     },
     "execution_count": 45,
     "metadata": {},
     "output_type": "execute_result"
    },
    {
     "data": {
      "image/png": "[encoded data removed]",
      "text/plain": [
       "<matplotlib.figure.Figure at 0x115bb1c90>"
      ]
     },
     "metadata": {},
     "output_type": "display_data"
    }
   ],
   "source": [
    "## not great, but not as good as the sqrt transform\n",
    "\n",
    "plt.hist(np.sqrt(houses1['all_prices']))"
   ]
  },
  {
   "cell_type": "code",
   "execution_count": null,
   "metadata": {
    "collapsed": true
   },
   "outputs": [],
   "source": []
  },
  {
   "cell_type": "code",
   "execution_count": null,
   "metadata": {
    "collapsed": true
   },
   "outputs": [],
   "source": []
  },
  {
   "cell_type": "markdown",
   "metadata": {},
   "source": [
    "### zip_code\n",
    "\n",
    "shouldn't leave as int, but 56 unique values\n",
    "\n",
    "maybe str them and dummy out"
   ]
  },
  {
   "cell_type": "code",
   "execution_count": 46,
   "metadata": {
    "collapsed": false,
    "scrolled": true
   },
   "outputs": [
    {
     "data": {
      "text/plain": [
       "56"
      ]
     },
     "execution_count": 46,
     "metadata": {},
     "output_type": "execute_result"
    }
   ],
   "source": [
    "houses1['zip_code'].nunique()"
   ]
  },
  {
   "cell_type": "code",
   "execution_count": 47,
   "metadata": {
    "collapsed": false,
    "scrolled": true
   },
   "outputs": [
    {
     "data": {
      "text/plain": [
       "60614    134\n",
       "60611    132\n",
       "60610    130\n",
       "60657    128\n",
       "60601    126\n",
       "60659    126\n",
       "60613    125\n",
       "60647    124\n",
       "60605    124\n",
       "60603    123\n",
       "60622    117\n",
       "60640    117\n",
       "60607    117\n",
       "60646    116\n",
       "60618    116\n",
       "60660    115\n",
       "60626    114\n",
       "60617    113\n",
       "60609    112\n",
       "60625    112\n",
       "60656    112\n",
       "60643    111\n",
       "60619    109\n",
       "60628    109\n",
       "60621    107\n",
       "60634    103\n",
       "60645    103\n",
       "60620    103\n",
       "60631    102\n",
       "60661    102\n",
       "60624    101\n",
       "60616    101\n",
       "60636    101\n",
       "60629    100\n",
       "60606    100\n",
       "60608     99\n",
       "60630     99\n",
       "60652     97\n",
       "60623     97\n",
       "60615     96\n",
       "60612     95\n",
       "60641     94\n",
       "60655     93\n",
       "60653     91\n",
       "60637     91\n",
       "60651     90\n",
       "60649     88\n",
       "60644     86\n",
       "60827     85\n",
       "60635     85\n",
       "60639     85\n",
       "60633     85\n",
       "60632     81\n",
       "60638     79\n",
       "60602     70\n",
       "60604     60\n",
       "Name: zip_code, dtype: int64"
      ]
     },
     "execution_count": 47,
     "metadata": {},
     "output_type": "execute_result"
    }
   ],
   "source": [
    "## none of them really warrent dropping\n",
    "\n",
    "houses1['zip_code'].value_counts()"
   ]
  },
  {
   "cell_type": "code",
   "execution_count": 48,
   "metadata": {
    "collapsed": true
   },
   "outputs": [],
   "source": [
    "## converts zip codes to str\n",
    "\n",
    "houses1['zip_code'] = houses1['zip_code'].apply(str)"
   ]
  },
  {
   "cell_type": "code",
   "execution_count": 49,
   "metadata": {
    "collapsed": true
   },
   "outputs": [],
   "source": [
    "## creates zip code dummy variables\n",
    "\n",
    "for i in list(set(list(houses1['zip_code']))):\n",
    "    houses1['zip_'+i] = houses1['zip_code'].apply(lambda x: 1 if i in x else 0)"
   ]
  },
  {
   "cell_type": "markdown",
   "metadata": {},
   "source": [
    "### status"
   ]
  },
  {
   "cell_type": "code",
   "execution_count": 50,
   "metadata": {
    "collapsed": false,
    "scrolled": false
   },
   "outputs": [
    {
     "data": {
      "text/plain": [
       "Condo For Sale               1943\n",
       "House For Sale               1335\n",
       "Foreclosed                    507\n",
       "Apartment For Sale            476\n",
       "Pre-Foreclosure               303\n",
       "Pre-Foreclosure (Auction)     228\n",
       "Auction                       207\n",
       "Foreclosure                   193\n",
       "For Sale by Owner             164\n",
       "New Construction              143\n",
       "Lot/Land For Sale             125\n",
       "Townhouse For Sale            109\n",
       "Make Me Move®                  69\n",
       "Co-op For Sale                 20\n",
       "Coming Soon                     9\n",
       "Name: status, dtype: int64"
      ]
     },
     "execution_count": 50,
     "metadata": {},
     "output_type": "execute_result"
    }
   ],
   "source": [
    "houses1['status'].value_counts()"
   ]
  },
  {
   "cell_type": "code",
   "execution_count": 51,
   "metadata": {
    "collapsed": false,
    "scrolled": true
   },
   "outputs": [
    {
     "data": {
      "text/plain": [
       "['Pre-Foreclosure (Auction)',\n",
       " 'Make Me Move\\xc2\\xae',\n",
       " 'Apartment For Sale',\n",
       " 'Foreclosure',\n",
       " 'Coming Soon',\n",
       " 'Auction',\n",
       " 'For Sale by Owner',\n",
       " 'Lot/Land For Sale',\n",
       " 'Townhouse For Sale',\n",
       " 'House For Sale',\n",
       " 'Foreclosed',\n",
       " 'Condo For Sale',\n",
       " 'Co-op For Sale',\n",
       " 'New Construction',\n",
       " 'Pre-Foreclosure']"
      ]
     },
     "execution_count": 51,
     "metadata": {},
     "output_type": "execute_result"
    }
   ],
   "source": [
    "list(set(list(houses1['status'])))"
   ]
  },
  {
   "cell_type": "code",
   "execution_count": 52,
   "metadata": {
    "collapsed": true
   },
   "outputs": [],
   "source": [
    "## list of housing statuses, with a couple removed\n",
    "housing_statuses = ['Pre-Foreclosure (Auction)', 'Make Me Move',\n",
    "                    'Apartment For Sale', 'Foreclosure', 'Auction', 'For Sale by Owner',\n",
    "                    'Lot/Land For Sale', 'Townhouse For Sale', 'House For Sale', 'Foreclosed',\n",
    "                    'Condo For Sale', 'Co-op For Sale','New Construction','Pre-Foreclosure']\n",
    "\n",
    "for i in housing_statuses:\n",
    "    i_cleaned = i.replace(\" \", \"_\")\n",
    "    houses1['status_' + i_cleaned] = houses1['status'].apply(lambda x: 1 if i == x else 0)"
   ]
  },
  {
   "cell_type": "markdown",
   "metadata": {},
   "source": [
    "### Target"
   ]
  },
  {
   "cell_type": "code",
   "execution_count": 53,
   "metadata": {
    "collapsed": false
   },
   "outputs": [
    {
     "data": {
      "text/plain": [
       "count    5.831000e+03\n",
       "mean     4.171323e+05\n",
       "std      7.407505e+05\n",
       "min      1.070000e+00\n",
       "25%      1.220000e+05\n",
       "50%      2.390000e+05\n",
       "75%      4.499000e+05\n",
       "max      1.300000e+07\n",
       "Name: all_prices, dtype: float64"
      ]
     },
     "execution_count": 53,
     "metadata": {},
     "output_type": "execute_result"
    }
   ],
   "source": [
    "houses1['all_prices'].describe()"
   ]
  },
  {
   "cell_type": "code",
   "execution_count": 54,
   "metadata": {
    "collapsed": false,
    "scrolled": true
   },
   "outputs": [
    {
     "data": {
      "text/plain": [
       "(array([  1.00000000e+00,   8.00000000e+00,   1.07000000e+02,\n",
       "          9.10000000e+01,   5.00000000e+00,   1.13000000e+02,\n",
       "          8.16000000e+02,   3.38500000e+03,   1.21600000e+03,\n",
       "          8.90000000e+01]),\n",
       " array([  0.06765865,   1.69893878,   3.3302189 ,   4.96149903,\n",
       "          6.59277916,   8.22405928,   9.85533941,  11.48661954,\n",
       "         13.11789966,  14.74917979,  16.38045992]),\n",
       " <a list of 10 Patch objects>)"
      ]
     },
     "execution_count": 54,
     "metadata": {},
     "output_type": "execute_result"
    },
    {
     "data": {
      "image/png": "[encoded data removed]",
      "text/plain": [
       "<matplotlib.figure.Figure at 0x11612a910>"
      ]
     },
     "metadata": {},
     "output_type": "display_data"
    }
   ],
   "source": [
    "plt.hist(np.log(houses1['all_prices']))"
   ]
  },
  {
   "cell_type": "code",
   "execution_count": 55,
   "metadata": {
    "collapsed": true
   },
   "outputs": [],
   "source": [
    "houses1['log_price'] = np.log(houses1['all_prices'])"
   ]
  },
  {
   "cell_type": "code",
   "execution_count": 56,
   "metadata": {
    "collapsed": false
   },
   "outputs": [
    {
     "data": {
      "text/plain": [
       "count    5831.000000\n",
       "mean       12.123454\n",
       "std         1.766605\n",
       "min         0.067659\n",
       "25%        11.711776\n",
       "50%        12.384219\n",
       "75%        13.016781\n",
       "max        16.380460\n",
       "Name: log_price, dtype: float64"
      ]
     },
     "execution_count": 56,
     "metadata": {},
     "output_type": "execute_result"
    }
   ],
   "source": [
    "houses1['log_price'].describe()"
   ]
  },
  {
   "cell_type": "code",
   "execution_count": 57,
   "metadata": {
    "collapsed": true
   },
   "outputs": [],
   "source": [
    "houses1['high_price'] = houses1['all_prices'].apply(lambda x: 1 if x > np.mean(houses1['all_prices']) else 0)"
   ]
  },
  {
   "cell_type": "code",
   "execution_count": 58,
   "metadata": {
    "collapsed": false
   },
   "outputs": [
    {
     "data": {
      "text/plain": [
       "0    4212\n",
       "1    1619\n",
       "Name: high_price, dtype: int64"
      ]
     },
     "execution_count": 58,
     "metadata": {},
     "output_type": "execute_result"
    }
   ],
   "source": [
    "houses1['high_price'].value_counts()"
   ]
  },
  {
   "cell_type": "code",
   "execution_count": 59,
   "metadata": {
    "collapsed": true
   },
   "outputs": [],
   "source": [
    "houses1['high_price2'] = houses1['all_prices'].apply(lambda x: 1 if x > np.median(houses1['all_prices']) else 0)"
   ]
  },
  {
   "cell_type": "code",
   "execution_count": 60,
   "metadata": {
    "collapsed": false
   },
   "outputs": [
    {
     "data": {
      "text/plain": [
       "0    2916\n",
       "1    2915\n",
       "Name: high_price2, dtype: int64"
      ]
     },
     "execution_count": 60,
     "metadata": {},
     "output_type": "execute_result"
    }
   ],
   "source": [
    "houses1['high_price2'].value_counts()"
   ]
  },
  {
   "cell_type": "code",
   "execution_count": 61,
   "metadata": {
    "collapsed": false,
    "scrolled": true
   },
   "outputs": [
    {
     "data": {
      "text/plain": [
       "count    5.831000e+03\n",
       "mean     4.171323e+05\n",
       "std      7.407505e+05\n",
       "min      1.070000e+00\n",
       "25%      1.220000e+05\n",
       "50%      2.390000e+05\n",
       "75%      4.499000e+05\n",
       "max      1.300000e+07\n",
       "Name: all_prices, dtype: float64"
      ]
     },
     "execution_count": 61,
     "metadata": {},
     "output_type": "execute_result"
    }
   ],
   "source": [
    "houses1['all_prices'].describe()"
   ]
  },
  {
   "cell_type": "code",
   "execution_count": 62,
   "metadata": {
    "collapsed": false
   },
   "outputs": [
    {
     "data": {
      "text/plain": [
       "239000.0"
      ]
     },
     "execution_count": 62,
     "metadata": {},
     "output_type": "execute_result"
    }
   ],
   "source": [
    "houses1['all_prices'].median()"
   ]
  },
  {
   "cell_type": "code",
   "execution_count": 63,
   "metadata": {
    "collapsed": false,
    "scrolled": false
   },
   "outputs": [
    {
     "data": {
      "text/plain": [
       "Index([u'address', u'bed_bath', u'more_info', u'price', u'status', u'zip_code',\n",
       "       u'cleaned_price', u'bb_check', u'sqft', u'baths', u'bedrooms',\n",
       "       u'forclosure_info', u'foreclosure_value', u'all_prices', u'zip_60637',\n",
       "       u'zip_60645', u'zip_60644', u'zip_60632', u'zip_60661', u'zip_60660',\n",
       "       u'zip_60655', u'zip_60633', u'zip_60639', u'zip_60605', u'zip_60604',\n",
       "       u'zip_60607', u'zip_60606', u'zip_60601', u'zip_60626', u'zip_60603',\n",
       "       u'zip_60602', u'zip_60641', u'zip_60640', u'zip_60629', u'zip_60628',\n",
       "       u'zip_60609', u'zip_60608', u'zip_60647', u'zip_60646', u'zip_60659',\n",
       "       u'zip_60651', u'zip_60623', u'zip_60622', u'zip_60656', u'zip_60621',\n",
       "       u'zip_60649', u'zip_60620', u'zip_60638', u'zip_60625', u'zip_60616',\n",
       "       u'zip_60617', u'zip_60614', u'zip_60615', u'zip_60612', u'zip_60613',\n",
       "       u'zip_60610', u'zip_60611', u'zip_60634', u'zip_60635', u'zip_60636',\n",
       "       u'zip_60624', u'zip_60630', u'zip_60631', u'zip_60618', u'zip_60619',\n",
       "       u'zip_60652', u'zip_60657', u'zip_60653', u'zip_60827', u'zip_60643',\n",
       "       u'status_Pre-Foreclosure_(Auction)', u'status_Make_Me_Move',\n",
       "       u'status_Apartment_For_Sale', u'status_Foreclosure', u'status_Auction',\n",
       "       u'status_For_Sale_by_Owner', u'status_Lot/Land_For_Sale',\n",
       "       u'status_Townhouse_For_Sale', u'status_House_For_Sale',\n",
       "       u'status_Foreclosed', u'status_Condo_For_Sale',\n",
       "       u'status_Co-op_For_Sale', u'status_New_Construction',\n",
       "       u'status_Pre-Foreclosure', u'log_price', u'high_price', u'high_price2'],\n",
       "      dtype='object')"
      ]
     },
     "execution_count": 63,
     "metadata": {},
     "output_type": "execute_result"
    }
   ],
   "source": [
    "houses1.columns"
   ]
  },
  {
   "cell_type": "code",
   "execution_count": 64,
   "metadata": {
    "collapsed": true
   },
   "outputs": [],
   "source": [
    "houses1['sqft'].fillna(np.mean(houses1['sqft']), inplace=True)\n",
    "houses1['baths'].fillna(np.mean(houses1['baths']), inplace=True)\n",
    "houses1['bedrooms'].fillna(np.mean(houses1['bedrooms']), inplace=True)"
   ]
  },
  {
   "cell_type": "markdown",
   "metadata": {},
   "source": [
    "# setting x and y"
   ]
  },
  {
   "cell_type": "code",
   "execution_count": 65,
   "metadata": {
    "collapsed": true
   },
   "outputs": [],
   "source": [
    "y = houses1['high_price2']\n",
    "x = houses1[['sqft', u'baths', u'bedrooms', \n",
    "            'zip_60637',\n",
    "            u'zip_60645', u'zip_60644', u'zip_60632', u'zip_60661', u'zip_60660',\n",
    "            u'zip_60655', u'zip_60633', u'zip_60639', u'zip_60605',\n",
    "            u'zip_60607', u'zip_60606', u'zip_60601', u'zip_60626', u'zip_60603',\n",
    "            u'zip_60602', u'zip_60641', u'zip_60640', u'zip_60629', u'zip_60628',\n",
    "            u'zip_60609', u'zip_60608', u'zip_60647', u'zip_60646', u'zip_60659',\n",
    "            u'zip_60651', u'zip_60623', u'zip_60622', u'zip_60656', u'zip_60621',\n",
    "            u'zip_60649', u'zip_60620', u'zip_60638', u'zip_60625', u'zip_60616',\n",
    "            u'zip_60617', u'zip_60614', u'zip_60615', u'zip_60612', u'zip_60613',\n",
    "            u'zip_60610', u'zip_60611', u'zip_60634', u'zip_60635', u'zip_60636',\n",
    "            u'zip_60624', u'zip_60630', u'zip_60631', u'zip_60618', u'zip_60619',\n",
    "            u'zip_60652', u'zip_60657', u'zip_60653', u'zip_60827', u'zip_60643',\n",
    "            u'status_Pre-Foreclosure_(Auction)', u'status_Make_Me_Move',\n",
    "            u'status_Apartment_For_Sale', u'status_Foreclosure', u'status_Auction',\n",
    "            u'status_For_Sale_by_Owner', u'status_Lot/Land_For_Sale',\n",
    "            u'status_Townhouse_For_Sale', u'status_House_For_Sale',\n",
    "            u'status_Foreclosed', u'status_Condo_For_Sale',\n",
    "            u'status_Co-op_For_Sale', u'status_New_Construction',\n",
    "            u'status_Pre-Foreclosure']].copy()"
   ]
  },
  {
   "cell_type": "code",
   "execution_count": 66,
   "metadata": {
    "collapsed": true
   },
   "outputs": [],
   "source": [
    "x = StandardScaler().fit_transform(x)"
   ]
  },
  {
   "cell_type": "code",
   "execution_count": null,
   "metadata": {
    "collapsed": false
   },
   "outputs": [],
   "source": []
  },
  {
   "cell_type": "code",
   "execution_count": 67,
   "metadata": {
    "collapsed": false
   },
   "outputs": [
    {
     "data": {
      "text/plain": [
       "(5831, 72)"
      ]
     },
     "execution_count": 67,
     "metadata": {},
     "output_type": "execute_result"
    }
   ],
   "source": [
    "x.shape"
   ]
  },
  {
   "cell_type": "code",
   "execution_count": 68,
   "metadata": {
    "collapsed": false
   },
   "outputs": [
    {
     "data": {
      "text/plain": [
       "(5831,)"
      ]
     },
     "execution_count": 68,
     "metadata": {},
     "output_type": "execute_result"
    }
   ],
   "source": [
    "y.shape"
   ]
  },
  {
   "cell_type": "code",
   "execution_count": null,
   "metadata": {
    "collapsed": true
   },
   "outputs": [],
   "source": []
  },
  {
   "cell_type": "code",
   "execution_count": null,
   "metadata": {
    "collapsed": false
   },
   "outputs": [],
   "source": []
  },
  {
   "cell_type": "code",
   "execution_count": 69,
   "metadata": {
    "collapsed": true
   },
   "outputs": [],
   "source": [
    "x_train, x_test, y_train, y_test = train_test_split(x,y)"
   ]
  },
  {
   "cell_type": "code",
   "execution_count": 70,
   "metadata": {
    "collapsed": false
   },
   "outputs": [
    {
     "data": {
      "text/plain": [
       "(4373, 72)"
      ]
     },
     "execution_count": 70,
     "metadata": {},
     "output_type": "execute_result"
    }
   ],
   "source": [
    "x_train.shape"
   ]
  },
  {
   "cell_type": "code",
   "execution_count": 71,
   "metadata": {
    "collapsed": false
   },
   "outputs": [
    {
     "data": {
      "text/plain": [
       "(1458, 72)"
      ]
     },
     "execution_count": 71,
     "metadata": {},
     "output_type": "execute_result"
    }
   ],
   "source": [
    "x_test.shape"
   ]
  },
  {
   "cell_type": "markdown",
   "metadata": {},
   "source": [
    "# Modeling"
   ]
  },
  {
   "cell_type": "code",
   "execution_count": 72,
   "metadata": {
    "collapsed": true
   },
   "outputs": [],
   "source": [
    "lm = LogisticRegression()"
   ]
  },
  {
   "cell_type": "code",
   "execution_count": 73,
   "metadata": {
    "collapsed": true
   },
   "outputs": [],
   "source": [
    "def run_model(x_train, y_train, x_test, y_test, model):\n",
    "    model.fit(x_train, y_train)\n",
    "    print \"Base model score: \" + str(np.mean(y_test))[:6]\n",
    "    print \"Training set score: \", str(model.score(x_train, y_train))[:6]\n",
    "    print \"Test set score: \", str(model.score(x_test, y_test))[:6]\n",
    "    predictions = model.predict(x_test)\n",
    "    print \"\\nConfusion Matrix:\\n\", pd.DataFrame(confusion_matrix(y_test, predictions), \n",
    "                                              columns=['predicted_0', 'predicted_1'], index=['is_0', 'is_1'])\n",
    "    print \"\\nClassification Report:\\n\",classification_report(y_test, predictions)"
   ]
  },
  {
   "cell_type": "code",
   "execution_count": 74,
   "metadata": {
    "collapsed": false
   },
   "outputs": [
    {
     "name": "stdout",
     "output_type": "stream",
     "text": [
      "Base model score: 0.4958\n",
      "Training set score:  0.8728\n",
      "Test set score:  0.8936\n",
      "\n",
      "Confusion Matrix:\n",
      "      predicted_0  predicted_1\n",
      "is_0          657           78\n",
      "is_1           77          646\n",
      "\n",
      "Classification Report:\n",
      "             precision    recall  f1-score   support\n",
      "\n",
      "          0       0.90      0.89      0.89       735\n",
      "          1       0.89      0.89      0.89       723\n",
      "\n",
      "avg / total       0.89      0.89      0.89      1458\n",
      "\n"
     ]
    }
   ],
   "source": [
    "run_model(x_train, y_train, x_test, y_test, lm)"
   ]
  },
  {
   "cell_type": "code",
   "execution_count": 80,
   "metadata": {
    "collapsed": true
   },
   "outputs": [],
   "source": [
    "ab = AdaBoostClassifier()\n",
    "gbm = GradientBoostingClassifier()\n",
    "rf = RandomForestClassifier()\n",
    "et = ExtraTreesClassifier()\n",
    "knn = KNeighborsClassifier(n_neighbors=5)\n",
    "dt = DecisionTreeClassifier()"
   ]
  },
  {
   "cell_type": "code",
   "execution_count": 76,
   "metadata": {
    "collapsed": false
   },
   "outputs": [
    {
     "data": {
      "text/plain": [
       "AdaBoostClassifier(algorithm='SAMME.R', base_estimator=None,\n",
       "          learning_rate=1.0, n_estimators=50, random_state=None)"
      ]
     },
     "execution_count": 76,
     "metadata": {},
     "output_type": "execute_result"
    }
   ],
   "source": [
    "ab"
   ]
  },
  {
   "cell_type": "code",
   "execution_count": 81,
   "metadata": {
    "collapsed": false
   },
   "outputs": [
    {
     "name": "stdout",
     "output_type": "stream",
     "text": [
      "\n",
      "Model:  KNeighborsClassifier\n",
      "KNeighborsClassifier(algorithm='auto', leaf_size=30, metric='minkowski',\n",
      "           metric_params=None, n_jobs=1, n_neighbors=5, p=2,\n",
      "           weights='uniform')\n",
      "Base model score: 0.4958\n",
      "Training set score:  0.9046\n",
      "Test set score:  0.9005\n",
      "\n",
      "Confusion Matrix:\n",
      "      predicted_0  predicted_1\n",
      "is_0          661           74\n",
      "is_1           71          652\n",
      "\n",
      "Classification Report:\n",
      "             precision    recall  f1-score   support\n",
      "\n",
      "          0       0.90      0.90      0.90       735\n",
      "          1       0.90      0.90      0.90       723\n",
      "\n",
      "avg / total       0.90      0.90      0.90      1458\n",
      "\n",
      "\n",
      "\n",
      "\n",
      "Model:  RandomForestClassifier\n",
      "RandomForestClassifier(bootstrap=True, class_weight=None, criterion='gini',\n",
      "            max_depth=None, max_features='auto', max_leaf_nodes=None,\n",
      "            min_impurity_split=1e-07, min_samples_leaf=1,\n",
      "            min_samples_split=2, min_weight_fraction_leaf=0.0,\n",
      "            n_estimators=10, n_jobs=1, oob_score=False, random_state=None,\n",
      "            verbose=0, warm_start=False)\n",
      "Base model score: 0.4958\n",
      "Training set score:  0.9757\n",
      "Test set score:  0.8930\n",
      "\n",
      "Confusion Matrix:\n",
      "      predicted_0  predicted_1\n",
      "is_0          673           62\n",
      "is_1           94          629\n",
      "\n",
      "Classification Report:\n",
      "             precision    recall  f1-score   support\n",
      "\n",
      "          0       0.88      0.92      0.90       735\n",
      "          1       0.91      0.87      0.89       723\n",
      "\n",
      "avg / total       0.89      0.89      0.89      1458\n",
      "\n",
      "\n",
      "\n",
      "\n",
      "Model:  ExtraTreesClassifier\n",
      "ExtraTreesClassifier(bootstrap=False, class_weight=None, criterion='gini',\n",
      "           max_depth=None, max_features='auto', max_leaf_nodes=None,\n",
      "           min_impurity_split=1e-07, min_samples_leaf=1,\n",
      "           min_samples_split=2, min_weight_fraction_leaf=0.0,\n",
      "           n_estimators=10, n_jobs=1, oob_score=False, random_state=None,\n",
      "           verbose=0, warm_start=False)\n",
      "Base model score: 0.4958\n",
      "Training set score:  0.9839\n",
      "Test set score:  0.8971\n",
      "\n",
      "Confusion Matrix:\n",
      "      predicted_0  predicted_1\n",
      "is_0          671           64\n",
      "is_1           86          637\n",
      "\n",
      "Classification Report:\n",
      "             precision    recall  f1-score   support\n",
      "\n",
      "          0       0.89      0.91      0.90       735\n",
      "          1       0.91      0.88      0.89       723\n",
      "\n",
      "avg / total       0.90      0.90      0.90      1458\n",
      "\n",
      "\n",
      "\n",
      "\n",
      "Model:  GradientBoostingClassifier\n",
      "GradientBoostingClassifier(criterion='friedman_mse', init=None,\n",
      "              learning_rate=0.1, loss='deviance', max_depth=3,\n",
      "              max_features=None, max_leaf_nodes=None,\n",
      "              min_impurity_split=1e-07, min_samples_leaf=1,\n",
      "              min_samples_split=2, min_weight_fraction_leaf=0.0,\n",
      "              n_estimators=100, presort='auto', random_state=None,\n",
      "              subsample=1.0, verbose=0, warm_start=False)\n",
      "Base model score: 0.4958\n",
      "Training set score:  0.8611\n",
      "Test set score:  0.8607\n",
      "\n",
      "Confusion Matrix:\n",
      "      predicted_0  predicted_1\n",
      "is_0          656           79\n",
      "is_1          124          599\n",
      "\n",
      "Classification Report:\n",
      "             precision    recall  f1-score   support\n",
      "\n",
      "          0       0.84      0.89      0.87       735\n",
      "          1       0.88      0.83      0.86       723\n",
      "\n",
      "avg / total       0.86      0.86      0.86      1458\n",
      "\n",
      "\n",
      "\n",
      "\n",
      "Model:  AdaBoostClassifier\n",
      "AdaBoostClassifier(algorithm='SAMME.R', base_estimator=None,\n",
      "          learning_rate=1.0, n_estimators=50, random_state=None)\n",
      "Base model score: 0.4958\n",
      "Training set score:  0.8598\n",
      "Test set score:  0.8895\n",
      "\n",
      "Confusion Matrix:\n",
      "      predicted_0  predicted_1\n",
      "is_0          651           84\n",
      "is_1           77          646\n",
      "\n",
      "Classification Report:\n",
      "             precision    recall  f1-score   support\n",
      "\n",
      "          0       0.89      0.89      0.89       735\n",
      "          1       0.88      0.89      0.89       723\n",
      "\n",
      "avg / total       0.89      0.89      0.89      1458\n",
      "\n",
      "\n",
      "\n",
      "\n",
      "Model:  DecisionTreeClassifier\n",
      "DecisionTreeClassifier(class_weight=None, criterion='gini', max_depth=None,\n",
      "            max_features=None, max_leaf_nodes=None,\n",
      "            min_impurity_split=1e-07, min_samples_leaf=1,\n",
      "            min_samples_split=2, min_weight_fraction_leaf=0.0,\n",
      "            presort=False, random_state=None, splitter='best')\n",
      "Base model score: 0.4958\n",
      "Training set score:  0.9839\n",
      "Test set score:  0.8916\n",
      "\n",
      "Confusion Matrix:\n",
      "      predicted_0  predicted_1\n",
      "is_0          659           76\n",
      "is_1           82          641\n",
      "\n",
      "Classification Report:\n",
      "             precision    recall  f1-score   support\n",
      "\n",
      "          0       0.89      0.90      0.89       735\n",
      "          1       0.89      0.89      0.89       723\n",
      "\n",
      "avg / total       0.89      0.89      0.89      1458\n",
      "\n",
      "\n",
      "\n"
     ]
    }
   ],
   "source": [
    "models = [knn, rf, et, gbm, ab, dt]\n",
    "for model in models:\n",
    "    print \"\\nModel: \", str(model).split(\"(\")[0]\n",
    "    print model\n",
    "    run_model(x_train, y_train, x_test, y_test, model)\n",
    "    print \"\\n\""
   ]
  },
  {
   "cell_type": "code",
   "execution_count": 78,
   "metadata": {
    "collapsed": true
   },
   "outputs": [],
   "source": [
    "ab?"
   ]
  },
  {
   "cell_type": "code",
   "execution_count": null,
   "metadata": {
    "collapsed": true
   },
   "outputs": [],
   "source": []
  }
 ],
 "metadata": {
  "anaconda-cloud": {},
  "kernelspec": {
   "display_name": "Python [Root]",
   "language": "python",
   "name": "Python [Root]"
  },
  "language_info": {
   "codemirror_mode": {
    "name": "ipython",
    "version": 2
   },
   "file_extension": ".py",
   "mimetype": "text/x-python",
   "name": "python",
   "nbconvert_exporter": "python",
   "pygments_lexer": "ipython2",
   "version": "2.7.12"
  }
 },
 "nbformat": 4,
 "nbformat_minor": 2
}
